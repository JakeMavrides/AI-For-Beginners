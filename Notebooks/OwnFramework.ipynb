{
  "cells": [
    {
      "cell_type": "markdown",
      "metadata": {
        "id": "view-in-github",
        "colab_type": "text"
      },
      "source": [
        "<a href=\"https://colab.research.google.com/github/JakeMavrides/AI-For-Beginners/blob/main/OwnFramework.ipynb\" target=\"_parent\"><img src=\"https://colab.research.google.com/assets/colab-badge.svg\" alt=\"Open In Colab\"/></a>"
      ]
    },
    {
      "cell_type": "markdown",
      "metadata": {
        "id": "mFqSiLOe3y3J"
      },
      "source": [
        "## Multi-Layered Perceptrons\n",
        "## Building our own Neural Framework\n",
        "\n",
        "> This notebook is a part of [AI for Beginners Curricula](http://github.com/microsoft/ai-for-beginners). Visit the repository for complete set of learning materials.\n",
        "\n",
        "In this notebook, we will gradually build our own neural framework capable of solving multi-class classification tasks as well as regression with multi-layered preceptrons.\n",
        "\n",
        "First, let's import some required libraries."
      ]
    },
    {
      "cell_type": "code",
      "execution_count": null,
      "metadata": {
        "id": "2TWYbmtA3y3K"
      },
      "outputs": [],
      "source": [
        "from matplotlib import pyplot as plt\n",
        "from matplotlib import gridspec\n",
        "from sklearn.datasets import make_classification\n",
        "import numpy as np\n",
        "# pick the seed for reproducibility - change it to explore the effects of random variations\n",
        "np.random.seed(0)\n",
        "import random"
      ]
    },
    {
      "cell_type": "markdown",
      "metadata": {
        "id": "bZZLM6QM3y3L"
      },
      "source": [
        "## Sample Dataset\n",
        "\n",
        "As before, we will start with a simple sample dataset with two parameters.\n"
      ]
    },
    {
      "cell_type": "code",
      "execution_count": null,
      "metadata": {
        "scrolled": false,
        "id": "zzKl9VYJ3y3L"
      },
      "outputs": [],
      "source": [
        "n = 100\n",
        "X, Y = make_classification(n_samples = n, n_features=2,\n",
        "                           n_redundant=0, n_informative=2, flip_y=0.2)\n",
        "X = X.astype(np.float32)\n",
        "Y = Y.astype(np.int32)\n",
        "\n",
        "# Split into train and test dataset\n",
        "train_x, test_x = np.split(X, [n * 8//10])\n",
        "train_labels, test_labels = np.split(Y, [n * 8//10])"
      ]
    },
    {
      "cell_type": "code",
      "execution_count": null,
      "metadata": {
        "scrolled": false,
        "id": "qLrCm4tm3y3M"
      },
      "outputs": [],
      "source": [
        "# def plot_dataset(suptitle, features, labels):\n",
        "#     # prepare the plot\n",
        "#     fig, ax = plt.subplots(1, 1)\n",
        "#     #pylab.subplots_adjust(bottom=0.2, wspace=0.4)\n",
        "#     fig.suptitle(suptitle, fontsize = 16)\n",
        "#     ax.set_xlabel('$x_i[0]$ -- (feature 1)')\n",
        "#     ax.set_ylabel('$x_i[1]$ -- (feature 2)')\n",
        "\n",
        "#     colors = ['r' if l else 'b' for l in labels]\n",
        "#     ax.scatter(features[:, 0], features[:, 1], marker='o', c=colors, s=100, alpha = 0.5)\n",
        "#     fig.show()"
      ]
    },
    {
      "cell_type": "code",
      "source": [
        "colors = ['r' if l else 'b' for l in train_labels]\n",
        "plt.scatter(train_x[:, 0], train_x[:, 1], c=colors)\n",
        "plt.show()"
      ],
      "metadata": {
        "colab": {
          "base_uri": "https://localhost:8080/",
          "height": 430
        },
        "id": "eBNZGL7v5YU7",
        "outputId": "becf07ac-30e9-4d64-a5fa-4c7389169cf8"
      },
      "execution_count": null,
      "outputs": [
        {
          "output_type": "display_data",
          "data": {
            "text/plain": [
              "<Figure size 640x480 with 1 Axes>"
            ],
            "image/png": "[encoded data removed]"
          },
          "metadata": {}
        }
      ]
    },
    {
      "cell_type": "code",
      "execution_count": null,
      "metadata": {
        "scrolled": false,
        "colab": {
          "base_uri": "https://localhost:8080/",
          "height": 17
        },
        "id": "UByYxJd-3y3M",
        "outputId": "a93afcbd-3a5d-47e7-adb7-8b5d0fe6931c"
      },
      "outputs": [
        {
          "output_type": "display_data",
          "data": {
            "text/plain": [
              "<IPython.core.display.Javascript object>"
            ],
            "application/javascript": [
              "/* Put everything inside the global mpl namespace */\n",
              "/* global mpl */\n",
              "window.mpl = {};\n",
              "\n",
              "mpl.get_websocket_type = function () {\n",
              "    if (typeof WebSocket !== 'undefined') {\n",
              "        return WebSocket;\n",
              "    } else if (typeof MozWebSocket !== 'undefined') {\n",
              "        return MozWebSocket;\n",
              "    } else {\n",
              "        alert(\n",
              "            'Your browser does not have WebSocket support. ' +\n",
              "                'Please try Chrome, Safari or Firefox ≥ 6. ' +\n",
              "                'Firefox 4 and 5 are also supported but you ' +\n",
              "                'have to enable WebSockets in about:config.'\n",
              "        );\n",
              "    }\n",
              "};\n",
              "\n",
              "mpl.figure = function (figure_id, websocket, ondownload, parent_element) {\n",
              "    this.id = figure_id;\n",
              "\n",
              "    this.ws = websocket;\n",
              "\n",
              "    this.supports_binary = this.ws.binaryType !== undefined;\n",
              "\n",
              "    if (!this.supports_binary) {\n",
              "        var warnings = document.getElementById('mpl-warnings');\n",
              "        if (warnings) {\n",
              "            warnings.style.display = 'block';\n",
              "            warnings.textContent =\n",
              "                'This browser does not support binary websocket messages. ' +\n",
              "                'Performance may be slow.';\n",
              "        }\n",
              "    }\n",
              "\n",
              "    this.imageObj = new Image();\n",
              "\n",
              "    this.context = undefined;\n",
              "    this.message = undefined;\n",
              "    this.canvas = undefined;\n",
              "    this.rubberband_canvas = undefined;\n",
              "    this.rubberband_context = undefined;\n",
              "    this.format_dropdown = undefined;\n",
              "\n",
              "    this.image_mode = 'full';\n",
              "\n",
              "    this.root = document.createElement('div');\n",
              "    this.root.setAttribute('style', 'display: inline-block');\n",
              "    this._root_extra_style(this.root);\n",
              "\n",
              "    parent_element.appendChild(this.root);\n",
              "\n",
              "    this._init_header(this);\n",
              "    this._init_canvas(this);\n",
              "    this._init_toolbar(this);\n",
              "\n",
              "    var fig = this;\n",
              "\n",
              "    this.waiting = false;\n",
              "\n",
              "    this.ws.onopen = function () {\n",
              "        fig.send_message('supports_binary', { value: fig.supports_binary });\n",
              "        fig.send_message('send_image_mode', {});\n",
              "        if (fig.ratio !== 1) {\n",
              "            fig.send_message('set_device_pixel_ratio', {\n",
              "                device_pixel_ratio: fig.ratio,\n",
              "            });\n",
              "        }\n",
              "        fig.send_message('refresh', {});\n",
              "    };\n",
              "\n",
              "    this.imageObj.onload = function () {\n",
              "        if (fig.image_mode === 'full') {\n",
              "            // Full images could contain transparency (where diff images\n",
              "            // almost always do), so we need to clear the canvas so that\n",
              "            // there is no ghosting.\n",
              "            fig.context.clearRect(0, 0, fig.canvas.width, fig.canvas.height);\n",
              "        }\n",
              "        fig.context.drawImage(fig.imageObj, 0, 0);\n",
              "    };\n",
              "\n",
              "    this.imageObj.onunload = function () {\n",
              "        fig.ws.close();\n",
              "    };\n",
              "\n",
              "    this.ws.onmessage = this._make_on_message_function(this);\n",
              "\n",
              "    this.ondownload = ondownload;\n",
              "};\n",
              "\n",
              "mpl.figure.prototype._init_header = function () {\n",
              "    var titlebar = document.createElement('div');\n",
              "    titlebar.classList =\n",
              "        'ui-dialog-titlebar ui-widget-header ui-corner-all ui-helper-clearfix';\n",
              "    var titletext = document.createElement('div');\n",
              "    titletext.classList = 'ui-dialog-title';\n",
              "    titletext.setAttribute(\n",
              "        'style',\n",
              "        'width: 100%; text-align: center; padding: 3px;'\n",
              "    );\n",
              "    titlebar.appendChild(titletext);\n",
              "    this.root.appendChild(titlebar);\n",
              "    this.header = titletext;\n",
              "};\n",
              "\n",
              "mpl.figure.prototype._canvas_extra_style = function (_canvas_div) {};\n",
              "\n",
              "mpl.figure.prototype._root_extra_style = function (_canvas_div) {};\n",
              "\n",
              "mpl.figure.prototype._init_canvas = function () {\n",
              "    var fig = this;\n",
              "\n",
              "    var canvas_div = (this.canvas_div = document.createElement('div'));\n",
              "    canvas_div.setAttribute('tabindex', '0');\n",
              "    canvas_div.setAttribute(\n",
              "        'style',\n",
              "        'border: 1px solid #ddd;' +\n",
              "            'box-sizing: content-box;' +\n",
              "            'clear: both;' +\n",
              "            'min-height: 1px;' +\n",
              "            'min-width: 1px;' +\n",
              "            'outline: 0;' +\n",
              "            'overflow: hidden;' +\n",
              "            'position: relative;' +\n",
              "            'resize: both;' +\n",
              "            'z-index: 2;'\n",
              "    );\n",
              "\n",
              "    function on_keyboard_event_closure(name) {\n",
              "        return function (event) {\n",
              "            return fig.key_event(event, name);\n",
              "        };\n",
              "    }\n",
              "\n",
              "    canvas_div.addEventListener(\n",
              "        'keydown',\n",
              "        on_keyboard_event_closure('key_press')\n",
              "    );\n",
              "    canvas_div.addEventListener(\n",
              "        'keyup',\n",
              "        on_keyboard_event_closure('key_release')\n",
              "    );\n",
              "\n",
              "    this._canvas_extra_style(canvas_div);\n",
              "    this.root.appendChild(canvas_div);\n",
              "\n",
              "    var canvas = (this.canvas = document.createElement('canvas'));\n",
              "    canvas.classList.add('mpl-canvas');\n",
              "    canvas.setAttribute(\n",
              "        'style',\n",
              "        'box-sizing: content-box;' +\n",
              "            'pointer-events: none;' +\n",
              "            'position: relative;' +\n",
              "            'z-index: 0;'\n",
              "    );\n",
              "\n",
              "    this.context = canvas.getContext('2d');\n",
              "\n",
              "    var backingStore =\n",
              "        this.context.backingStorePixelRatio ||\n",
              "        this.context.webkitBackingStorePixelRatio ||\n",
              "        this.context.mozBackingStorePixelRatio ||\n",
              "        this.context.msBackingStorePixelRatio ||\n",
              "        this.context.oBackingStorePixelRatio ||\n",
              "        this.context.backingStorePixelRatio ||\n",
              "        1;\n",
              "\n",
              "    this.ratio = (window.devicePixelRatio || 1) / backingStore;\n",
              "\n",
              "    var rubberband_canvas = (this.rubberband_canvas = document.createElement(\n",
              "        'canvas'\n",
              "    ));\n",
              "    rubberband_canvas.setAttribute(\n",
              "        'style',\n",
              "        'box-sizing: content-box;' +\n",
              "            'left: 0;' +\n",
              "            'pointer-events: none;' +\n",
              "            'position: absolute;' +\n",
              "            'top: 0;' +\n",
              "            'z-index: 1;'\n",
              "    );\n",
              "\n",
              "    // Apply a ponyfill if ResizeObserver is not implemented by browser.\n",
              "    if (this.ResizeObserver === undefined) {\n",
              "        if (window.ResizeObserver !== undefined) {\n",
              "            this.ResizeObserver = window.ResizeObserver;\n",
              "        } else {\n",
              "            var obs = _JSXTOOLS_RESIZE_OBSERVER({});\n",
              "            this.ResizeObserver = obs.ResizeObserver;\n",
              "        }\n",
              "    }\n",
              "\n",
              "    this.resizeObserverInstance = new this.ResizeObserver(function (entries) {\n",
              "        var nentries = entries.length;\n",
              "        for (var i = 0; i < nentries; i++) {\n",
              "            var entry = entries[i];\n",
              "            var width, height;\n",
              "            if (entry.contentBoxSize) {\n",
              "                if (entry.contentBoxSize instanceof Array) {\n",
              "                    // Chrome 84 implements new version of spec.\n",
              "                    width = entry.contentBoxSize[0].inlineSize;\n",
              "                    height = entry.contentBoxSize[0].blockSize;\n",
              "                } else {\n",
              "                    // Firefox implements old version of spec.\n",
              "                    width = entry.contentBoxSize.inlineSize;\n",
              "                    height = entry.contentBoxSize.blockSize;\n",
              "                }\n",
              "            } else {\n",
              "                // Chrome <84 implements even older version of spec.\n",
              "                width = entry.contentRect.width;\n",
              "                height = entry.contentRect.height;\n",
              "            }\n",
              "\n",
              "            // Keep the size of the canvas and rubber band canvas in sync with\n",
              "            // the canvas container.\n",
              "            if (entry.devicePixelContentBoxSize) {\n",
              "                // Chrome 84 implements new version of spec.\n",
              "                canvas.setAttribute(\n",
              "                    'width',\n",
              "                    entry.devicePixelContentBoxSize[0].inlineSize\n",
              "                );\n",
              "                canvas.setAttribute(\n",
              "                    'height',\n",
              "                    entry.devicePixelContentBoxSize[0].blockSize\n",
              "                );\n",
              "            } else {\n",
              "                canvas.setAttribute('width', width * fig.ratio);\n",
              "                canvas.setAttribute('height', height * fig.ratio);\n",
              "            }\n",
              "            /* This rescales the canvas back to display pixels, so that it\n",
              "             * appears correct on HiDPI screens. */\n",
              "            canvas.style.width = width + 'px';\n",
              "            canvas.style.height = height + 'px';\n",
              "\n",
              "            rubberband_canvas.setAttribute('width', width);\n",
              "            rubberband_canvas.setAttribute('height', height);\n",
              "\n",
              "            // And update the size in Python. We ignore the initial 0/0 size\n",
              "            // that occurs as the element is placed into the DOM, which should\n",
              "            // otherwise not happen due to the minimum size styling.\n",
              "            if (fig.ws.readyState == 1 && width != 0 && height != 0) {\n",
              "                fig.request_resize(width, height);\n",
              "            }\n",
              "        }\n",
              "    });\n",
              "    this.resizeObserverInstance.observe(canvas_div);\n",
              "\n",
              "    function on_mouse_event_closure(name) {\n",
              "        /* User Agent sniffing is bad, but WebKit is busted:\n",
              "         * https://bugs.webkit.org/show_bug.cgi?id=144526\n",
              "         * https://bugs.webkit.org/show_bug.cgi?id=181818\n",
              "         * The worst that happens here is that they get an extra browser\n",
              "         * selection when dragging, if this check fails to catch them.\n",
              "         */\n",
              "        var UA = navigator.userAgent;\n",
              "        var isWebKit = /AppleWebKit/.test(UA) && !/Chrome/.test(UA);\n",
              "        if(isWebKit) {\n",
              "            return function (event) {\n",
              "                /* This prevents the web browser from automatically changing to\n",
              "                 * the text insertion cursor when the button is pressed. We\n",
              "                 * want to control all of the cursor setting manually through\n",
              "                 * the 'cursor' event from matplotlib */\n",
              "                event.preventDefault()\n",
              "                return fig.mouse_event(event, name);\n",
              "            };\n",
              "        } else {\n",
              "            return function (event) {\n",
              "                return fig.mouse_event(event, name);\n",
              "            };\n",
              "        }\n",
              "    }\n",
              "\n",
              "    canvas_div.addEventListener(\n",
              "        'mousedown',\n",
              "        on_mouse_event_closure('button_press')\n",
              "    );\n",
              "    canvas_div.addEventListener(\n",
              "        'mouseup',\n",
              "        on_mouse_event_closure('button_release')\n",
              "    );\n",
              "    canvas_div.addEventListener(\n",
              "        'dblclick',\n",
              "        on_mouse_event_closure('dblclick')\n",
              "    );\n",
              "    // Throttle sequential mouse events to 1 every 20ms.\n",
              "    canvas_div.addEventListener(\n",
              "        'mousemove',\n",
              "        on_mouse_event_closure('motion_notify')\n",
              "    );\n",
              "\n",
              "    canvas_div.addEventListener(\n",
              "        'mouseenter',\n",
              "        on_mouse_event_closure('figure_enter')\n",
              "    );\n",
              "    canvas_div.addEventListener(\n",
              "        'mouseleave',\n",
              "        on_mouse_event_closure('figure_leave')\n",
              "    );\n",
              "\n",
              "    canvas_div.addEventListener('wheel', function (event) {\n",
              "        if (event.deltaY < 0) {\n",
              "            event.step = 1;\n",
              "        } else {\n",
              "            event.step = -1;\n",
              "        }\n",
              "        on_mouse_event_closure('scroll')(event);\n",
              "    });\n",
              "\n",
              "    canvas_div.appendChild(canvas);\n",
              "    canvas_div.appendChild(rubberband_canvas);\n",
              "\n",
              "    this.rubberband_context = rubberband_canvas.getContext('2d');\n",
              "    this.rubberband_context.strokeStyle = '#000000';\n",
              "\n",
              "    this._resize_canvas = function (width, height, forward) {\n",
              "        if (forward) {\n",
              "            canvas_div.style.width = width + 'px';\n",
              "            canvas_div.style.height = height + 'px';\n",
              "        }\n",
              "    };\n",
              "\n",
              "    // Disable right mouse context menu.\n",
              "    canvas_div.addEventListener('contextmenu', function (_e) {\n",
              "        event.preventDefault();\n",
              "        return false;\n",
              "    });\n",
              "\n",
              "    function set_focus() {\n",
              "        canvas.focus();\n",
              "        canvas_div.focus();\n",
              "    }\n",
              "\n",
              "    window.setTimeout(set_focus, 100);\n",
              "};\n",
              "\n",
              "mpl.figure.prototype._init_toolbar = function () {\n",
              "    var fig = this;\n",
              "\n",
              "    var toolbar = document.createElement('div');\n",
              "    toolbar.classList = 'mpl-toolbar';\n",
              "    this.root.appendChild(toolbar);\n",
              "\n",
              "    function on_click_closure(name) {\n",
              "        return function (_event) {\n",
              "            return fig.toolbar_button_onclick(name);\n",
              "        };\n",
              "    }\n",
              "\n",
              "    function on_mouseover_closure(tooltip) {\n",
              "        return function (event) {\n",
              "            if (!event.currentTarget.disabled) {\n",
              "                return fig.toolbar_button_onmouseover(tooltip);\n",
              "            }\n",
              "        };\n",
              "    }\n",
              "\n",
              "    fig.buttons = {};\n",
              "    var buttonGroup = document.createElement('div');\n",
              "    buttonGroup.classList = 'mpl-button-group';\n",
              "    for (var toolbar_ind in mpl.toolbar_items) {\n",
              "        var name = mpl.toolbar_items[toolbar_ind][0];\n",
              "        var tooltip = mpl.toolbar_items[toolbar_ind][1];\n",
              "        var image = mpl.toolbar_items[toolbar_ind][2];\n",
              "        var method_name = mpl.toolbar_items[toolbar_ind][3];\n",
              "\n",
              "        if (!name) {\n",
              "            /* Instead of a spacer, we start a new button group. */\n",
              "            if (buttonGroup.hasChildNodes()) {\n",
              "                toolbar.appendChild(buttonGroup);\n",
              "            }\n",
              "            buttonGroup = document.createElement('div');\n",
              "            buttonGroup.classList = 'mpl-button-group';\n",
              "            continue;\n",
              "        }\n",
              "\n",
              "        var button = (fig.buttons[name] = document.createElement('button'));\n",
              "        button.classList = 'mpl-widget';\n",
              "        button.setAttribute('role', 'button');\n",
              "        button.setAttribute('aria-disabled', 'false');\n",
              "        button.addEventListener('click', on_click_closure(method_name));\n",
              "        button.addEventListener('mouseover', on_mouseover_closure(tooltip));\n",
              "\n",
              "        var icon_img = document.createElement('img');\n",
              "        icon_img.src = '_images/' + image + '.png';\n",
              "        icon_img.srcset = '_images/' + image + '_large.png 2x';\n",
              "        icon_img.alt = tooltip;\n",
              "        button.appendChild(icon_img);\n",
              "\n",
              "        buttonGroup.appendChild(button);\n",
              "    }\n",
              "\n",
              "    if (buttonGroup.hasChildNodes()) {\n",
              "        toolbar.appendChild(buttonGroup);\n",
              "    }\n",
              "\n",
              "    var fmt_picker = document.createElement('select');\n",
              "    fmt_picker.classList = 'mpl-widget';\n",
              "    toolbar.appendChild(fmt_picker);\n",
              "    this.format_dropdown = fmt_picker;\n",
              "\n",
              "    for (var ind in mpl.extensions) {\n",
              "        var fmt = mpl.extensions[ind];\n",
              "        var option = document.createElement('option');\n",
              "        option.selected = fmt === mpl.default_extension;\n",
              "        option.innerHTML = fmt;\n",
              "        fmt_picker.appendChild(option);\n",
              "    }\n",
              "\n",
              "    var status_bar = document.createElement('span');\n",
              "    status_bar.classList = 'mpl-message';\n",
              "    toolbar.appendChild(status_bar);\n",
              "    this.message = status_bar;\n",
              "};\n",
              "\n",
              "mpl.figure.prototype.request_resize = function (x_pixels, y_pixels) {\n",
              "    // Request matplotlib to resize the figure. Matplotlib will then trigger a resize in the client,\n",
              "    // which will in turn request a refresh of the image.\n",
              "    this.send_message('resize', { width: x_pixels, height: y_pixels });\n",
              "};\n",
              "\n",
              "mpl.figure.prototype.send_message = function (type, properties) {\n",
              "    properties['type'] = type;\n",
              "    properties['figure_id'] = this.id;\n",
              "    this.ws.send(JSON.stringify(properties));\n",
              "};\n",
              "\n",
              "mpl.figure.prototype.send_draw_message = function () {\n",
              "    if (!this.waiting) {\n",
              "        this.waiting = true;\n",
              "        this.ws.send(JSON.stringify({ type: 'draw', figure_id: this.id }));\n",
              "    }\n",
              "};\n",
              "\n",
              "mpl.figure.prototype.handle_save = function (fig, _msg) {\n",
              "    var format_dropdown = fig.format_dropdown;\n",
              "    var format = format_dropdown.options[format_dropdown.selectedIndex].value;\n",
              "    fig.ondownload(fig, format);\n",
              "};\n",
              "\n",
              "mpl.figure.prototype.handle_resize = function (fig, msg) {\n",
              "    var size = msg['size'];\n",
              "    if (size[0] !== fig.canvas.width || size[1] !== fig.canvas.height) {\n",
              "        fig._resize_canvas(size[0], size[1], msg['forward']);\n",
              "        fig.send_message('refresh', {});\n",
              "    }\n",
              "};\n",
              "\n",
              "mpl.figure.prototype.handle_rubberband = function (fig, msg) {\n",
              "    var x0 = msg['x0'] / fig.ratio;\n",
              "    var y0 = (fig.canvas.height - msg['y0']) / fig.ratio;\n",
              "    var x1 = msg['x1'] / fig.ratio;\n",
              "    var y1 = (fig.canvas.height - msg['y1']) / fig.ratio;\n",
              "    x0 = Math.floor(x0) + 0.5;\n",
              "    y0 = Math.floor(y0) + 0.5;\n",
              "    x1 = Math.floor(x1) + 0.5;\n",
              "    y1 = Math.floor(y1) + 0.5;\n",
              "    var min_x = Math.min(x0, x1);\n",
              "    var min_y = Math.min(y0, y1);\n",
              "    var width = Math.abs(x1 - x0);\n",
              "    var height = Math.abs(y1 - y0);\n",
              "\n",
              "    fig.rubberband_context.clearRect(\n",
              "        0,\n",
              "        0,\n",
              "        fig.canvas.width / fig.ratio,\n",
              "        fig.canvas.height / fig.ratio\n",
              "    );\n",
              "\n",
              "    fig.rubberband_context.strokeRect(min_x, min_y, width, height);\n",
              "};\n",
              "\n",
              "mpl.figure.prototype.handle_figure_label = function (fig, msg) {\n",
              "    // Updates the figure title.\n",
              "    fig.header.textContent = msg['label'];\n",
              "};\n",
              "\n",
              "mpl.figure.prototype.handle_cursor = function (fig, msg) {\n",
              "    fig.canvas_div.style.cursor = msg['cursor'];\n",
              "};\n",
              "\n",
              "mpl.figure.prototype.handle_message = function (fig, msg) {\n",
              "    fig.message.textContent = msg['message'];\n",
              "};\n",
              "\n",
              "mpl.figure.prototype.handle_draw = function (fig, _msg) {\n",
              "    // Request the server to send over a new figure.\n",
              "    fig.send_draw_message();\n",
              "};\n",
              "\n",
              "mpl.figure.prototype.handle_image_mode = function (fig, msg) {\n",
              "    fig.image_mode = msg['mode'];\n",
              "};\n",
              "\n",
              "mpl.figure.prototype.handle_history_buttons = function (fig, msg) {\n",
              "    for (var key in msg) {\n",
              "        if (!(key in fig.buttons)) {\n",
              "            continue;\n",
              "        }\n",
              "        fig.buttons[key].disabled = !msg[key];\n",
              "        fig.buttons[key].setAttribute('aria-disabled', !msg[key]);\n",
              "    }\n",
              "};\n",
              "\n",
              "mpl.figure.prototype.handle_navigate_mode = function (fig, msg) {\n",
              "    if (msg['mode'] === 'PAN') {\n",
              "        fig.buttons['Pan'].classList.add('active');\n",
              "        fig.buttons['Zoom'].classList.remove('active');\n",
              "    } else if (msg['mode'] === 'ZOOM') {\n",
              "        fig.buttons['Pan'].classList.remove('active');\n",
              "        fig.buttons['Zoom'].classList.add('active');\n",
              "    } else {\n",
              "        fig.buttons['Pan'].classList.remove('active');\n",
              "        fig.buttons['Zoom'].classList.remove('active');\n",
              "    }\n",
              "};\n",
              "\n",
              "mpl.figure.prototype.updated_canvas_event = function () {\n",
              "    // Called whenever the canvas gets updated.\n",
              "    this.send_message('ack', {});\n",
              "};\n",
              "\n",
              "// A function to construct a web socket function for onmessage handling.\n",
              "// Called in the figure constructor.\n",
              "mpl.figure.prototype._make_on_message_function = function (fig) {\n",
              "    return function socket_on_message(evt) {\n",
              "        if (evt.data instanceof Blob) {\n",
              "            var img = evt.data;\n",
              "            if (img.type !== 'image/png') {\n",
              "                /* FIXME: We get \"Resource interpreted as Image but\n",
              "                 * transferred with MIME type text/plain:\" errors on\n",
              "                 * Chrome.  But how to set the MIME type?  It doesn't seem\n",
              "                 * to be part of the websocket stream */\n",
              "                img.type = 'image/png';\n",
              "            }\n",
              "\n",
              "            /* Free the memory for the previous frames */\n",
              "            if (fig.imageObj.src) {\n",
              "                (window.URL || window.webkitURL).revokeObjectURL(\n",
              "                    fig.imageObj.src\n",
              "                );\n",
              "            }\n",
              "\n",
              "            fig.imageObj.src = (window.URL || window.webkitURL).createObjectURL(\n",
              "                img\n",
              "            );\n",
              "            fig.updated_canvas_event();\n",
              "            fig.waiting = false;\n",
              "            return;\n",
              "        } else if (\n",
              "            typeof evt.data === 'string' &&\n",
              "            evt.data.slice(0, 21) === 'data:image/png;base64'\n",
              "        ) {\n",
              "            fig.imageObj.src = evt.data;\n",
              "            fig.updated_canvas_event();\n",
              "            fig.waiting = false;\n",
              "            return;\n",
              "        }\n",
              "\n",
              "        var msg = JSON.parse(evt.data);\n",
              "        var msg_type = msg['type'];\n",
              "\n",
              "        // Call the  \"handle_{type}\" callback, which takes\n",
              "        // the figure and JSON message as its only arguments.\n",
              "        try {\n",
              "            var callback = fig['handle_' + msg_type];\n",
              "        } catch (e) {\n",
              "            console.log(\n",
              "                \"No handler for the '\" + msg_type + \"' message type: \",\n",
              "                msg\n",
              "            );\n",
              "            return;\n",
              "        }\n",
              "\n",
              "        if (callback) {\n",
              "            try {\n",
              "                // console.log(\"Handling '\" + msg_type + \"' message: \", msg);\n",
              "                callback(fig, msg);\n",
              "            } catch (e) {\n",
              "                console.log(\n",
              "                    \"Exception inside the 'handler_\" + msg_type + \"' callback:\",\n",
              "                    e,\n",
              "                    e.stack,\n",
              "                    msg\n",
              "                );\n",
              "            }\n",
              "        }\n",
              "    };\n",
              "};\n",
              "\n",
              "function getModifiers(event) {\n",
              "    var mods = [];\n",
              "    if (event.ctrlKey) {\n",
              "        mods.push('ctrl');\n",
              "    }\n",
              "    if (event.altKey) {\n",
              "        mods.push('alt');\n",
              "    }\n",
              "    if (event.shiftKey) {\n",
              "        mods.push('shift');\n",
              "    }\n",
              "    if (event.metaKey) {\n",
              "        mods.push('meta');\n",
              "    }\n",
              "    return mods;\n",
              "}\n",
              "\n",
              "/*\n",
              " * return a copy of an object with only non-object keys\n",
              " * we need this to avoid circular references\n",
              " * https://stackoverflow.com/a/24161582/3208463\n",
              " */\n",
              "function simpleKeys(original) {\n",
              "    return Object.keys(original).reduce(function (obj, key) {\n",
              "        if (typeof original[key] !== 'object') {\n",
              "            obj[key] = original[key];\n",
              "        }\n",
              "        return obj;\n",
              "    }, {});\n",
              "}\n",
              "\n",
              "mpl.figure.prototype.mouse_event = function (event, name) {\n",
              "    if (name === 'button_press') {\n",
              "        this.canvas.focus();\n",
              "        this.canvas_div.focus();\n",
              "    }\n",
              "\n",
              "    // from https://stackoverflow.com/q/1114465\n",
              "    var boundingRect = this.canvas.getBoundingClientRect();\n",
              "    var x = (event.clientX - boundingRect.left) * this.ratio;\n",
              "    var y = (event.clientY - boundingRect.top) * this.ratio;\n",
              "\n",
              "    this.send_message(name, {\n",
              "        x: x,\n",
              "        y: y,\n",
              "        button: event.button,\n",
              "        step: event.step,\n",
              "        modifiers: getModifiers(event),\n",
              "        guiEvent: simpleKeys(event),\n",
              "    });\n",
              "\n",
              "    return false;\n",
              "};\n",
              "\n",
              "mpl.figure.prototype._key_event_extra = function (_event, _name) {\n",
              "    // Handle any extra behaviour associated with a key event\n",
              "};\n",
              "\n",
              "mpl.figure.prototype.key_event = function (event, name) {\n",
              "    // Prevent repeat events\n",
              "    if (name === 'key_press') {\n",
              "        if (event.key === this._key) {\n",
              "            return;\n",
              "        } else {\n",
              "            this._key = event.key;\n",
              "        }\n",
              "    }\n",
              "    if (name === 'key_release') {\n",
              "        this._key = null;\n",
              "    }\n",
              "\n",
              "    var value = '';\n",
              "    if (event.ctrlKey && event.key !== 'Control') {\n",
              "        value += 'ctrl+';\n",
              "    }\n",
              "    else if (event.altKey && event.key !== 'Alt') {\n",
              "        value += 'alt+';\n",
              "    }\n",
              "    else if (event.shiftKey && event.key !== 'Shift') {\n",
              "        value += 'shift+';\n",
              "    }\n",
              "\n",
              "    value += 'k' + event.key;\n",
              "\n",
              "    this._key_event_extra(event, name);\n",
              "\n",
              "    this.send_message(name, { key: value, guiEvent: simpleKeys(event) });\n",
              "    return false;\n",
              "};\n",
              "\n",
              "mpl.figure.prototype.toolbar_button_onclick = function (name) {\n",
              "    if (name === 'download') {\n",
              "        this.handle_save(this, null);\n",
              "    } else {\n",
              "        this.send_message('toolbar_button', { name: name });\n",
              "    }\n",
              "};\n",
              "\n",
              "mpl.figure.prototype.toolbar_button_onmouseover = function (tooltip) {\n",
              "    this.message.textContent = tooltip;\n",
              "};\n",
              "\n",
              "///////////////// REMAINING CONTENT GENERATED BY embed_js.py /////////////////\n",
              "// prettier-ignore\n",
              "var _JSXTOOLS_RESIZE_OBSERVER=function(A){var t,i=new WeakMap,n=new WeakMap,a=new WeakMap,r=new WeakMap,o=new Set;function s(e){if(!(this instanceof s))throw new TypeError(\"Constructor requires 'new' operator\");i.set(this,e)}function h(){throw new TypeError(\"Function is not a constructor\")}function c(e,t,i,n){e=0 in arguments?Number(arguments[0]):0,t=1 in arguments?Number(arguments[1]):0,i=2 in arguments?Number(arguments[2]):0,n=3 in arguments?Number(arguments[3]):0,this.right=(this.x=this.left=e)+(this.width=i),this.bottom=(this.y=this.top=t)+(this.height=n),Object.freeze(this)}function d(){t=requestAnimationFrame(d);var s=new WeakMap,p=new Set;o.forEach((function(t){r.get(t).forEach((function(i){var r=t instanceof window.SVGElement,o=a.get(t),d=r?0:parseFloat(o.paddingTop),f=r?0:parseFloat(o.paddingRight),l=r?0:parseFloat(o.paddingBottom),u=r?0:parseFloat(o.paddingLeft),g=r?0:parseFloat(o.borderTopWidth),m=r?0:parseFloat(o.borderRightWidth),w=r?0:parseFloat(o.borderBottomWidth),b=u+f,F=d+l,v=(r?0:parseFloat(o.borderLeftWidth))+m,W=g+w,y=r?0:t.offsetHeight-W-t.clientHeight,E=r?0:t.offsetWidth-v-t.clientWidth,R=b+v,z=F+W,M=r?t.width:parseFloat(o.width)-R-E,O=r?t.height:parseFloat(o.height)-z-y;if(n.has(t)){var k=n.get(t);if(k[0]===M&&k[1]===O)return}n.set(t,[M,O]);var S=Object.create(h.prototype);S.target=t,S.contentRect=new c(u,d,M,O),s.has(i)||(s.set(i,[]),p.add(i)),s.get(i).push(S)}))})),p.forEach((function(e){i.get(e).call(e,s.get(e),e)}))}return s.prototype.observe=function(i){if(i instanceof window.Element){r.has(i)||(r.set(i,new Set),o.add(i),a.set(i,window.getComputedStyle(i)));var n=r.get(i);n.has(this)||n.add(this),cancelAnimationFrame(t),t=requestAnimationFrame(d)}},s.prototype.unobserve=function(i){if(i instanceof window.Element&&r.has(i)){var n=r.get(i);n.has(this)&&(n.delete(this),n.size||(r.delete(i),o.delete(i))),n.size||r.delete(i),o.size||cancelAnimationFrame(t)}},A.DOMRectReadOnly=c,A.ResizeObserver=s,A.ResizeObserverEntry=h,A}; // eslint-disable-line\n",
              "mpl.toolbar_items = [[\"Home\", \"Reset original view\", \"fa fa-home\", \"home\"], [\"Back\", \"Back to previous view\", \"fa fa-arrow-left\", \"back\"], [\"Forward\", \"Forward to next view\", \"fa fa-arrow-right\", \"forward\"], [\"\", \"\", \"\", \"\"], [\"Pan\", \"Left button pans, Right button zooms\\nx/y fixes axis, CTRL fixes aspect\", \"fa fa-arrows\", \"pan\"], [\"Zoom\", \"Zoom to rectangle\\nx/y fixes axis\", \"fa fa-square-o\", \"zoom\"], [\"\", \"\", \"\", \"\"], [\"Download\", \"Download plot\", \"fa fa-floppy-o\", \"download\"]];\n",
              "\n",
              "mpl.extensions = [\"eps\", \"jpeg\", \"pgf\", \"pdf\", \"png\", \"ps\", \"raw\", \"svg\", \"tif\", \"webp\"];\n",
              "\n",
              "mpl.default_extension = \"png\";/* global mpl */\n",
              "\n",
              "var comm_websocket_adapter = function (comm) {\n",
              "    // Create a \"websocket\"-like object which calls the given IPython comm\n",
              "    // object with the appropriate methods. Currently this is a non binary\n",
              "    // socket, so there is still some room for performance tuning.\n",
              "    var ws = {};\n",
              "\n",
              "    ws.binaryType = comm.kernel.ws.binaryType;\n",
              "    ws.readyState = comm.kernel.ws.readyState;\n",
              "    function updateReadyState(_event) {\n",
              "        if (comm.kernel.ws) {\n",
              "            ws.readyState = comm.kernel.ws.readyState;\n",
              "        } else {\n",
              "            ws.readyState = 3; // Closed state.\n",
              "        }\n",
              "    }\n",
              "    comm.kernel.ws.addEventListener('open', updateReadyState);\n",
              "    comm.kernel.ws.addEventListener('close', updateReadyState);\n",
              "    comm.kernel.ws.addEventListener('error', updateReadyState);\n",
              "\n",
              "    ws.close = function () {\n",
              "        comm.close();\n",
              "    };\n",
              "    ws.send = function (m) {\n",
              "        //console.log('sending', m);\n",
              "        comm.send(m);\n",
              "    };\n",
              "    // Register the callback with on_msg.\n",
              "    comm.on_msg(function (msg) {\n",
              "        //console.log('receiving', msg['content']['data'], msg);\n",
              "        var data = msg['content']['data'];\n",
              "        if (data['blob'] !== undefined) {\n",
              "            data = {\n",
              "                data: new Blob(msg['buffers'], { type: data['blob'] }),\n",
              "            };\n",
              "        }\n",
              "        // Pass the mpl event to the overridden (by mpl) onmessage function.\n",
              "        ws.onmessage(data);\n",
              "    });\n",
              "    return ws;\n",
              "};\n",
              "\n",
              "mpl.mpl_figure_comm = function (comm, msg) {\n",
              "    // This is the function which gets called when the mpl process\n",
              "    // starts-up an IPython Comm through the \"matplotlib\" channel.\n",
              "\n",
              "    var id = msg.content.data.id;\n",
              "    // Get hold of the div created by the display call when the Comm\n",
              "    // socket was opened in Python.\n",
              "    var element = document.getElementById(id);\n",
              "    var ws_proxy = comm_websocket_adapter(comm);\n",
              "\n",
              "    function ondownload(figure, _format) {\n",
              "        window.open(figure.canvas.toDataURL());\n",
              "    }\n",
              "\n",
              "    var fig = new mpl.figure(id, ws_proxy, ondownload, element);\n",
              "\n",
              "    // Call onopen now - mpl needs it, as it is assuming we've passed it a real\n",
              "    // web socket which is closed, not our websocket->open comm proxy.\n",
              "    ws_proxy.onopen();\n",
              "\n",
              "    fig.parent_element = element;\n",
              "    fig.cell_info = mpl.find_output_cell(\"<div id='\" + id + \"'></div>\");\n",
              "    if (!fig.cell_info) {\n",
              "        console.error('Failed to find cell for figure', id, fig);\n",
              "        return;\n",
              "    }\n",
              "    fig.cell_info[0].output_area.element.on(\n",
              "        'cleared',\n",
              "        { fig: fig },\n",
              "        fig._remove_fig_handler\n",
              "    );\n",
              "};\n",
              "\n",
              "mpl.figure.prototype.handle_close = function (fig, msg) {\n",
              "    var width = fig.canvas.width / fig.ratio;\n",
              "    fig.cell_info[0].output_area.element.off(\n",
              "        'cleared',\n",
              "        fig._remove_fig_handler\n",
              "    );\n",
              "    fig.resizeObserverInstance.unobserve(fig.canvas_div);\n",
              "\n",
              "    // Update the output cell to use the data from the current canvas.\n",
              "    fig.push_to_output();\n",
              "    var dataURL = fig.canvas.toDataURL();\n",
              "    // Re-enable the keyboard manager in IPython - without this line, in FF,\n",
              "    // the notebook keyboard shortcuts fail.\n",
              "    IPython.keyboard_manager.enable();\n",
              "    fig.parent_element.innerHTML =\n",
              "        '<img src=\"' + dataURL + '\" width=\"' + width + '\">';\n",
              "    fig.close_ws(fig, msg);\n",
              "};\n",
              "\n",
              "mpl.figure.prototype.close_ws = function (fig, msg) {\n",
              "    fig.send_message('closing', msg);\n",
              "    // fig.ws.close()\n",
              "};\n",
              "\n",
              "mpl.figure.prototype.push_to_output = function (_remove_interactive) {\n",
              "    // Turn the data on the canvas into data in the output cell.\n",
              "    var width = this.canvas.width / this.ratio;\n",
              "    var dataURL = this.canvas.toDataURL();\n",
              "    this.cell_info[1]['text/html'] =\n",
              "        '<img src=\"' + dataURL + '\" width=\"' + width + '\">';\n",
              "};\n",
              "\n",
              "mpl.figure.prototype.updated_canvas_event = function () {\n",
              "    // Tell IPython that the notebook contents must change.\n",
              "    IPython.notebook.set_dirty(true);\n",
              "    this.send_message('ack', {});\n",
              "    var fig = this;\n",
              "    // Wait a second, then push the new image to the DOM so\n",
              "    // that it is saved nicely (might be nice to debounce this).\n",
              "    setTimeout(function () {\n",
              "        fig.push_to_output();\n",
              "    }, 1000);\n",
              "};\n",
              "\n",
              "mpl.figure.prototype._init_toolbar = function () {\n",
              "    var fig = this;\n",
              "\n",
              "    var toolbar = document.createElement('div');\n",
              "    toolbar.classList = 'btn-toolbar';\n",
              "    this.root.appendChild(toolbar);\n",
              "\n",
              "    function on_click_closure(name) {\n",
              "        return function (_event) {\n",
              "            return fig.toolbar_button_onclick(name);\n",
              "        };\n",
              "    }\n",
              "\n",
              "    function on_mouseover_closure(tooltip) {\n",
              "        return function (event) {\n",
              "            if (!event.currentTarget.disabled) {\n",
              "                return fig.toolbar_button_onmouseover(tooltip);\n",
              "            }\n",
              "        };\n",
              "    }\n",
              "\n",
              "    fig.buttons = {};\n",
              "    var buttonGroup = document.createElement('div');\n",
              "    buttonGroup.classList = 'btn-group';\n",
              "    var button;\n",
              "    for (var toolbar_ind in mpl.toolbar_items) {\n",
              "        var name = mpl.toolbar_items[toolbar_ind][0];\n",
              "        var tooltip = mpl.toolbar_items[toolbar_ind][1];\n",
              "        var image = mpl.toolbar_items[toolbar_ind][2];\n",
              "        var method_name = mpl.toolbar_items[toolbar_ind][3];\n",
              "\n",
              "        if (!name) {\n",
              "            /* Instead of a spacer, we start a new button group. */\n",
              "            if (buttonGroup.hasChildNodes()) {\n",
              "                toolbar.appendChild(buttonGroup);\n",
              "            }\n",
              "            buttonGroup = document.createElement('div');\n",
              "            buttonGroup.classList = 'btn-group';\n",
              "            continue;\n",
              "        }\n",
              "\n",
              "        button = fig.buttons[name] = document.createElement('button');\n",
              "        button.classList = 'btn btn-default';\n",
              "        button.href = '#';\n",
              "        button.title = name;\n",
              "        button.innerHTML = '<i class=\"fa ' + image + ' fa-lg\"></i>';\n",
              "        button.addEventListener('click', on_click_closure(method_name));\n",
              "        button.addEventListener('mouseover', on_mouseover_closure(tooltip));\n",
              "        buttonGroup.appendChild(button);\n",
              "    }\n",
              "\n",
              "    if (buttonGroup.hasChildNodes()) {\n",
              "        toolbar.appendChild(buttonGroup);\n",
              "    }\n",
              "\n",
              "    // Add the status bar.\n",
              "    var status_bar = document.createElement('span');\n",
              "    status_bar.classList = 'mpl-message pull-right';\n",
              "    toolbar.appendChild(status_bar);\n",
              "    this.message = status_bar;\n",
              "\n",
              "    // Add the close button to the window.\n",
              "    var buttongrp = document.createElement('div');\n",
              "    buttongrp.classList = 'btn-group inline pull-right';\n",
              "    button = document.createElement('button');\n",
              "    button.classList = 'btn btn-mini btn-primary';\n",
              "    button.href = '#';\n",
              "    button.title = 'Stop Interaction';\n",
              "    button.innerHTML = '<i class=\"fa fa-power-off icon-remove icon-large\"></i>';\n",
              "    button.addEventListener('click', function (_evt) {\n",
              "        fig.handle_close(fig, {});\n",
              "    });\n",
              "    button.addEventListener(\n",
              "        'mouseover',\n",
              "        on_mouseover_closure('Stop Interaction')\n",
              "    );\n",
              "    buttongrp.appendChild(button);\n",
              "    var titlebar = this.root.querySelector('.ui-dialog-titlebar');\n",
              "    titlebar.insertBefore(buttongrp, titlebar.firstChild);\n",
              "};\n",
              "\n",
              "mpl.figure.prototype._remove_fig_handler = function (event) {\n",
              "    var fig = event.data.fig;\n",
              "    if (event.target !== this) {\n",
              "        // Ignore bubbled events from children.\n",
              "        return;\n",
              "    }\n",
              "    fig.close_ws(fig, {});\n",
              "};\n",
              "\n",
              "mpl.figure.prototype._root_extra_style = function (el) {\n",
              "    el.style.boxSizing = 'content-box'; // override notebook setting of border-box.\n",
              "};\n",
              "\n",
              "mpl.figure.prototype._canvas_extra_style = function (el) {\n",
              "    // this is important to make the div 'focusable\n",
              "    el.setAttribute('tabindex', 0);\n",
              "    // reach out to IPython and tell the keyboard manager to turn it's self\n",
              "    // off when our div gets focus\n",
              "\n",
              "    // location in version 3\n",
              "    if (IPython.notebook.keyboard_manager) {\n",
              "        IPython.notebook.keyboard_manager.register_events(el);\n",
              "    } else {\n",
              "        // location in version 2\n",
              "        IPython.keyboard_manager.register_events(el);\n",
              "    }\n",
              "};\n",
              "\n",
              "mpl.figure.prototype._key_event_extra = function (event, _name) {\n",
              "    // Check for shift+enter\n",
              "    if (event.shiftKey && event.which === 13) {\n",
              "        this.canvas_div.blur();\n",
              "        // select the cell after this one\n",
              "        var index = IPython.notebook.find_cell_index(this.cell_info[0]);\n",
              "        IPython.notebook.select(index + 1);\n",
              "    }\n",
              "};\n",
              "\n",
              "mpl.figure.prototype.handle_save = function (fig, _msg) {\n",
              "    fig.ondownload(fig, null);\n",
              "};\n",
              "\n",
              "mpl.find_output_cell = function (html_output) {\n",
              "    // Return the cell and output element which can be found *uniquely* in the notebook.\n",
              "    // Note - this is a bit hacky, but it is done because the \"notebook_saving.Notebook\"\n",
              "    // IPython event is triggered only after the cells have been serialised, which for\n",
              "    // our purposes (turning an active figure into a static one), is too late.\n",
              "    var cells = IPython.notebook.get_cells();\n",
              "    var ncells = cells.length;\n",
              "    for (var i = 0; i < ncells; i++) {\n",
              "        var cell = cells[i];\n",
              "        if (cell.cell_type === 'code') {\n",
              "            for (var j = 0; j < cell.output_area.outputs.length; j++) {\n",
              "                var data = cell.output_area.outputs[j];\n",
              "                if (data.data) {\n",
              "                    // IPython >= 3 moved mimebundle to data attribute of output\n",
              "                    data = data.data;\n",
              "                }\n",
              "                if (data['text/html'] === html_output) {\n",
              "                    return [cell, data, j];\n",
              "                }\n",
              "            }\n",
              "        }\n",
              "    }\n",
              "};\n",
              "\n",
              "// Register the function which deals with the matplotlib target/channel.\n",
              "// The kernel may be null if the page has been refreshed.\n",
              "if (IPython.notebook.kernel !== null) {\n",
              "    IPython.notebook.kernel.comm_manager.register_target(\n",
              "        'matplotlib',\n",
              "        mpl.mpl_figure_comm\n",
              "    );\n",
              "}\n"
            ]
          },
          "metadata": {}
        },
        {
          "output_type": "display_data",
          "data": {
            "text/plain": [
              "<IPython.core.display.HTML object>"
            ],
            "text/html": [
              "<div id='b88844d6-18e0-46ed-98c0-bd4d000c6e96'></div>"
            ]
          },
          "metadata": {}
        }
      ],
      "source": [
        "# plot_dataset('Scatterplot of the training data', train_x, train_labels)\n",
        "# plt.show()"
      ]
    },
    {
      "cell_type": "code",
      "execution_count": null,
      "metadata": {
        "colab": {
          "base_uri": "https://localhost:8080/"
        },
        "id": "e7g5C7UW3y3M",
        "outputId": "feb99222-7005-4e5a-e3bc-4c7c793c17bd"
      },
      "outputs": [
        {
          "output_type": "stream",
          "name": "stdout",
          "text": [
            "[[ 1.3382818  -0.98613256]\n",
            " [ 0.5128146   0.43299454]\n",
            " [-0.4473693  -0.2680512 ]\n",
            " [-0.9865851  -0.28692   ]\n",
            " [-1.0693829   0.41718036]]\n",
            "[1 1 0 0 0]\n"
          ]
        }
      ],
      "source": [
        "print(train_x[:5])\n",
        "print(train_labels[:5])"
      ]
    },
    {
      "cell_type": "markdown",
      "metadata": {
        "id": "IhW0fRQd3y3N"
      },
      "source": [
        "## Machine Learning Problem\n",
        "\n",
        "Suppose we have input dataset $\\langle X,Y\\rangle$, where $X$ is a set of features, and $Y$ - corresponding labels. For regression problem, $y_i\\in\\mathbb{R}$, and for classification it is represented by a class number $y_i\\in\\{0,\\dots,n\\}$. \n",
        "\n",
        "Any machine learning model can be represented by function $f_\\theta(x)$, where $\\theta$ is a set of **parameters**. Our goal is to find such parameters $\\theta$ that our model fits the dataset in the best way. The criteria is defined by **loss function** $\\mathcal{L}$, and we need to find optimal value\n",
        "\n",
        "$$\n",
        "\\theta = \\mathrm{argmin}_\\theta \\mathcal{L}(f_\\theta(X),Y)\n",
        "$$"
      ]
    },
    {
      "cell_type": "markdown",
      "metadata": {
        "id": "vy65McJW3y3N"
      },
      "source": [
        "Loss function depends on the problem being solved.\n",
        "\n",
        "### Loss functions for regression\n",
        "\n",
        "For regression, we often use **absolute error** $\\mathcal{L}_{abs}(\\theta) = \\sum_{i=1}^n |y_i - f_{\\theta}(x_i)|$, or **mean squared error**: $\\mathcal{L}_{sq}(\\theta) = \\sum_{i=1}^n (y_i - f_{\\theta}(x_i))^2$"
      ]
    },
    {
      "cell_type": "code",
      "execution_count": null,
      "metadata": {
        "id": "Oqq_NH6g3y3N"
      },
      "outputs": [],
      "source": [
        "# helper function for plotting various loss functions\n",
        "def plot_loss_functions(suptitle, functions, ylabels, xlabel):\n",
        "    fig, ax = plt.subplots(1, len(functions), figsize=(9, 3))\n",
        "    plt.subplots_adjust(bottom=0.2, wspace=0.4)\n",
        "    fig.suptitle(suptitle)\n",
        "    for i, fun in enumerate(functions):\n",
        "        ax[i].set_xlabel(xlabel)\n",
        "        if len(ylabels) > i:\n",
        "            ax[i].set_ylabel(ylabels[i])\n",
        "        ax[i].plot(x, fun)\n",
        "    plt.show()"
      ]
    },
    {
      "cell_type": "code",
      "execution_count": null,
      "metadata": {
        "colab": {
          "base_uri": "https://localhost:8080/",
          "height": 318
        },
        "id": "CvygD_Wj3y3N",
        "outputId": "c13cccad-7440-438e-f3f2-ec0f56e9104a"
      },
      "outputs": [
        {
          "output_type": "display_data",
          "data": {
            "text/plain": [
              "<Figure size 900x300 with 2 Axes>"
            ],
            "image/png": "[encoded data removed]"
          },
          "metadata": {}
        }
      ],
      "source": [
        "x = np.linspace(-2, 2, 101)\n",
        "plot_loss_functions(\n",
        "    suptitle = 'Common loss functions for regression',\n",
        "    functions = [np.abs(x), np.power(x, 2)],\n",
        "    ylabels   = ['$\\mathcal{L}_{abs}}$ (absolute loss)',\n",
        "                 '$\\mathcal{L}_{sq}$ (squared loss)'],\n",
        "    xlabel    = '$y - f(x_i)$')"
      ]
    },
    {
      "cell_type": "markdown",
      "metadata": {
        "id": "sDtXM-Xy3y3N"
      },
      "source": [
        "### Loss functions for classification\n",
        "\n",
        "Let's consider binary classification for a moment. In this case we have two classes, numbered 0 and 1. The output of the network $f_\\theta(x_i)\\in [0,1]$ essentially defines the probability of choosing the class 1.\n",
        "\n",
        "**0-1 loss**\n",
        "\n",
        "0-1 loss is the same as calculating accuracy of the model - we compute the number of correct classifications:\n",
        "\n",
        "$$\\mathcal{L}_{0-1} = \\sum_{i=1}^n l_i \\quad  l_i = \\begin{cases}\n",
        "         0 & (f(x_i)<0.5 \\land y_i=0) \\lor (f(x_i)<0.5 \\land y_i=1) \\\\\n",
        "         1 & \\mathrm{ otherwise}\n",
        "       \\end{cases} \\\\\n",
        "$$\n",
        "\n",
        "However, accuracy itself does not show how far are we from the right classification. It could be that we missed the correct class just by a little bit, and that is in a way \"better\" (in a sense that we need to correct weights much less) than missing significantly. Thus, more often logistic loss is used, which takes this into account.\n",
        "\n",
        "**Logistic Loss**\n",
        "\n",
        "$$\\mathcal{L}_{log} = \\sum_{i=1}^n -y\\log(f_{\\theta}(x_i)) - (1-y)\\log(1-f_\\theta(x_i))$$"
      ]
    },
    {
      "cell_type": "code",
      "execution_count": null,
      "metadata": {
        "id": "4Hpc-b7v3y3O"
      },
      "outputs": [],
      "source": [
        "x = np.linspace(0, 1, 100)\n",
        "def zero_one(d):\n",
        "    if d < 0.5:\n",
        "        return 0\n",
        "    return 1\n",
        "zero_one_v = np.vectorize(zero_one)\n",
        "\n",
        "def logistic_loss(fx):\n",
        "    # assumes y == 1\n",
        "    return -np.log(fx)"
      ]
    },
    {
      "cell_type": "code",
      "execution_count": null,
      "metadata": {
        "colab": {
          "base_uri": "https://localhost:8080/",
          "height": 350
        },
        "id": "Sf12ilU_3y3O",
        "outputId": "c0c65e65-e6a1-4833-d1ce-5c3633c4a99f"
      },
      "outputs": [
        {
          "output_type": "stream",
          "name": "stderr",
          "text": [
            "<ipython-input-26-69ab4d52c03d>:10: RuntimeWarning: divide by zero encountered in log\n",
            "  return -np.log(fx)\n"
          ]
        },
        {
          "output_type": "display_data",
          "data": {
            "text/plain": [
              "<Figure size 900x300 with 2 Axes>"
            ],
            "image/png": "[encoded data removed]"
          },
          "metadata": {}
        }
      ],
      "source": [
        "plot_loss_functions(suptitle = 'Common loss functions for classification (class=1)',\n",
        "                   functions = [zero_one_v(x), logistic_loss(x)],\n",
        "                   ylabels    = ['$\\mathcal{L}_{0-1}}$ (0-1 loss)',\n",
        "                                 '$\\mathcal{L}_{log}$ (logistic loss)'],\n",
        "                   xlabel     = '$p$')\n"
      ]
    },
    {
      "cell_type": "markdown",
      "metadata": {
        "id": "lJaWZqQ93y3O"
      },
      "source": [
        "To understand logistic loss, consider two cases of the expected output:\n",
        "* If we expect output to be 1 ($y=1$), then the loss is $-log f_\\theta(x_i)$. The loss is 0 if the network predicts 1 with probability 1, and grows larger when probability of 1 gets smaller.\n",
        "* If we expect output to be 0 ($y=0$), the loss is $-log(1-f_\\theta(x_i))$. Here, $1-f_\\theta(x_i)$ is the probability of 0 which is predicted by the network, and the meaning of log-loss is the same as described in the previous case"
      ]
    },
    {
      "cell_type": "markdown",
      "metadata": {
        "id": "5YqukyDY3y3O"
      },
      "source": [
        "## Neural Network Architecture\n",
        "\n",
        "We have generated a dataset for binary classification problem. However, let's consider it as multi-class classification right from the start, so that we can then easily switch our code to multi-class classification. In this case, our one-layer perceptron will have the following architecture:\n",
        "\n",
        "<img src=\"images/NeuroArch.png\" width=\"50%\"/>\n",
        "\n",
        "Two outputs of the network correspond to two classes, and the class with highest value among two outputs corresponds to the right solution.\n",
        "\n",
        "The model is defined as\n",
        "$$\n",
        "f_\\theta(x) = W\\times x + b\n",
        "$$\n",
        "where $$\\theta = \\langle W,b\\rangle$$ are parameters.\n",
        "\n",
        "We will define this linear layer as a Python class with a `forward` function that performs the calculation. It receives input value $x$, and produces the output of the layer. Parameters `W` and `b` are stored within the layer class, and are initialized upon creation with random values and zeroes respectively."
      ]
    },
    {
      "cell_type": "code",
      "execution_count": null,
      "metadata": {
        "colab": {
          "base_uri": "https://localhost:8080/"
        },
        "id": "EyU0oTtN3y3O",
        "outputId": "adce71f0-e2dc-4e62-e50c-6136125fe6f5"
      },
      "outputs": [
        {
          "output_type": "execute_result",
          "data": {
            "text/plain": [
              "array([[ 1.77202116, -0.25384488],\n",
              "       [ 0.28370828, -0.39610552],\n",
              "       [-0.30097433,  0.30513182],\n",
              "       [-0.8120485 ,  0.56079421],\n",
              "       [-1.23519653,  0.3394973 ]])"
            ]
          },
          "metadata": {},
          "execution_count": 28
        }
      ],
      "source": [
        "class Linear:\n",
        "    def __init__(self,nin,nout):\n",
        "        self.W = np.random.normal(0, 1.0/np.sqrt(nin), (nout, nin))\n",
        "        self.b = np.zeros((1, nout))\n",
        "        \n",
        "    def forward(self, x):\n",
        "        return np.dot(x, self.W.T) + self.b\n",
        "    \n",
        "net = Linear(2, 2)\n",
        "net.forward(train_x[0:5])"
      ]
    },
    {
      "cell_type": "markdown",
      "metadata": {
        "id": "txTzuhBX3y3O"
      },
      "source": [
        "In many cases, it is more efficient to operate not on the one input value, but on the vector of input values. Because we use Numpy operations, we can pass a vector of input values to our network, and it will give us the vector of output values.\n",
        "\n",
        "## Softmax: Turning Outputs into Probabilities\n",
        "\n",
        "As you can see, our outputs are not probabilities - they can take any values. In order to convert them into probabilities, we need to normalize the values across all classes. This is done using **softmax** function: $$\\sigma(\\mathbf{z}_c) = \\frac{e^{z_c}}{\\sum_{j} e^{z_j}}, \\quad\\mathrm{for}\\quad c\\in 1 .. |C|$$\n",
        "\n",
        "<img src=\"https://raw.githubusercontent.com/shwars/NeuroWorkshop/master/images/NeuroArch-softmax.PNG\" width=\"50%\">\n",
        "\n",
        "> Output of the network $\\sigma(\\mathbf{z})$ can be interpreted as probability distribution on the set of classes $C$: $q = \\sigma(\\mathbf{z}_c) = \\hat{p}(c | x)$\n",
        "\n",
        "We will define the `Softmax` layer in the same manner, as a class with `forward` function: "
      ]
    },
    {
      "cell_type": "code",
      "execution_count": null,
      "metadata": {
        "colab": {
          "base_uri": "https://localhost:8080/"
        },
        "id": "bpT1whRx3y3P",
        "outputId": "6918fcfc-961c-4955-8f2f-b5b6fe5bd84e"
      },
      "outputs": [
        {
          "output_type": "execute_result",
          "data": {
            "text/plain": [
              "array([[0.88348621, 0.11651379],\n",
              "       [0.66369714, 0.33630286],\n",
              "       [0.35294795, 0.64705205],\n",
              "       [0.20216095, 0.79783905],\n",
              "       [0.17154828, 0.82845172],\n",
              "       [0.24279153, 0.75720847],\n",
              "       [0.18915732, 0.81084268],\n",
              "       [0.17282951, 0.82717049],\n",
              "       [0.13897531, 0.86102469],\n",
              "       [0.72746882, 0.27253118]])"
            ]
          },
          "metadata": {},
          "execution_count": 29
        }
      ],
      "source": [
        "class Softmax:\n",
        "    def forward(self, z):\n",
        "        zmax = z.max(axis=1, keepdims=True)\n",
        "        expz = np.exp(z-zmax)\n",
        "        Z = expz.sum(axis=1, keepdims=True)\n",
        "        return expz / Z\n",
        "\n",
        "softmax = Softmax()\n",
        "softmax.forward(net.forward(train_x[0:10]))"
      ]
    },
    {
      "cell_type": "markdown",
      "metadata": {
        "id": "j7SQMQ7p3y3P"
      },
      "source": [
        "You can see that we are now getting probabilities as outputs, i.e. the sum of each output vector is exactly 1. \n",
        "\n",
        "In case we have more than 2 classes, softmax will normalize probabilities across all of them. Here is a diagram of network architecture that does MNIST digit classification:\n",
        "\n",
        "![MNIST Classifier](images/Cross-Entropy-Loss.PNG)\n"
      ]
    },
    {
      "cell_type": "markdown",
      "metadata": {
        "id": "hyFT5epi3y3P"
      },
      "source": [
        "## Cross-Entropy Loss\n",
        "\n",
        "A loss function in classification is typically a logistic function, which can be generalized as **cross-entropy loss**. Cross-entropy loss is a function that can calculate similarity between two arbitrary probability distributions. You can find more detailed discussion about it [on Wikipedia](https://en.wikipedia.org/wiki/Cross_entropy).\n",
        "\n",
        "In our case, first distribution is the probabilistic output of our network, and the second one is so-called **one-hot** distribution, which specifies that a given class $c$ has corresponding probability 1 (all the rest being 0). In such a case cross-entropy loss can be calculated as $-\\log p_c$, where $c$ is the expected class, and $p_c$ is the corresponding probability of this class given by our neural network.\n",
        "\n",
        "> If the network return probability 1 for the expected class, cross-entropy loss would be 0. The closer the probability of the actual class is to 0, the higher is cross-entropy loss (and it can go up to infinity!)."
      ]
    },
    {
      "cell_type": "code",
      "execution_count": null,
      "metadata": {
        "id": "TFebDDFp3y3P"
      },
      "outputs": [],
      "source": [
        "def plot_cross_ent():\n",
        "    p = np.linspace(0.01, 0.99, 101) # estimated probability p(y|x)\n",
        "    cross_ent_v = np.vectorize(cross_ent)\n",
        "    f3, ax = plt.subplots(1, 1, figsize=(8, 3))\n",
        "    l1, = plt.plot(p, cross_ent_v(p, 1), 'r--')\n",
        "    l2, = plt.plot(p, cross_ent_v(p, 0), 'r-')\n",
        "    plt.legend([l1, l2], ['$y = 1$', '$y = 0$'], loc = 'upper center', ncol = 2)\n",
        "    plt.xlabel('$\\hat{p}(y|x)$', size=18)\n",
        "    plt.ylabel('$\\mathcal{L}_{CE}$', size=18)\n",
        "    plt.show()"
      ]
    },
    {
      "cell_type": "code",
      "execution_count": null,
      "metadata": {
        "scrolled": true,
        "colab": {
          "base_uri": "https://localhost:8080/",
          "height": 329
        },
        "id": "e3v26uSb3y3P",
        "outputId": "dfe4e12b-b7f3-41cf-f82f-b88e90d023ce"
      },
      "outputs": [
        {
          "output_type": "display_data",
          "data": {
            "text/plain": [
              "<Figure size 800x300 with 1 Axes>"
            ],
            "image/png": "[encoded data removed]"
          },
          "metadata": {}
        }
      ],
      "source": [
        "def cross_ent(prediction, ground_truth):\n",
        "    t = 1 if ground_truth > 0.5 else 0\n",
        "    return -t * np.log(prediction) - (1 - t) * np.log(1 - prediction)\n",
        "plot_cross_ent()"
      ]
    },
    {
      "cell_type": "markdown",
      "metadata": {
        "id": "I0-zfcae3y3Q"
      },
      "source": [
        "Cross-entropy loss will be defined again as a separate layer, but `forward` function will have two input values: output of the previous layers of the network `p`, and the expected class `y`:"
      ]
    },
    {
      "cell_type": "code",
      "execution_count": null,
      "metadata": {
        "colab": {
          "base_uri": "https://localhost:8080/"
        },
        "id": "vqieiBMI3y3Q",
        "outputId": "1e9f58ce-61ae-4f43-fc73-b4cd2b0aaa4b"
      },
      "outputs": [
        {
          "output_type": "execute_result",
          "data": {
            "text/plain": [
              "1.429664938969559"
            ]
          },
          "metadata": {},
          "execution_count": 32
        }
      ],
      "source": [
        "class CrossEntropyLoss:\n",
        "    def forward(self, p, y):\n",
        "        self.p = p\n",
        "        self.y = y\n",
        "        p_of_y = p[np.arange(len(y)), y]\n",
        "        log_prob = np.log(p_of_y)\n",
        "        return -log_prob.mean() # average over all input samples\n",
        "\n",
        "cross_ent_loss = CrossEntropyLoss()\n",
        "p = softmax.forward(net.forward(train_x[0:10]))\n",
        "cross_ent_loss.forward(p,train_labels[0:10])"
      ]
    },
    {
      "cell_type": "markdown",
      "metadata": {
        "id": "mgh4e0iN3y3Q"
      },
      "source": [
        "> **IMPORTANT**: Loss function returns a number that shows how good (or bad) our network performs. It should return us one number for the whole dataset, or for the part of the dataset (minibatch). Thus after calculating cross-entropy loss for each individual component of the input vector, we need to average (or add) all components together - which is done by the call to `.mean()`.\n",
        "\n",
        "## Computational Graph\n",
        "\n",
        "<img src=\"images/ComputeGraph.png\" width=\"600px\"/>\n",
        "\n",
        "Up to this moment, we have defined different classes for different layers of the network. Composition of those layers can be represented as **computational graph**. Now we can compute the loss for a given training dataset (or part of it) in the following manner:"
      ]
    },
    {
      "cell_type": "code",
      "execution_count": null,
      "metadata": {
        "colab": {
          "base_uri": "https://localhost:8080/"
        },
        "id": "bkQKbxpV3y3Q",
        "outputId": "670bab99-dc7b-493f-d2bc-719199086318"
      },
      "outputs": [
        {
          "output_type": "stream",
          "name": "stdout",
          "text": [
            "1.429664938969559\n"
          ]
        }
      ],
      "source": [
        "z = net.forward(train_x[0:10])\n",
        "p = softmax.forward(z)\n",
        "loss = cross_ent_loss.forward(p,train_labels[0:10])\n",
        "print(loss)"
      ]
    },
    {
      "cell_type": "markdown",
      "metadata": {
        "id": "J9USINHW3y3Q"
      },
      "source": [
        "## Loss Minimization Problem and Network Training\n",
        "\n",
        "Once we have defined out network as $f_\\theta$, and given the loss function $\\mathcal{L}(Y,f_\\theta(X))$, we can consider $\\mathcal{L}$ as a function of $\\theta$ under our fixed training dataset: $\\mathcal{L}(\\theta) = \\mathcal{L}(Y,f_\\theta(X))$\n",
        "\n",
        "In this case, the network training would be a minimization problem of $\\mathcal{L}$ under argument $\\theta$:\n",
        "$$\n",
        "\\theta = \\mathrm{argmin}_{\\theta} \\mathcal{L}(Y,f_\\theta(X))\n",
        "$$\n",
        "\n",
        "There is a well-known method of function optimization called **gradient descent**. The idea is that we can compute a derivative (in multi-dimensional case call **gradient**) of loss function with respect to parameters, and vary parameters in such a way that the error would decrease.\n",
        "\n",
        "Gradient descent works as follows:\n",
        " * Initialize parameters by some random values $w^{(0)}$, $b^{(0)}$\n",
        " * Repeat the following step many times:\n",
        "\n",
        " $$\\begin{align}\n",
        " W^{(i+1)}&=W^{(i)}-\\eta\\frac{\\partial\\mathcal{L}}{\\partial W}\\\\\n",
        " b^{(i+1)}&=b^{(i)}-\\eta\\frac{\\partial\\mathcal{L}}{\\partial b}\n",
        " \\end{align}\n",
        " $$\n",
        "\n",
        "During training, the optimization steps are supposed to be calculated considering the whole dataset (remember that loss is calculated as a sum/average through all training samples). However, in real life we take small portions of the dataset called **minibatches**, and calculate gradients based on a subset of data. Because subset is taken randomly each time, such method is called **stochastic gradient descent** (SGD).\n",
        " "
      ]
    },
    {
      "cell_type": "markdown",
      "metadata": {
        "id": "B_7pfNbp3y3Q"
      },
      "source": [
        "## Backward Propagation\n",
        "\n",
        "<img src=\"images/ComputeGraph.png\" width=\"300px\" align=\"left\"/>\n",
        "\n",
        "$$\\def\\L{\\mathcal{L}}\\def\\zz#1#2{\\frac{\\partial#1}{\\partial#2}}\n",
        "\\begin{align}\n",
        "\\zz{\\L}{W} =& \\zz{\\L}{p}\\zz{p}{z}\\zz{z}{W}\\cr\n",
        "\\zz{\\L}{b} =& \\zz{\\L}{p}\\zz{p}{z}\\zz{z}{b}\n",
        "\\end{align}\n",
        "$$"
      ]
    },
    {
      "cell_type": "markdown",
      "metadata": {
        "id": "Z2pOJEx53y3Q"
      },
      "source": [
        "To compute $\\partial\\mathcal{L}/\\partial W$ we can use the **chaining rule** for computing derivatives of a composite function, as you can see in the formulae above. It corresponds to the following idea:\n",
        "\n",
        "* Suppose under given input we have obtained loss $\\Delta\\mathcal{L}$\n",
        "* To minimize it, we would have to adjust softmax output $p$ by value $\\Delta p = (\\partial\\mathcal{L}/\\partial p)\\Delta\\mathcal{L}$  \n",
        "* This corresponds to the changes to node $z$ by $\\Delta z = (\\partial\\mathcal{p}/\\partial z)\\Delta p$\n",
        "* To minimize this error, we need to adjust parameters accordingly: $\\Delta W = (\\partial\\mathcal{z}/\\partial W)\\Delta z$ (and the same for $b$)\n",
        "\n",
        "<img src=\"images/ComputeGraphGrad.PNG\" width=\"400px\" align=\"right\"/>\n",
        "\n",
        "This process starts distributing the loss error from the output of the network back to its parameters. Thus the process is called **back propagation**.\n",
        "\n",
        "One pass of the network training consists of two parts:\n",
        "* **Forward pass**, when we calculate the value of loss function for a given input minibatch\n",
        "* **Backward pass**, when we try to minimize this error by distributing it back to the model parameters through the computational graph."
      ]
    },
    {
      "cell_type": "markdown",
      "metadata": {
        "id": "NGpGUB5W3y3R"
      },
      "source": [
        "### Implementation of Back Propagation\n",
        "\n",
        "* Let's add `backward` function to each of our nodes that will compute the derivative and propagate the error during the backward pass.\n",
        "* We also need to implement parameter updates according to the procedure described above\n",
        "\n",
        "We need to compute derivatives for each layer manually, for example for linear layer $z = x\\times W+b$:\n",
        "$$\\begin{align}\n",
        "\\frac{\\partial z}{\\partial W} &= x \\\\\n",
        "\\frac{\\partial z}{\\partial b} &= 1 \\\\\n",
        "\\end{align}$$\n",
        "\n",
        "If we need to compensate for the error $\\Delta z$ at the output of the layer, we need to update the weights accordingly:\n",
        "$$\\begin{align}\n",
        "\\Delta x &= \\Delta z \\times W \\\\\n",
        "\\Delta W &= \\frac{\\partial z}{\\partial W} \\Delta z = \\Delta z \\times x \\\\\n",
        "\\Delta b &= \\frac{\\partial z}{\\partial b} \\Delta z = \\Delta z \\\\\n",
        "\\end{align}$$\n",
        "\n",
        "**IMPORTANT:** Calculations are done not for each training sample independently, but rather for a whole **minibatch**. Required parameter updates $\\Delta W$ and $\\Delta b$ are computed across the whole minibatch, and the respective vectors have dimensions: $x\\in\\mathbb{R}^{\\mathrm{minibatch}\\, \\times\\, \\mathrm{nclass}}$"
      ]
    },
    {
      "cell_type": "code",
      "execution_count": null,
      "metadata": {
        "id": "Vt8Npfw23y3R"
      },
      "outputs": [],
      "source": [
        "class Linear:\n",
        "    def __init__(self,nin,nout):\n",
        "        self.W = np.random.normal(0, 1.0/np.sqrt(nin), (nout, nin))\n",
        "        self.b = np.zeros((1,nout))\n",
        "        self.dW = np.zeros_like(self.W)\n",
        "        self.db = np.zeros_like(self.b)\n",
        "        \n",
        "    def forward(self, x):\n",
        "        self.x=x\n",
        "        return np.dot(x, self.W.T) + self.b\n",
        "    \n",
        "    def backward(self, dz):\n",
        "        dx = np.dot(dz, self.W)\n",
        "        dW = np.dot(dz.T, self.x)\n",
        "        db = dz.sum(axis=0)\n",
        "        self.dW = dW\n",
        "        self.db = db\n",
        "        return dx\n",
        "    \n",
        "    def update(self, lr):\n",
        "        self.W -= lr*self.dW\n",
        "        self.b -= lr*self.db"
      ]
    },
    {
      "cell_type": "markdown",
      "metadata": {
        "id": "ousOa_UV3y3R"
      },
      "source": [
        "In the same manner we can define `backward` function for the rest of our layers:"
      ]
    },
    {
      "cell_type": "code",
      "execution_count": null,
      "metadata": {
        "id": "BzFZCyS83y3R"
      },
      "outputs": [],
      "source": [
        "class Softmax:\n",
        "    def forward(self, z):\n",
        "        self.z = z\n",
        "        zmax = z.max(axis=1, keepdims=True)\n",
        "        expz = np.exp(z-zmax)\n",
        "        Z = expz.sum(axis=1, keepdims=True)\n",
        "        return expz / Z\n",
        "    def backward(self, dp):\n",
        "        p = self.forward(self.z)\n",
        "        pdp = p * dp\n",
        "        return pdp - p * pdp.sum(axis=1, keepdims=True)\n",
        "    \n",
        "class CrossEntropyLoss:\n",
        "    def forward(self, p, y):\n",
        "        self.p = p\n",
        "        self.y = y\n",
        "        p_of_y = p[np.arange(len(y)), y]\n",
        "        log_prob = np.log(p_of_y)\n",
        "        return -log_prob.mean()\n",
        "    def backward(self, loss):\n",
        "        dlog_softmax = np.zeros_like(self.p)\n",
        "        dlog_softmax[np.arange(len(self.y)), self.y] -= 1.0/len(self.y)\n",
        "        return dlog_softmax / self.p"
      ]
    },
    {
      "cell_type": "markdown",
      "metadata": {
        "id": "51hqzlQS3y3R"
      },
      "source": [
        "## Training the Model\n",
        "\n",
        "Now we are ready to write the **training loop**, which will go through our dataset, and perform the optimization minibatch by minibatch.One complete pass through the dataset is often called **an epoch**:"
      ]
    },
    {
      "cell_type": "code",
      "execution_count": null,
      "metadata": {
        "colab": {
          "base_uri": "https://localhost:8080/"
        },
        "id": "N84Adhj33y3R",
        "outputId": "ac9d9e2b-d9f9-43e8-bff7-107f6769d046"
      },
      "outputs": [
        {
          "output_type": "stream",
          "name": "stdout",
          "text": [
            "Initial accuracy:  0.725\n",
            "Final accuracy:  0.825\n"
          ]
        }
      ],
      "source": [
        "lin = Linear(2, 2)\n",
        "softmax = Softmax()\n",
        "cross_ent_loss = CrossEntropyLoss()\n",
        "\n",
        "learning_rate = 0.1\n",
        "\n",
        "pred = np.argmax(lin.forward(train_x), axis=1)\n",
        "acc = (pred==train_labels).mean()\n",
        "print(\"Initial accuracy: \", acc)\n",
        "\n",
        "batch_size=4\n",
        "for i in range(0, len(train_x), batch_size):\n",
        "    xb = train_x[i:i+batch_size]\n",
        "    yb = train_labels[i:i+batch_size]\n",
        "    \n",
        "    # forward pass\n",
        "    z = lin.forward(xb)\n",
        "    p = softmax.forward(z)\n",
        "    loss = cross_ent_loss.forward(p,yb)\n",
        "    \n",
        "    # backward pass\n",
        "    dp = cross_ent_loss.backward(loss)\n",
        "    dz = softmax.backward(dp)\n",
        "    dx = lin.backward(dz)\n",
        "    lin.update(learning_rate)\n",
        "    \n",
        "pred = np.argmax(lin.forward(train_x), axis=1)\n",
        "acc = (pred==train_labels).mean()\n",
        "print(\"Final accuracy: \", acc)\n",
        "    "
      ]
    },
    {
      "cell_type": "markdown",
      "metadata": {
        "id": "eFZbm8oj3y3R"
      },
      "source": [
        "Nice to see how we can increase accuracy of the model from about 50% to around 80% in one epoch.\n",
        "\n",
        "## Network Class\n",
        "\n",
        "Since in many cases neural network is just a composition of layers, we can build a class that will allow us to stack layers together and make forward and backward passes through them without explicitly programming that logic. We will store the list of layers inside the `Net` class, and use `add()` function to add new layers:"
      ]
    },
    {
      "cell_type": "code",
      "execution_count": null,
      "metadata": {
        "scrolled": true,
        "id": "uAo46BZN3y3S"
      },
      "outputs": [],
      "source": [
        "class Net:\n",
        "    def __init__(self):\n",
        "        self.layers = []\n",
        "    \n",
        "    def add(self, l):\n",
        "        self.layers.append(l)\n",
        "        \n",
        "    def forward(self, x):\n",
        "        for l in self.layers:\n",
        "            x = l.forward(x)\n",
        "        return x\n",
        "    \n",
        "    def backward(self, z):\n",
        "        for l in self.layers[::-1]:\n",
        "            z = l.backward(z)\n",
        "        return z\n",
        "    \n",
        "    def update(self, lr):\n",
        "        for l in self.layers:\n",
        "            if 'update' in l.__dir__():\n",
        "                l.update(lr)"
      ]
    },
    {
      "cell_type": "markdown",
      "metadata": {
        "id": "RaLTW2ES3y3S"
      },
      "source": [
        "With this `Net` class our model definition and training becomes more neat:"
      ]
    },
    {
      "cell_type": "code",
      "execution_count": null,
      "metadata": {
        "colab": {
          "base_uri": "https://localhost:8080/"
        },
        "id": "iBOq13cL3y3a",
        "outputId": "50bc0f94-3e01-450d-a98b-b2b4e0edbd0d"
      },
      "outputs": [
        {
          "output_type": "stream",
          "name": "stdout",
          "text": [
            "Initial loss=0.6212072429381601, accuracy=0.6875: \n",
            "Final loss=0.44369925927417986, accuracy=0.8: \n",
            "Test loss=0.4767711377257787, accuracy=0.85: \n"
          ]
        }
      ],
      "source": [
        "net = Net()\n",
        "net.add(Linear(2, 2))\n",
        "net.add(Softmax())\n",
        "loss = CrossEntropyLoss()\n",
        "\n",
        "def get_loss_acc(x,y,loss=CrossEntropyLoss()):\n",
        "    p = net.forward(x)\n",
        "    l = loss.forward(p, y)\n",
        "    pred = np.argmax(p, axis=1)\n",
        "    acc = (pred==y).mean()\n",
        "    return l,acc\n",
        "\n",
        "print(\"Initial loss={}, accuracy={}: \".format(*get_loss_acc(train_x, train_labels)))\n",
        "\n",
        "def train_epoch(net, train_x, train_labels, loss=CrossEntropyLoss(), batch_size=4, lr=0.1):\n",
        "    for i in range(0,len(train_x),batch_size):\n",
        "        xb = train_x[i:i+batch_size]\n",
        "        yb = train_labels[i:i+batch_size]\n",
        "\n",
        "        p = net.forward(xb)\n",
        "        l = loss.forward(p,yb)\n",
        "        dp = loss.backward(l)\n",
        "        dx = net.backward(dp)\n",
        "        net.update(lr)\n",
        " \n",
        "train_epoch(net,train_x, train_labels)\n",
        "        \n",
        "print(\"Final loss={}, accuracy={}: \".format(*get_loss_acc(train_x, train_labels)))\n",
        "print(\"Test loss={}, accuracy={}: \".format(*get_loss_acc(test_x, test_labels)))"
      ]
    },
    {
      "cell_type": "markdown",
      "metadata": {
        "id": "HY36bVZ83y3a"
      },
      "source": [
        "## Plotting the Training Process\n",
        "\n",
        "It would be nice to see visually how the network is being trained! We will define a `train_and_plot` function for that. To visualize the state of the network we will use level map, i.e. we will represent different values of the network output using different colors.\n",
        "\n",
        "> Do not worry if you do not understand some of the plotting code below - it is more important to understand the underlying neural network concepts."
      ]
    },
    {
      "cell_type": "code",
      "execution_count": null,
      "metadata": {
        "id": "z2YPw1tf3y3a"
      },
      "outputs": [],
      "source": [
        "def train_and_plot(n_epoch, net, loss=CrossEntropyLoss(), batch_size=4, lr=0.1):\n",
        "    fig, ax = plt.subplots(2, 1)\n",
        "    ax[0].set_xlim(0, n_epoch + 1)\n",
        "    ax[0].set_ylim(0,1)\n",
        "\n",
        "    train_acc = np.empty((n_epoch, 3))\n",
        "    train_acc[:] = np.NAN\n",
        "    valid_acc = np.empty((n_epoch, 3))\n",
        "    valid_acc[:] = np.NAN\n",
        "\n",
        "    for epoch in range(1, n_epoch + 1):\n",
        "\n",
        "        train_epoch(net, train_x, train_labels, loss, batch_size,lr)\n",
        "        tloss, taccuracy = get_loss_acc(train_x, train_labels,loss)\n",
        "        train_acc[epoch-1, :] = [epoch, tloss, taccuracy]\n",
        "        vloss, vaccuracy = get_loss_acc(test_x, test_labels,loss)\n",
        "        valid_acc[epoch-1, :] = [epoch, vloss, vaccuracy]\n",
        "        \n",
        "        ax[0].set_ylim(0, max(max(train_acc[:, 2]), max(valid_acc[:, 2])) * 1.1)\n",
        "\n",
        "        plot_training_progress(train_acc[:, 0], (train_acc[:, 2],\n",
        "                                                 valid_acc[:, 2]), fig, ax[0])\n",
        "        plot_decision_boundary(net, fig, ax[1])\n",
        "        fig.canvas.draw()\n",
        "        fig.canvas.flush_events()\n",
        "\n",
        "    return train_acc, valid_acc"
      ]
    },
    {
      "cell_type": "code",
      "execution_count": null,
      "metadata": {
        "id": "D0WrWew73y3b"
      },
      "outputs": [],
      "source": [
        "import matplotlib.cm as cm\n",
        "\n",
        "def plot_decision_boundary(net, fig, ax):\n",
        "    draw_colorbar = True\n",
        "    # remove previous plot\n",
        "    while ax.collections:\n",
        "        ax.collections.pop()\n",
        "        draw_colorbar = False\n",
        "\n",
        "    # generate countour grid\n",
        "    x_min, x_max = train_x[:, 0].min() - 1, train_x[:, 0].max() + 1\n",
        "    y_min, y_max = train_x[:, 1].min() - 1, train_x[:, 1].max() + 1\n",
        "    xx, yy = np.meshgrid(np.arange(x_min, x_max, 0.1),\n",
        "                         np.arange(y_min, y_max, 0.1))\n",
        "    grid_points = np.c_[xx.ravel().astype('float32'), yy.ravel().astype('float32')]\n",
        "    n_classes = max(train_labels)+1\n",
        "    while train_x.shape[1] > grid_points.shape[1]:\n",
        "        # pad dimensions (plot only the first two)\n",
        "        grid_points = np.c_[grid_points,\n",
        "                            np.empty(len(xx.ravel())).astype('float32')]\n",
        "        grid_points[:, -1].fill(train_x[:, grid_points.shape[1]-1].mean())\n",
        "\n",
        "    # evaluate predictions\n",
        "    prediction = np.array(net.forward(grid_points))\n",
        "    # for two classes: prediction difference\n",
        "    if (n_classes == 2):\n",
        "        Z = np.array([0.5+(p[0]-p[1]) / 2.0 for p in prediction]).reshape(xx.shape)\n",
        "    else:\n",
        "        Z = np.array([p.argsort()[-1] / float(n_classes-1) for p in prediction]).reshape(xx.shape)\n",
        "    \n",
        "    # draw contour\n",
        "    levels = np.linspace(0, 1, 40)\n",
        "    cs = ax.contourf(xx, yy, Z, alpha=0.4, levels = levels)\n",
        "    if draw_colorbar:\n",
        "        fig.colorbar(cs, ax=ax, ticks = [0, 0.5, 1])\n",
        "    c_map = [cm.jet(x) for x in np.linspace(0.0, 1.0, n_classes) ]\n",
        "    colors = [c_map[l] for l in train_labels]\n",
        "    ax.scatter(train_x[:, 0], train_x[:, 1], marker='o', c=colors, s=60, alpha = 0.5)"
      ]
    },
    {
      "cell_type": "code",
      "execution_count": null,
      "metadata": {
        "id": "E8uKF0O93y3b"
      },
      "outputs": [],
      "source": [
        "def plot_training_progress(x, y_data, fig, ax):\n",
        "    styles = ['k--', 'g-']\n",
        "    # remove previous plot\n",
        "    while ax.lines:\n",
        "        ax.lines.pop()\n",
        "    # draw updated lines\n",
        "    for i in range(len(y_data)):\n",
        "        ax.plot(x, y_data[i], styles[i])\n",
        "    ax.legend(ax.lines, ['training accuracy', 'validation accuracy'],\n",
        "              loc='upper center', ncol = 2)"
      ]
    },
    {
      "cell_type": "code",
      "execution_count": null,
      "metadata": {
        "id": "LCXRnB3y3y3b"
      },
      "outputs": [],
      "source": [
        "%matplotlib nbagg \n",
        "net = Net()\n",
        "net.add(Linear(2, 2))\n",
        "net.add(Softmax())\n",
        "\n",
        "res = train_and_plot(30, net, lr=0.005)"
      ]
    },
    {
      "cell_type": "markdown",
      "metadata": {
        "id": "FjVjmzyz3y3b"
      },
      "source": [
        "After running the cell above you should be able to see interactively how the boundary between classes change during training. Note that we have chosen very small learning rate so that we can see how the process happens.\n",
        "\n",
        "## Multi-Layered Models\n",
        "\n",
        "The network above has been constructed from several layers, but we still had only one `Linear` layer, which does the actual classification. What happens if we decide to add several such layers?\n",
        "\n",
        "Surprisingly, our code will work! Very important thing to note, however, is that in between linear layers we need to have a non-linear **activation function**, such as `tanh`. Without such non-linearity, several linear layers would have the same expressive power as just one layers - because composition of linear functions is also linear!"
      ]
    },
    {
      "cell_type": "code",
      "execution_count": null,
      "metadata": {
        "id": "RrlY9hwl3y3b"
      },
      "outputs": [],
      "source": [
        "class Tanh:\n",
        "    def forward(self, x):\n",
        "        y = np.tanh(x)\n",
        "        self.y = y\n",
        "        return y\n",
        "    def backward(self, dy):\n",
        "        return (1.0-self.y**2) * dy"
      ]
    },
    {
      "cell_type": "markdown",
      "metadata": {
        "id": "_wVBsLkw3y3b"
      },
      "source": [
        " Adding several layers make sense, because unlike one-layer network, multi-layered model will be able to accuratley classify sets that are not linearly separable. I.e., a model with several layers will be **reacher**.\n",
        "\n",
        "> It can be demonstrated that with sufficient number of neurons a two-layered model is capable to classifying any convex set of data points, and three-layered network can classify virtually any set.\n",
        "\n",
        "Mathematically, multi-layered perceptron would be represented by a more complex function $f_\\theta$ that can be computed in several steps:\n",
        "* $z_1 = W_1\\times x+b_1$\n",
        "* $z_2 = W_2\\times\\alpha(z_1)+b_2$\n",
        "* $f = \\sigma(z_2)$\n",
        "\n",
        "Here, $\\alpha$ is a **non-linear activation function**, $\\sigma$ is a softmax function, and $\\theta=\\langle W_1,b_1,W_2,b_2\\rangle$ are parameters.\n",
        "\n",
        "The gradient descent algorithm would remain the same, but it would be more difficult to calculate gradients. Given the\n",
        " chain differentiation rule, we can calculate derivatives as:\n",
        "\n",
        "$$\\begin{align}\n",
        "\\frac{\\partial\\mathcal{L}}{\\partial W_2} &= \\color{red}{\\frac{\\partial\\mathcal{L}}{\\partial\\sigma}\\frac{\\partial\\sigma}{\\partial z_2}}\\color{black}{\\frac{\\partial z_2}{\\partial W_2}} \\\\\n",
        "\\frac{\\partial\\mathcal{L}}{\\partial W_1} &= \\color{red}{\\frac{\\partial\\mathcal{L}}{\\partial\\sigma}\\frac{\\partial\\sigma}{\\partial z_2}}\\color{black}{\\frac{\\partial z_2}{\\partial\\alpha}\\frac{\\partial\\alpha}{\\partial z_1}\\frac{\\partial z_1}{\\partial W_1}}\n",
        "\\end{align}\n",
        "$$\n",
        "\n",
        "Note that the beginning of all those expressions is still the same, and thus we can continue back propagation beyond one linear layers to adjust further weights up the computational graph.\n",
        "\n",
        "Let's now experiment with two-layered network:"
      ]
    },
    {
      "cell_type": "code",
      "execution_count": null,
      "metadata": {
        "id": "6aTJyR3y3y3c"
      },
      "outputs": [],
      "source": [
        "net = Net()\n",
        "net.add(Linear(2, 10))\n",
        "net.add(Tanh())\n",
        "net.add(Linear(10, 2))\n",
        "net.add(Softmax())\n",
        "loss = CrossEntropyLoss()"
      ]
    },
    {
      "cell_type": "code",
      "execution_count": null,
      "metadata": {
        "scrolled": false,
        "id": "-rUVNKUB3y3c",
        "outputId": "b8d2185d-a518-409c-d311-6829e4781323"
      },
      "outputs": [
        {
          "data": {
            "application/javascript": "/* Put everything inside the global mpl namespace */\n/* global mpl */\nwindow.mpl = {};\n\nmpl.get_websocket_type = function () {\n    if (typeof WebSocket !== 'undefined') {\n        return WebSocket;\n    } else if (typeof MozWebSocket !== 'undefined') {\n        return MozWebSocket;\n    } else {\n        alert(\n            'Your browser does not have WebSocket support. ' +\n                'Please try Chrome, Safari or Firefox ≥ 6. ' +\n                'Firefox 4 and 5 are also supported but you ' +\n                'have to enable WebSockets in about:config.'\n        );\n    }\n};\n\nmpl.figure = function (figure_id, websocket, ondownload, parent_element) {\n    this.id = figure_id;\n\n    this.ws = websocket;\n\n    this.supports_binary = this.ws.binaryType !== undefined;\n\n    if (!this.supports_binary) {\n        var warnings = document.getElementById('mpl-warnings');\n        if (warnings) {\n            warnings.style.display = 'block';\n            warnings.textContent =\n                'This browser does not support binary websocket messages. ' +\n                'Performance may be slow.';\n        }\n    }\n\n    this.imageObj = new Image();\n\n    this.context = undefined;\n    this.message = undefined;\n    this.canvas = undefined;\n    this.rubberband_canvas = undefined;\n    this.rubberband_context = undefined;\n    this.format_dropdown = undefined;\n\n    this.image_mode = 'full';\n\n    this.root = document.createElement('div');\n    this.root.setAttribute('style', 'display: inline-block');\n    this._root_extra_style(this.root);\n\n    parent_element.appendChild(this.root);\n\n    this._init_header(this);\n    this._init_canvas(this);\n    this._init_toolbar(this);\n\n    var fig = this;\n\n    this.waiting = false;\n\n    this.ws.onopen = function () {\n        fig.send_message('supports_binary', { value: fig.supports_binary });\n        fig.send_message('send_image_mode', {});\n        if (fig.ratio !== 1) {\n            fig.send_message('set_dpi_ratio', { dpi_ratio: fig.ratio });\n        }\n        fig.send_message('refresh', {});\n    };\n\n    this.imageObj.onload = function () {\n        if (fig.image_mode === 'full') {\n            // Full images could contain transparency (where diff images\n            // almost always do), so we need to clear the canvas so that\n            // there is no ghosting.\n            fig.context.clearRect(0, 0, fig.canvas.width, fig.canvas.height);\n        }\n        fig.context.drawImage(fig.imageObj, 0, 0);\n    };\n\n    this.imageObj.onunload = function () {\n        fig.ws.close();\n    };\n\n    this.ws.onmessage = this._make_on_message_function(this);\n\n    this.ondownload = ondownload;\n};\n\nmpl.figure.prototype._init_header = function () {\n    var titlebar = document.createElement('div');\n    titlebar.classList =\n        'ui-dialog-titlebar ui-widget-header ui-corner-all ui-helper-clearfix';\n    var titletext = document.createElement('div');\n    titletext.classList = 'ui-dialog-title';\n    titletext.setAttribute(\n        'style',\n        'width: 100%; text-align: center; padding: 3px;'\n    );\n    titlebar.appendChild(titletext);\n    this.root.appendChild(titlebar);\n    this.header = titletext;\n};\n\nmpl.figure.prototype._canvas_extra_style = function (_canvas_div) {};\n\nmpl.figure.prototype._root_extra_style = function (_canvas_div) {};\n\nmpl.figure.prototype._init_canvas = function () {\n    var fig = this;\n\n    var canvas_div = (this.canvas_div = document.createElement('div'));\n    canvas_div.setAttribute(\n        'style',\n        'border: 1px solid #ddd;' +\n            'box-sizing: content-box;' +\n            'clear: both;' +\n            'min-height: 1px;' +\n            'min-width: 1px;' +\n            'outline: 0;' +\n            'overflow: hidden;' +\n            'position: relative;' +\n            'resize: both;'\n    );\n\n    function on_keyboard_event_closure(name) {\n        return function (event) {\n            return fig.key_event(event, name);\n        };\n    }\n\n    canvas_div.addEventListener(\n        'keydown',\n        on_keyboard_event_closure('key_press')\n    );\n    canvas_div.addEventListener(\n        'keyup',\n        on_keyboard_event_closure('key_release')\n    );\n\n    this._canvas_extra_style(canvas_div);\n    this.root.appendChild(canvas_div);\n\n    var canvas = (this.canvas = document.createElement('canvas'));\n    canvas.classList.add('mpl-canvas');\n    canvas.setAttribute('style', 'box-sizing: content-box;');\n\n    this.context = canvas.getContext('2d');\n\n    var backingStore =\n        this.context.backingStorePixelRatio ||\n        this.context.webkitBackingStorePixelRatio ||\n        this.context.mozBackingStorePixelRatio ||\n        this.context.msBackingStorePixelRatio ||\n        this.context.oBackingStorePixelRatio ||\n        this.context.backingStorePixelRatio ||\n        1;\n\n    this.ratio = (window.devicePixelRatio || 1) / backingStore;\n\n    var rubberband_canvas = (this.rubberband_canvas = document.createElement(\n        'canvas'\n    ));\n    rubberband_canvas.setAttribute(\n        'style',\n        'box-sizing: content-box; position: absolute; left: 0; top: 0; z-index: 1;'\n    );\n\n    // Apply a ponyfill if ResizeObserver is not implemented by browser.\n    if (this.ResizeObserver === undefined) {\n        if (window.ResizeObserver !== undefined) {\n            this.ResizeObserver = window.ResizeObserver;\n        } else {\n            var obs = _JSXTOOLS_RESIZE_OBSERVER({});\n            this.ResizeObserver = obs.ResizeObserver;\n        }\n    }\n\n    this.resizeObserverInstance = new this.ResizeObserver(function (entries) {\n        var nentries = entries.length;\n        for (var i = 0; i < nentries; i++) {\n            var entry = entries[i];\n            var width, height;\n            if (entry.contentBoxSize) {\n                if (entry.contentBoxSize instanceof Array) {\n                    // Chrome 84 implements new version of spec.\n                    width = entry.contentBoxSize[0].inlineSize;\n                    height = entry.contentBoxSize[0].blockSize;\n                } else {\n                    // Firefox implements old version of spec.\n                    width = entry.contentBoxSize.inlineSize;\n                    height = entry.contentBoxSize.blockSize;\n                }\n            } else {\n                // Chrome <84 implements even older version of spec.\n                width = entry.contentRect.width;\n                height = entry.contentRect.height;\n            }\n\n            // Keep the size of the canvas and rubber band canvas in sync with\n            // the canvas container.\n            if (entry.devicePixelContentBoxSize) {\n                // Chrome 84 implements new version of spec.\n                canvas.setAttribute(\n                    'width',\n                    entry.devicePixelContentBoxSize[0].inlineSize\n                );\n                canvas.setAttribute(\n                    'height',\n                    entry.devicePixelContentBoxSize[0].blockSize\n                );\n            } else {\n                canvas.setAttribute('width', width * fig.ratio);\n                canvas.setAttribute('height', height * fig.ratio);\n            }\n            canvas.setAttribute(\n                'style',\n                'width: ' + width + 'px; height: ' + height + 'px;'\n            );\n\n            rubberband_canvas.setAttribute('width', width);\n            rubberband_canvas.setAttribute('height', height);\n\n            // And update the size in Python. We ignore the initial 0/0 size\n            // that occurs as the element is placed into the DOM, which should\n            // otherwise not happen due to the minimum size styling.\n            if (fig.ws.readyState == 1 && width != 0 && height != 0) {\n                fig.request_resize(width, height);\n            }\n        }\n    });\n    this.resizeObserverInstance.observe(canvas_div);\n\n    function on_mouse_event_closure(name) {\n        return function (event) {\n            return fig.mouse_event(event, name);\n        };\n    }\n\n    rubberband_canvas.addEventListener(\n        'mousedown',\n        on_mouse_event_closure('button_press')\n    );\n    rubberband_canvas.addEventListener(\n        'mouseup',\n        on_mouse_event_closure('button_release')\n    );\n    rubberband_canvas.addEventListener(\n        'dblclick',\n        on_mouse_event_closure('dblclick')\n    );\n    // Throttle sequential mouse events to 1 every 20ms.\n    rubberband_canvas.addEventListener(\n        'mousemove',\n        on_mouse_event_closure('motion_notify')\n    );\n\n    rubberband_canvas.addEventListener(\n        'mouseenter',\n        on_mouse_event_closure('figure_enter')\n    );\n    rubberband_canvas.addEventListener(\n        'mouseleave',\n        on_mouse_event_closure('figure_leave')\n    );\n\n    canvas_div.addEventListener('wheel', function (event) {\n        if (event.deltaY < 0) {\n            event.step = 1;\n        } else {\n            event.step = -1;\n        }\n        on_mouse_event_closure('scroll')(event);\n    });\n\n    canvas_div.appendChild(canvas);\n    canvas_div.appendChild(rubberband_canvas);\n\n    this.rubberband_context = rubberband_canvas.getContext('2d');\n    this.rubberband_context.strokeStyle = '#000000';\n\n    this._resize_canvas = function (width, height, forward) {\n        if (forward) {\n            canvas_div.style.width = width + 'px';\n            canvas_div.style.height = height + 'px';\n        }\n    };\n\n    // Disable right mouse context menu.\n    this.rubberband_canvas.addEventListener('contextmenu', function (_e) {\n        event.preventDefault();\n        return false;\n    });\n\n    function set_focus() {\n        canvas.focus();\n        canvas_div.focus();\n    }\n\n    window.setTimeout(set_focus, 100);\n};\n\nmpl.figure.prototype._init_toolbar = function () {\n    var fig = this;\n\n    var toolbar = document.createElement('div');\n    toolbar.classList = 'mpl-toolbar';\n    this.root.appendChild(toolbar);\n\n    function on_click_closure(name) {\n        return function (_event) {\n            return fig.toolbar_button_onclick(name);\n        };\n    }\n\n    function on_mouseover_closure(tooltip) {\n        return function (event) {\n            if (!event.currentTarget.disabled) {\n                return fig.toolbar_button_onmouseover(tooltip);\n            }\n        };\n    }\n\n    fig.buttons = {};\n    var buttonGroup = document.createElement('div');\n    buttonGroup.classList = 'mpl-button-group';\n    for (var toolbar_ind in mpl.toolbar_items) {\n        var name = mpl.toolbar_items[toolbar_ind][0];\n        var tooltip = mpl.toolbar_items[toolbar_ind][1];\n        var image = mpl.toolbar_items[toolbar_ind][2];\n        var method_name = mpl.toolbar_items[toolbar_ind][3];\n\n        if (!name) {\n            /* Instead of a spacer, we start a new button group. */\n            if (buttonGroup.hasChildNodes()) {\n                toolbar.appendChild(buttonGroup);\n            }\n            buttonGroup = document.createElement('div');\n            buttonGroup.classList = 'mpl-button-group';\n            continue;\n        }\n\n        var button = (fig.buttons[name] = document.createElement('button'));\n        button.classList = 'mpl-widget';\n        button.setAttribute('role', 'button');\n        button.setAttribute('aria-disabled', 'false');\n        button.addEventListener('click', on_click_closure(method_name));\n        button.addEventListener('mouseover', on_mouseover_closure(tooltip));\n\n        var icon_img = document.createElement('img');\n        icon_img.src = '_images/' + image + '.png';\n        icon_img.srcset = '_images/' + image + '_large.png 2x';\n        icon_img.alt = tooltip;\n        button.appendChild(icon_img);\n\n        buttonGroup.appendChild(button);\n    }\n\n    if (buttonGroup.hasChildNodes()) {\n        toolbar.appendChild(buttonGroup);\n    }\n\n    var fmt_picker = document.createElement('select');\n    fmt_picker.classList = 'mpl-widget';\n    toolbar.appendChild(fmt_picker);\n    this.format_dropdown = fmt_picker;\n\n    for (var ind in mpl.extensions) {\n        var fmt = mpl.extensions[ind];\n        var option = document.createElement('option');\n        option.selected = fmt === mpl.default_extension;\n        option.innerHTML = fmt;\n        fmt_picker.appendChild(option);\n    }\n\n    var status_bar = document.createElement('span');\n    status_bar.classList = 'mpl-message';\n    toolbar.appendChild(status_bar);\n    this.message = status_bar;\n};\n\nmpl.figure.prototype.request_resize = function (x_pixels, y_pixels) {\n    // Request matplotlib to resize the figure. Matplotlib will then trigger a resize in the client,\n    // which will in turn request a refresh of the image.\n    this.send_message('resize', { width: x_pixels, height: y_pixels });\n};\n\nmpl.figure.prototype.send_message = function (type, properties) {\n    properties['type'] = type;\n    properties['figure_id'] = this.id;\n    this.ws.send(JSON.stringify(properties));\n};\n\nmpl.figure.prototype.send_draw_message = function () {\n    if (!this.waiting) {\n        this.waiting = true;\n        this.ws.send(JSON.stringify({ type: 'draw', figure_id: this.id }));\n    }\n};\n\nmpl.figure.prototype.handle_save = function (fig, _msg) {\n    var format_dropdown = fig.format_dropdown;\n    var format = format_dropdown.options[format_dropdown.selectedIndex].value;\n    fig.ondownload(fig, format);\n};\n\nmpl.figure.prototype.handle_resize = function (fig, msg) {\n    var size = msg['size'];\n    if (size[0] !== fig.canvas.width || size[1] !== fig.canvas.height) {\n        fig._resize_canvas(size[0], size[1], msg['forward']);\n        fig.send_message('refresh', {});\n    }\n};\n\nmpl.figure.prototype.handle_rubberband = function (fig, msg) {\n    var x0 = msg['x0'] / fig.ratio;\n    var y0 = (fig.canvas.height - msg['y0']) / fig.ratio;\n    var x1 = msg['x1'] / fig.ratio;\n    var y1 = (fig.canvas.height - msg['y1']) / fig.ratio;\n    x0 = Math.floor(x0) + 0.5;\n    y0 = Math.floor(y0) + 0.5;\n    x1 = Math.floor(x1) + 0.5;\n    y1 = Math.floor(y1) + 0.5;\n    var min_x = Math.min(x0, x1);\n    var min_y = Math.min(y0, y1);\n    var width = Math.abs(x1 - x0);\n    var height = Math.abs(y1 - y0);\n\n    fig.rubberband_context.clearRect(\n        0,\n        0,\n        fig.canvas.width / fig.ratio,\n        fig.canvas.height / fig.ratio\n    );\n\n    fig.rubberband_context.strokeRect(min_x, min_y, width, height);\n};\n\nmpl.figure.prototype.handle_figure_label = function (fig, msg) {\n    // Updates the figure title.\n    fig.header.textContent = msg['label'];\n};\n\nmpl.figure.prototype.handle_cursor = function (fig, msg) {\n    var cursor = msg['cursor'];\n    switch (cursor) {\n        case 0:\n            cursor = 'pointer';\n            break;\n        case 1:\n            cursor = 'default';\n            break;\n        case 2:\n            cursor = 'crosshair';\n            break;\n        case 3:\n            cursor = 'move';\n            break;\n    }\n    fig.rubberband_canvas.style.cursor = cursor;\n};\n\nmpl.figure.prototype.handle_message = function (fig, msg) {\n    fig.message.textContent = msg['message'];\n};\n\nmpl.figure.prototype.handle_draw = function (fig, _msg) {\n    // Request the server to send over a new figure.\n    fig.send_draw_message();\n};\n\nmpl.figure.prototype.handle_image_mode = function (fig, msg) {\n    fig.image_mode = msg['mode'];\n};\n\nmpl.figure.prototype.handle_history_buttons = function (fig, msg) {\n    for (var key in msg) {\n        if (!(key in fig.buttons)) {\n            continue;\n        }\n        fig.buttons[key].disabled = !msg[key];\n        fig.buttons[key].setAttribute('aria-disabled', !msg[key]);\n    }\n};\n\nmpl.figure.prototype.handle_navigate_mode = function (fig, msg) {\n    if (msg['mode'] === 'PAN') {\n        fig.buttons['Pan'].classList.add('active');\n        fig.buttons['Zoom'].classList.remove('active');\n    } else if (msg['mode'] === 'ZOOM') {\n        fig.buttons['Pan'].classList.remove('active');\n        fig.buttons['Zoom'].classList.add('active');\n    } else {\n        fig.buttons['Pan'].classList.remove('active');\n        fig.buttons['Zoom'].classList.remove('active');\n    }\n};\n\nmpl.figure.prototype.updated_canvas_event = function () {\n    // Called whenever the canvas gets updated.\n    this.send_message('ack', {});\n};\n\n// A function to construct a web socket function for onmessage handling.\n// Called in the figure constructor.\nmpl.figure.prototype._make_on_message_function = function (fig) {\n    return function socket_on_message(evt) {\n        if (evt.data instanceof Blob) {\n            var img = evt.data;\n            if (img.type !== 'image/png') {\n                /* FIXME: We get \"Resource interpreted as Image but\n                 * transferred with MIME type text/plain:\" errors on\n                 * Chrome.  But how to set the MIME type?  It doesn't seem\n                 * to be part of the websocket stream */\n                img.type = 'image/png';\n            }\n\n            /* Free the memory for the previous frames */\n            if (fig.imageObj.src) {\n                (window.URL || window.webkitURL).revokeObjectURL(\n                    fig.imageObj.src\n                );\n            }\n\n            fig.imageObj.src = (window.URL || window.webkitURL).createObjectURL(\n                img\n            );\n            fig.updated_canvas_event();\n            fig.waiting = false;\n            return;\n        } else if (\n            typeof evt.data === 'string' &&\n            evt.data.slice(0, 21) === 'data:image/png;base64'\n        ) {\n            fig.imageObj.src = evt.data;\n            fig.updated_canvas_event();\n            fig.waiting = false;\n            return;\n        }\n\n        var msg = JSON.parse(evt.data);\n        var msg_type = msg['type'];\n\n        // Call the  \"handle_{type}\" callback, which takes\n        // the figure and JSON message as its only arguments.\n        try {\n            var callback = fig['handle_' + msg_type];\n        } catch (e) {\n            console.log(\n                \"No handler for the '\" + msg_type + \"' message type: \",\n                msg\n            );\n            return;\n        }\n\n        if (callback) {\n            try {\n                // console.log(\"Handling '\" + msg_type + \"' message: \", msg);\n                callback(fig, msg);\n            } catch (e) {\n                console.log(\n                    \"Exception inside the 'handler_\" + msg_type + \"' callback:\",\n                    e,\n                    e.stack,\n                    msg\n                );\n            }\n        }\n    };\n};\n\n// from http://stackoverflow.com/questions/1114465/getting-mouse-location-in-canvas\nmpl.findpos = function (e) {\n    //this section is from http://www.quirksmode.org/js/events_properties.html\n    var targ;\n    if (!e) {\n        e = window.event;\n    }\n    if (e.target) {\n        targ = e.target;\n    } else if (e.srcElement) {\n        targ = e.srcElement;\n    }\n    if (targ.nodeType === 3) {\n        // defeat Safari bug\n        targ = targ.parentNode;\n    }\n\n    // pageX,Y are the mouse positions relative to the document\n    var boundingRect = targ.getBoundingClientRect();\n    var x = e.pageX - (boundingRect.left + document.body.scrollLeft);\n    var y = e.pageY - (boundingRect.top + document.body.scrollTop);\n\n    return { x: x, y: y };\n};\n\n/*\n * return a copy of an object with only non-object keys\n * we need this to avoid circular references\n * http://stackoverflow.com/a/24161582/3208463\n */\nfunction simpleKeys(original) {\n    return Object.keys(original).reduce(function (obj, key) {\n        if (typeof original[key] !== 'object') {\n            obj[key] = original[key];\n        }\n        return obj;\n    }, {});\n}\n\nmpl.figure.prototype.mouse_event = function (event, name) {\n    var canvas_pos = mpl.findpos(event);\n\n    if (name === 'button_press') {\n        this.canvas.focus();\n        this.canvas_div.focus();\n    }\n\n    var x = canvas_pos.x * this.ratio;\n    var y = canvas_pos.y * this.ratio;\n\n    this.send_message(name, {\n        x: x,\n        y: y,\n        button: event.button,\n        step: event.step,\n        guiEvent: simpleKeys(event),\n    });\n\n    /* This prevents the web browser from automatically changing to\n     * the text insertion cursor when the button is pressed.  We want\n     * to control all of the cursor setting manually through the\n     * 'cursor' event from matplotlib */\n    event.preventDefault();\n    return false;\n};\n\nmpl.figure.prototype._key_event_extra = function (_event, _name) {\n    // Handle any extra behaviour associated with a key event\n};\n\nmpl.figure.prototype.key_event = function (event, name) {\n    // Prevent repeat events\n    if (name === 'key_press') {\n        if (event.key === this._key) {\n            return;\n        } else {\n            this._key = event.key;\n        }\n    }\n    if (name === 'key_release') {\n        this._key = null;\n    }\n\n    var value = '';\n    if (event.ctrlKey && event.key !== 'Control') {\n        value += 'ctrl+';\n    }\n    else if (event.altKey && event.key !== 'Alt') {\n        value += 'alt+';\n    }\n    else if (event.shiftKey && event.key !== 'Shift') {\n        value += 'shift+';\n    }\n\n    value += 'k' + event.key;\n\n    this._key_event_extra(event, name);\n\n    this.send_message(name, { key: value, guiEvent: simpleKeys(event) });\n    return false;\n};\n\nmpl.figure.prototype.toolbar_button_onclick = function (name) {\n    if (name === 'download') {\n        this.handle_save(this, null);\n    } else {\n        this.send_message('toolbar_button', { name: name });\n    }\n};\n\nmpl.figure.prototype.toolbar_button_onmouseover = function (tooltip) {\n    this.message.textContent = tooltip;\n};\n\n///////////////// REMAINING CONTENT GENERATED BY embed_js.py /////////////////\n// prettier-ignore\nvar _JSXTOOLS_RESIZE_OBSERVER=function(A){var t,i=new WeakMap,n=new WeakMap,a=new WeakMap,r=new WeakMap,o=new Set;function s(e){if(!(this instanceof s))throw new TypeError(\"Constructor requires 'new' operator\");i.set(this,e)}function h(){throw new TypeError(\"Function is not a constructor\")}function c(e,t,i,n){e=0 in arguments?Number(arguments[0]):0,t=1 in arguments?Number(arguments[1]):0,i=2 in arguments?Number(arguments[2]):0,n=3 in arguments?Number(arguments[3]):0,this.right=(this.x=this.left=e)+(this.width=i),this.bottom=(this.y=this.top=t)+(this.height=n),Object.freeze(this)}function d(){t=requestAnimationFrame(d);var s=new WeakMap,p=new Set;o.forEach((function(t){r.get(t).forEach((function(i){var r=t instanceof window.SVGElement,o=a.get(t),d=r?0:parseFloat(o.paddingTop),f=r?0:parseFloat(o.paddingRight),l=r?0:parseFloat(o.paddingBottom),u=r?0:parseFloat(o.paddingLeft),g=r?0:parseFloat(o.borderTopWidth),m=r?0:parseFloat(o.borderRightWidth),w=r?0:parseFloat(o.borderBottomWidth),b=u+f,F=d+l,v=(r?0:parseFloat(o.borderLeftWidth))+m,W=g+w,y=r?0:t.offsetHeight-W-t.clientHeight,E=r?0:t.offsetWidth-v-t.clientWidth,R=b+v,z=F+W,M=r?t.width:parseFloat(o.width)-R-E,O=r?t.height:parseFloat(o.height)-z-y;if(n.has(t)){var k=n.get(t);if(k[0]===M&&k[1]===O)return}n.set(t,[M,O]);var S=Object.create(h.prototype);S.target=t,S.contentRect=new c(u,d,M,O),s.has(i)||(s.set(i,[]),p.add(i)),s.get(i).push(S)}))})),p.forEach((function(e){i.get(e).call(e,s.get(e),e)}))}return s.prototype.observe=function(i){if(i instanceof window.Element){r.has(i)||(r.set(i,new Set),o.add(i),a.set(i,window.getComputedStyle(i)));var n=r.get(i);n.has(this)||n.add(this),cancelAnimationFrame(t),t=requestAnimationFrame(d)}},s.prototype.unobserve=function(i){if(i instanceof window.Element&&r.has(i)){var n=r.get(i);n.has(this)&&(n.delete(this),n.size||(r.delete(i),o.delete(i))),n.size||r.delete(i),o.size||cancelAnimationFrame(t)}},A.DOMRectReadOnly=c,A.ResizeObserver=s,A.ResizeObserverEntry=h,A}; // eslint-disable-line\nmpl.toolbar_items = [[\"Home\", \"Reset original view\", \"fa fa-home icon-home\", \"home\"], [\"Back\", \"Back to previous view\", \"fa fa-arrow-left icon-arrow-left\", \"back\"], [\"Forward\", \"Forward to next view\", \"fa fa-arrow-right icon-arrow-right\", \"forward\"], [\"\", \"\", \"\", \"\"], [\"Pan\", \"Left button pans, Right button zooms\\nx/y fixes axis, CTRL fixes aspect\", \"fa fa-arrows icon-move\", \"pan\"], [\"Zoom\", \"Zoom to rectangle\\nx/y fixes axis, CTRL fixes aspect\", \"fa fa-square-o icon-check-empty\", \"zoom\"], [\"\", \"\", \"\", \"\"], [\"Download\", \"Download plot\", \"fa fa-floppy-o icon-save\", \"download\"]];\n\nmpl.extensions = [\"eps\", \"jpeg\", \"pgf\", \"pdf\", \"png\", \"ps\", \"raw\", \"svg\", \"tif\"];\n\nmpl.default_extension = \"png\";/* global mpl */\n\nvar comm_websocket_adapter = function (comm) {\n    // Create a \"websocket\"-like object which calls the given IPython comm\n    // object with the appropriate methods. Currently this is a non binary\n    // socket, so there is still some room for performance tuning.\n    var ws = {};\n\n    ws.binaryType = comm.kernel.ws.binaryType;\n    ws.readyState = comm.kernel.ws.readyState;\n    function updateReadyState(_event) {\n        if (comm.kernel.ws) {\n            ws.readyState = comm.kernel.ws.readyState;\n        } else {\n            ws.readyState = 3; // Closed state.\n        }\n    }\n    comm.kernel.ws.addEventListener('open', updateReadyState);\n    comm.kernel.ws.addEventListener('close', updateReadyState);\n    comm.kernel.ws.addEventListener('error', updateReadyState);\n\n    ws.close = function () {\n        comm.close();\n    };\n    ws.send = function (m) {\n        //console.log('sending', m);\n        comm.send(m);\n    };\n    // Register the callback with on_msg.\n    comm.on_msg(function (msg) {\n        //console.log('receiving', msg['content']['data'], msg);\n        var data = msg['content']['data'];\n        if (data['blob'] !== undefined) {\n            data = {\n                data: new Blob(msg['buffers'], { type: data['blob'] }),\n            };\n        }\n        // Pass the mpl event to the overridden (by mpl) onmessage function.\n        ws.onmessage(data);\n    });\n    return ws;\n};\n\nmpl.mpl_figure_comm = function (comm, msg) {\n    // This is the function which gets called when the mpl process\n    // starts-up an IPython Comm through the \"matplotlib\" channel.\n\n    var id = msg.content.data.id;\n    // Get hold of the div created by the display call when the Comm\n    // socket was opened in Python.\n    var element = document.getElementById(id);\n    var ws_proxy = comm_websocket_adapter(comm);\n\n    function ondownload(figure, _format) {\n        window.open(figure.canvas.toDataURL());\n    }\n\n    var fig = new mpl.figure(id, ws_proxy, ondownload, element);\n\n    // Call onopen now - mpl needs it, as it is assuming we've passed it a real\n    // web socket which is closed, not our websocket->open comm proxy.\n    ws_proxy.onopen();\n\n    fig.parent_element = element;\n    fig.cell_info = mpl.find_output_cell(\"<div id='\" + id + \"'></div>\");\n    if (!fig.cell_info) {\n        console.error('Failed to find cell for figure', id, fig);\n        return;\n    }\n    fig.cell_info[0].output_area.element.on(\n        'cleared',\n        { fig: fig },\n        fig._remove_fig_handler\n    );\n};\n\nmpl.figure.prototype.handle_close = function (fig, msg) {\n    var width = fig.canvas.width / fig.ratio;\n    fig.cell_info[0].output_area.element.off(\n        'cleared',\n        fig._remove_fig_handler\n    );\n    fig.resizeObserverInstance.unobserve(fig.canvas_div);\n\n    // Update the output cell to use the data from the current canvas.\n    fig.push_to_output();\n    var dataURL = fig.canvas.toDataURL();\n    // Re-enable the keyboard manager in IPython - without this line, in FF,\n    // the notebook keyboard shortcuts fail.\n    IPython.keyboard_manager.enable();\n    fig.parent_element.innerHTML =\n        '<img src=\"' + dataURL + '\" width=\"' + width + '\">';\n    fig.close_ws(fig, msg);\n};\n\nmpl.figure.prototype.close_ws = function (fig, msg) {\n    fig.send_message('closing', msg);\n    // fig.ws.close()\n};\n\nmpl.figure.prototype.push_to_output = function (_remove_interactive) {\n    // Turn the data on the canvas into data in the output cell.\n    var width = this.canvas.width / this.ratio;\n    var dataURL = this.canvas.toDataURL();\n    this.cell_info[1]['text/html'] =\n        '<img src=\"' + dataURL + '\" width=\"' + width + '\">';\n};\n\nmpl.figure.prototype.updated_canvas_event = function () {\n    // Tell IPython that the notebook contents must change.\n    IPython.notebook.set_dirty(true);\n    this.send_message('ack', {});\n    var fig = this;\n    // Wait a second, then push the new image to the DOM so\n    // that it is saved nicely (might be nice to debounce this).\n    setTimeout(function () {\n        fig.push_to_output();\n    }, 1000);\n};\n\nmpl.figure.prototype._init_toolbar = function () {\n    var fig = this;\n\n    var toolbar = document.createElement('div');\n    toolbar.classList = 'btn-toolbar';\n    this.root.appendChild(toolbar);\n\n    function on_click_closure(name) {\n        return function (_event) {\n            return fig.toolbar_button_onclick(name);\n        };\n    }\n\n    function on_mouseover_closure(tooltip) {\n        return function (event) {\n            if (!event.currentTarget.disabled) {\n                return fig.toolbar_button_onmouseover(tooltip);\n            }\n        };\n    }\n\n    fig.buttons = {};\n    var buttonGroup = document.createElement('div');\n    buttonGroup.classList = 'btn-group';\n    var button;\n    for (var toolbar_ind in mpl.toolbar_items) {\n        var name = mpl.toolbar_items[toolbar_ind][0];\n        var tooltip = mpl.toolbar_items[toolbar_ind][1];\n        var image = mpl.toolbar_items[toolbar_ind][2];\n        var method_name = mpl.toolbar_items[toolbar_ind][3];\n\n        if (!name) {\n            /* Instead of a spacer, we start a new button group. */\n            if (buttonGroup.hasChildNodes()) {\n                toolbar.appendChild(buttonGroup);\n            }\n            buttonGroup = document.createElement('div');\n            buttonGroup.classList = 'btn-group';\n            continue;\n        }\n\n        button = fig.buttons[name] = document.createElement('button');\n        button.classList = 'btn btn-default';\n        button.href = '#';\n        button.title = name;\n        button.innerHTML = '<i class=\"fa ' + image + ' fa-lg\"></i>';\n        button.addEventListener('click', on_click_closure(method_name));\n        button.addEventListener('mouseover', on_mouseover_closure(tooltip));\n        buttonGroup.appendChild(button);\n    }\n\n    if (buttonGroup.hasChildNodes()) {\n        toolbar.appendChild(buttonGroup);\n    }\n\n    // Add the status bar.\n    var status_bar = document.createElement('span');\n    status_bar.classList = 'mpl-message pull-right';\n    toolbar.appendChild(status_bar);\n    this.message = status_bar;\n\n    // Add the close button to the window.\n    var buttongrp = document.createElement('div');\n    buttongrp.classList = 'btn-group inline pull-right';\n    button = document.createElement('button');\n    button.classList = 'btn btn-mini btn-primary';\n    button.href = '#';\n    button.title = 'Stop Interaction';\n    button.innerHTML = '<i class=\"fa fa-power-off icon-remove icon-large\"></i>';\n    button.addEventListener('click', function (_evt) {\n        fig.handle_close(fig, {});\n    });\n    button.addEventListener(\n        'mouseover',\n        on_mouseover_closure('Stop Interaction')\n    );\n    buttongrp.appendChild(button);\n    var titlebar = this.root.querySelector('.ui-dialog-titlebar');\n    titlebar.insertBefore(buttongrp, titlebar.firstChild);\n};\n\nmpl.figure.prototype._remove_fig_handler = function (event) {\n    var fig = event.data.fig;\n    if (event.target !== this) {\n        // Ignore bubbled events from children.\n        return;\n    }\n    fig.close_ws(fig, {});\n};\n\nmpl.figure.prototype._root_extra_style = function (el) {\n    el.style.boxSizing = 'content-box'; // override notebook setting of border-box.\n};\n\nmpl.figure.prototype._canvas_extra_style = function (el) {\n    // this is important to make the div 'focusable\n    el.setAttribute('tabindex', 0);\n    // reach out to IPython and tell the keyboard manager to turn it's self\n    // off when our div gets focus\n\n    // location in version 3\n    if (IPython.notebook.keyboard_manager) {\n        IPython.notebook.keyboard_manager.register_events(el);\n    } else {\n        // location in version 2\n        IPython.keyboard_manager.register_events(el);\n    }\n};\n\nmpl.figure.prototype._key_event_extra = function (event, _name) {\n    var manager = IPython.notebook.keyboard_manager;\n    if (!manager) {\n        manager = IPython.keyboard_manager;\n    }\n\n    // Check for shift+enter\n    if (event.shiftKey && event.which === 13) {\n        this.canvas_div.blur();\n        // select the cell after this one\n        var index = IPython.notebook.find_cell_index(this.cell_info[0]);\n        IPython.notebook.select(index + 1);\n    }\n};\n\nmpl.figure.prototype.handle_save = function (fig, _msg) {\n    fig.ondownload(fig, null);\n};\n\nmpl.find_output_cell = function (html_output) {\n    // Return the cell and output element which can be found *uniquely* in the notebook.\n    // Note - this is a bit hacky, but it is done because the \"notebook_saving.Notebook\"\n    // IPython event is triggered only after the cells have been serialised, which for\n    // our purposes (turning an active figure into a static one), is too late.\n    var cells = IPython.notebook.get_cells();\n    var ncells = cells.length;\n    for (var i = 0; i < ncells; i++) {\n        var cell = cells[i];\n        if (cell.cell_type === 'code') {\n            for (var j = 0; j < cell.output_area.outputs.length; j++) {\n                var data = cell.output_area.outputs[j];\n                if (data.data) {\n                    // IPython >= 3 moved mimebundle to data attribute of output\n                    data = data.data;\n                }\n                if (data['text/html'] === html_output) {\n                    return [cell, data, j];\n                }\n            }\n        }\n    }\n};\n\n// Register the function which deals with the matplotlib target/channel.\n// The kernel may be null if the page has been refreshed.\nif (IPython.notebook.kernel !== null) {\n    IPython.notebook.kernel.comm_manager.register_target(\n        'matplotlib',\n        mpl.mpl_figure_comm\n    );\n}\n",
            "text/plain": [
              "<IPython.core.display.Javascript object>"
            ]
          },
          "metadata": {},
          "output_type": "display_data"
        },
        {
          "data": {
            "text/html": [
              "<img src=\"data:image/png;base64,iVBORw0KGgoAAAANSUhEUgAAAoAAAAHgCAYAAAA10dzkAAAAAXNSR0IArs4c6QAAIABJREFUeF7snQeUVdX1xr/pvTB0ZoaiFCkiRQVBMLZoTCIo0WiMgi22GEuMCRoNJiqW/C0pikqiorHEiiVGjUoRrEhvivSZgaFM7+2/vjPe4c2b1++beW/mfWctlsK755bf3fee7+599j5RTU1NTVATAREQAREQAREQARGIGAJREoARc691oSIgAiIgAiIgAiJgCEgAyhBEQAREQAREQAREIMIISABG2A3X5YqACIiACIiACIiABKBsQAREQAREQAREQAQijIAEYITdcF2uCIiACIiACIiACEgAygZEQAREQAREQAREIMIISABG2A3X5YqACIiACIiACIiABKBsQAREQAREQAREQAQijIAEYITdcF2uCIiACIiACIiACEgAygZEQAREQAREQAREIMIISABG2A3X5YqACIiACIiACIiABKBsQAREQAREQAREQAQijIAEYITdcF2uCIiACIiACIiACEgAygZEQAREQAREQAREIMIISABG2A3X5YqACIiACIiACIiABKBsQAREQAREQAREQAQijIAEYITdcF2uCIiACIiACIiACEgAygZEQAREQAREQAREIMIISABG2A3X5YqACIiACIiACIiABKBsQAREQAREQAREQAQijIAEYITdcF2uCIiACIiACIiACEgAygZEQAREQAREQAREIMIISABG2A3X5YqACIiACIiACIiABKBsQAREQAREQAREQAQijIAEYITdcF2uCIiACIiACIiACEgAygZEQAREQAREQAREIMIISABG2A3X5YqACIiACIiACIiABKBsQAREQAREQAREQAQijIAEYITdcF2uCIiACIiACIiACEgAygZEQAREQAREQAREIMIISABG2A3X5YqACIiACIiACIiABKBsQAREQAREQAREQAQijIAEYITdcF2uCIiACIiACIiACEgAygZEQAREQAREQAREIMIISABG2A3X5YqACIiACIiACIiABKBsQAREQAREQAREQAQijIAEYITdcF2uCIiACIiACIiACEgAygZEQAREQAREQAREIMIISABG2A3X5YqACIiACIiACIiABKBsQAREQAREQAREQAQijIAEYITdcF2uCIiACIiACIiACEgAygZEQAREQAREQAREIMIISABG2A3X5YqACIiACIiACIiABKBsQAREQAREQAREQAQijIAEYITdcF2uCIiACIiACIiACEgAygZEQAREQAREQAREIMIISABG2A3X5YqACIiACIiACIiABKBsQAREQAREQAREQAQijIAEYITdcF2uCIiACIiACIiACEgAygZEQAREQAREQAREIMIISABG2A3X5YqACIiACIiACIiABKBsQAREQAREQAREQAQijIAEYITdcF2uCIiACIiACIiACEgAygZEQAREQAREQAREIMIISABG2A3X5YqACIiACIiACIiABKBsQAREQAREQAREQAQijIAEoI0b3tjYiPz8fKSlpSEqKsrGntRVBERABERABESgowg0NTWhrKwM/fr1Q3R0dEcdNqyOIwFo43bs3r0bubm5NvagriIgAiIgAiIgAqEisGvXLuTk5ITq8CE9rgSgDfwlJSXIzMwEDSg9Pd3GntRVBERABERABESgowiUlpYaB05xcTEyMjI66rBhdRwJQBu3gwZEw6EQlAC0AVJdRUAEREAERKADCWj8BiQAbRicDMgGPHUVAREQAREQgRAR0PgtAWjL9GRAtvCpswiIgAiIgAiEhIDGbwlAW4YnA7KFT51FQAREQAREICQENH5LANoyvEg2IKbQ19fXo6GhwRZDdRYBERABEQgdgZiYGMTGxkZcKbNIHr8ta9McQBvPXaQaUG1tLQoKClBZWWmDnrqKgAiIgAiEA4Hk5GT07dsX8fHx4XA6HXIOkTp+O8KVALRhapFoQCx+/c0334BfjT179jQvDBXBtmFE6ioCIiACISLASA4/6Pft22eiOUOGDImYosiROH47m5kEoI0HLxINqLq6Gtu2bcOAAQPAr0Y1ERABERCBzk2A0ZwdO3Zg0KBBSExM7NwX4+PZR+L4LQHoo3H4slkkGpAlACPpReGLLWgbERABEeisBCLxvR6J47cEYBCf0Eg0oEh8UQTRZLQrERABEQg7ApH4Xo/E8VsCMIiPXiQaUCS+KFyZzMCBA3H99debP760RYsW4cQTT0RRUZFZPlBNBMKdgLONc67va6+9hunTp7s89e3bt5sQ4sqVKzFmzJiALy9Y+wn4BCKwYyS+1yNx/JYADOLD3dkNqKymzCRwpMan+kyls74ovve975lB6aGHHvL5Wj1tyEnTKSkpPs+D5ETrgwcPonfv3kqaCcod0E7am4CzANyzZw+6deuGhISEoAnAWbNmmbVYX3/99ZZ9MhmBz1ePHj1MeRK19ifQWd/rdsh09vHbzrVbfZUEYoNiZzagDfs24MSnT0RFbQVumHgDbpp0EzISvS+I3VlfFL4IQGbEcfDRoGPjoXDRleI3kspLBJde6Pbmr5c7EM+dKwEYuisO/ZHr6uoQFxfX4SfSWd/rdkB15vHbznU79pUAtEGysxrQ1qKtOP6fx6OgvKDl6rOSsjD7+Nm45phrkBSX5JZKZ3xRcJB5+umnW10TM5k5YDEs+9///he33nor1qxZg3fffRf9+/fHjTfeiE8//RQVFRUYPnw45s6di1NOOaVlH67CY0888QTefvtts4/s7Gz83//9H84880zTxzkE/NRTT5nw8Ysvvmj+u2vXLhx//PF48sknTT0uNhba5nksWLDAlN257LLLQC9MSUlJK4+J44UdOHAAv/zlL7F06VLjcTz88MNxyy234Pzzz2/ZjKV87r//fvB8eVx6Ja+44grDgG337t246aab8N5776GmpsZc/9///ndMmDABrgZsnv+qVavMNbJRbI8aNcqIPp77yJEjsXjxYjzwwAPm+rZu3YqsrCz8+Mc/xn333YfU1EMe6GXLlpnz/eKLL4yn6dhjj8ULL7yAN998EzfccAPy8/NbeaBmzJhhPLE8jlozgcceewx//OMfzb2Njo5uwUJbpAePz8K3334bkI07hoA///xzYzcbN24095v2c/bZZ7eEgPkx9Ytf/AIffvihsVs+V1dffTWuu+46c05z5szBHXfc0eq2ffTRR+Cz5RxKpv385je/werVq43tzJw5E3feeWfLxxptbvTo0SaDdf78+cb2rrzySnMMd402RltjyJrCixGCBx98EOPGjWvpQu/kzTffjIULF5rnbvDgwbjnnnvwox/9yGzjzl7J2ZWA5jEYQrfOixGYRx99FO+88w7+97//mefu9ttv98jNOrl//vOf5h2zZcsWw4TPwt/+9jdccsklKCwsxFtvvdVyHXyX5OTk4O677za/O7fO+F63+7x31vHb7nU79pcAtEGzMxpQXmkepjw5BduKt2Fkz5G4ZcotuHPJndi4f6MhkZ2WjTnfm4NZY2YhNrpt+MXTi4JiyV2jgHEsL+BpWw5aSUmHRKirbTno+9r44v7BD35gBikOjGysYUiRRAHIgePPf/4zDjvsMDM/jwKI4m/SpEnmnDlg8kW7efNmM4ixuRKAfMFS0BxzzDH461//Cr6gWVqBL2dXApCD4wknnGDEJa/55z//OcaOHYt//etf5hh33XWXEU0c0CjCHn74YTz33HPmnB1DZo4c8vLy8Pzzzxuxmp6ebgQphRMHKgo4tt/+9rdG/HGwo+hkUe9NmzYZgVleXo6jjjrKCFgOFn369MFXX32F3NxcHHfccT4LwBUrVuCqq67CpZdeCnpWjzjiCBN+577JjgKcYuCkk07CI488Ys6LInLixIlmgKKwoCeWguC8884zIo/CmOd9zjnnmO33799vzpMCnkw6qvF6Kus6vgh6clyyT9MHKPzJ6j//+Q9OPvlkg4VzT3kvKaS///3vGyEViI1bApDPJEUa799tt91m7ieFHcW9NQeQoooijWKJ4dzly5cbYcOPgHPPPdfYGu2D71H+GxufFYp8RwFImx46dKixvWuvvdbY6uWXX45rrrmmRUhRAPK4/GD62c9+hk8++cRsz4+xU0891aVpUJjyWOPHjze/8xmnaGKd07S0NPBDafLkySgrKzPPCj+mNmzYYD7G+D7xZK+8Xl8FYK9evcw7gNfAfffr188jN54rRSOvlWKU58J3HJ9xfoyR89SpU80HgPUx+cYbbxguFOKOH1wWGAnA9I56fYTVcSQAbdyOziYA91XswwlPnWDE3uHdDsfSi5eib1pfNDQ24Jk1z+APi/6AnSU7DZFh3YfhzpPuxIzhM1oNOp5eFJ4KQp9xxhlGjFiNA7q7lUQoiixvkiXWONg7Ng7C/jRXIWBLlFFMTZs2zePu6MWioKF3jc2VAPz973+PP/3pT+Z3DpAcRDgIn3766S4F4MUXX2y+3jmwsFEIUaDyJc3GAZseAf5ho0eFIpUi0Z0AdHURP/zhD42ApMjlYEbxS08BBZ9ze/zxx83x6B3lYOzcfPUAckDigOypvfTSS4apdW85QO3cuRMff/yxy24UjDwvMmWjIP7LX/5iGHZkMXJOm0id6/u8WX/s1NO25bPLkRLv24cP7Zki5B//+IfZJe/rH/7wB/NxQ5Hhqvli45YA5P5mz55tRIZVD3TevHnmfnpKAqFo27t3L15++WVzCq7syTmUTM/iK6+8YjyN1n3ms8IPGdoZP574fPP54Eed1eg9pkClSPKlsT89d/zIomilB5ziiselAHVu3uzVVwFI0UaB6ak5c+OHD98fFNju7iW9pPResp111lnm49YS2s59JAAlAH15RrSNA4HOJABLqktw0oKT8FXBV8hJzzHib2DmwFb3s7q+GvO+nIe7lt6F/ZXNgmt83/GYe/JcnHLYKebl2xUFIAdFvlCtRvHG0BS9AfQQMHxSVVWFX//618bDx+ZKAP773/9u8U5xm4yMDOMJvOiii1wKQL7UHb2bHFwZxqHngQMbX9gMffFr3moMsfF3dwKQgxgHPIaW6TlhCJd/OADw/Bi2oyeQnhp6WZwbRdb69evNcV01XwUgVxSgt86x0ZtHryK9KHx2yJX2RE8QPwhGjBhh+DmHBa19UFjQu0qvKu8Xw2nkRQ9UR7bOIAB5r+lto9hiKJ0fVQxtWkIjUBu3BCC9yvQi0otmNf6d98RRAFIU0oPNe8ZniPNBuQ3tkM0XAUib57PkKF6sY3G/9MpTAFLAcqqC1SiCu3fvbjzxrhrDpAy38hrIic8OP0r5ccTngM8698djuGre7NVXAfjss8/iggsuaHUIT9x43py2wfN25/nmfaZIp3jl9oxOfPDBB5gyZYrLa5EAlADsyHdolzhWZxGADFed9uxp+Hjnx+iZ3BNLLl6CI3oc4fYelNaU4sFPHsSfP/kzymvLzXYnDTrJCMHR3UebcI+rQtDhGgLm+XvyADqXZuHLn6Ejesw454fh6J/85CdmH1YWsS8lMijguD0HOXdzADnHyGoUdRRq9G5aAnDJkiWtXtrW7+4EIAct/uFxjzzySCOs6GFgOJV91q5da0Le7gQgRe6XX37pVgAyPMt5hpwTZTUKWYpGxzmAzhnXHEQZBua8rJ/+9KfGu0hPH0OAFn+G4uh5cScAeTxuw3tx2mmnGTFIbxHD0x3Zwj0ETBYUWxQJnGtKTly5h3PerHCnXRunTXHOrCcBSBFKLxRDq5w+QI84555+9tlnJnzqqwCkzdMz5yjk2J+ecHqMef9dPd+ca8dnkAxcNUYlmG1MeyMfCmWeJz2OvD5+vPEd4E4AerNXeusZsqZYthpFKj9yHOcAOpfW8caNXnxO7/AkAPmMMpTMZ5LhcArKr7/+2u1jIgEoAdiR79AucazOIABr6msw7YVpePfbd5GRkIGPZn6EsX3H+sSfIeO7l96NR758BLUNtabP5aMvxy+H/BJDBw/tVEsGcd7TsGHDzEvdau5q81E4cY6S5Vmih4pf0BRyHSUAeY4MAXPiO0UZGz0UDBdTXLkTgEys4JwiK/RHbyHDv/zDPnzRU3wxdOoqBMz5jr/61a+MyHcVAmbYjZ48y4PD8+I8KWYuehKADOFxLh+9kVZiAsNXZGwJQIa0OP/KXQiYx+LcJ3o3eD+5LYW6mmsCtFeKBXp8KZ44d85qdm3cCgHTe27N12XyCQW+5QGk+KG3l54nq3FuKkP+lgCkl5JzUDk30Wq+hoB/97vfmRIyVgjY+aPDmwCkIGUo+cILLzSHZjib3kTaFwUgveAMIbsLAXuzV3Kn59WKGnC84DPNsKwnAegLN36A02voLgTM6+GHFj2nFIAMVzNk765JAEoA6j3qJ4FwF4D1jfU47+Xz8MrGV8AJ5O9f+D4m5U7y8yqBHcU7cMfiO/D06qeRm5yLeZPnYcjhQ5CTlYOEWNc1wfw+SDt34EDDQYdf15wETXFD75qr4sz0OHAQYsiJYW+KFIober86UgAyCYSDEcUcvWcUr88884wZlOg1cNXobaDYYuYsvSZMIuE1OyaO0OPB+XO8Foo3ekHowaM3jiE6igN6jzgxnZPIOaDTm0DvCAUX50XRq8K/M3zF/dAb40kAWh4bbkuRygnrHJAYprYEID0UPDbPg0KCmZwUm/SYcD4bG585nhPDx8z85SCn5prA+++/b1jTW80EI85RtZpdG+dHEUUIEyy4Xz4vTALhfExLANLGGGKl/XFb2i4/PPj/lgDklAAKR863Y7iWgoU24SoJhIKLc3CZjMWPF+ckEH8FIG2W82F5nrQrfmzR+81zsgq887mhYOVzxGgARTTfCZzX681ead98Tnj9fBb5HmGmLz/oPAlAX7jxQ43PyL333mueRwp9PlMUj1bj/adHnR+O9JTyGZYAPEQg3MfvjnivKQnEBuVwNqDGpkZcsvASI9riY+Lx1vlv4dTDXWfD+YqAtQMfXPogZvSdgR7ZPRAVG4X0hPQOnYDv67k6b7dtyzbcfM3N2LR+E6qrqvHRyo+QtzMPP5/2c6zYugLpGYe+AHfv3I3Z187GqhWr0C2rG37xq1/gnTfewfBRw/H7u5sH0e+N+R5mXjkTF195sfn7kO5D8MiCR3DqDw8xHjdoHG6961bM+NkMfPbxZ62O9cpzr+CuW+/CV9u+OvTCfvt9XH3R1fjmwDfm3yhy7r71brz24mtm4v5PL/opdu3YheiYaDz0hOuC1sVFxebcP1nyCRKTE02fgt0FKCstw6PPPmr2S6/gvAfn4d/P/BuFewrRs3dPnD/rfFx5w5Xm97xdeZh721wsW7TMDB6Dhw7GH+77A44af5T5/eF7HsYLT7+Amuoa/OSCn6C+rh6bN27Gv95ozl6+4MwLWrGyLvDJR5/E/L/ON4PtMccdgzN/ciZ+c/VvWvH/bNlneODOB7Bu9TrjYeYxH5r/UKv785urfoNF7y/Cx+s/dluUOFA76Ur9eO+mHjkVhXsL8cGKD9B/YHMGO1swbHzlFytx+02349uvv8XgYYNxza+vwS9n/RILFy3EiCNHGG/v7b++He+//b55R/zo7B8hLT0Niz9YjDcXN3v8Duw/gF9f8Wus+mKVmQ/77MJnkd0/GyeOPbFlP9yOdnHfH+7DxvUbkdktE2f99CzccOsNLWVgXNncVT+/CmkZabjv783zdp3b+jXrcdsNtxnb7ZfTDzf+/kbce/u9rZ5rPk/33H4PPvzvh2Z+4IBBA3DT7TfhxO83Z517slc+c7+/4fdY8sESc93Xz74eT857EqeecSp+9dtfmf6u3hu+cGPf5596Hk89+pR5J/A9ddqZp+H2e25vuUxOVSDHwUcMxvwX5ns07YbaBuzZvQfP7HwGB+oOuN2W7yTOiyYL3i8++44tq3sWOP/Xap99+pnbfTE8P+yIYS2/c4pCY0Ojy+3Jj3MurcYqAzz2hIkT8PyM55EYm+jx+lz9GM7jt98XE2AHCcAAwbFbuBoQH/zr/nsd/vr5XxETFYOXznkJZw0/y8aVHurKUMGmbzYhoUcCKprcl30JysG0k1YEKNzOOeEcnPLjU3DVzVdFLJ1rzrsGg4YMwk1/as6OVhMBEWhLgB+6Pxj3A9z2f7fhpDNO8oyoHtiftx9XLrsSOypcJ72EK2N/suMdryFcx++O5CwBaIN2uBrQbR/ehjuXNpcHWDB9AS48qnmOSzCaNVeEYaX66Howc1itfQjs2rkLiz5YhEnHTzLelH889g+88OwL+OiTjzD0iLZlKdrnLMJnr0UHiwyPqy69Ch9/+bHxTKp1TgK1dbWorKgEIxWuWkpySot3l/UEy8rL3F5oclJyy3xkeqhKy0rdbsv5ikmJzTVG6xvqzUe8u8btrPmNLJXFxCx3LTEhsaUcDj/UiksOJXc592GyCa+PjR/rRcVFbvebEJ9gErnMtmgy0yXctfi4eDO9hcen1/eB+x7Ae/95D+99/F6b1Y3iYuNMUo51Dpz/uK9gH678vyuxY29rAUjPm1W8m9tz3iT7clqGObeoQ2fUo3uPVp66JUuXuD3frG5Zpjar1RjCJmdXjVMDjhrdHIFg47zGuvo6TJ0yFRePuRhxMf6vnhKu47dbYO3wgwSgDajhaED3L7sfN/+vufbT38/4O64+5mobV9i2ayROFg4qQD92xpcyEyfWrVtnBgq+LFnixbEsjB+76/Sb8qODAyDnUlm1ETv9RXWxC2DY2So9xP9yTqn1dyZSMezHxmLVzER315iVy/l5bBReTPhx15gFzDmrbJwLxzmC7hrLB1nFkRnGZJKKu8btrPJQfO/xOXTXeHwrG53XzAxpd43Xxetjo2C15kO62p5zlZlNzEZhx6Ls7hrZcp6ilUTDZDDWfmQ9ROfGLGLH2oact8lSOEzyYkIXj2n94XuHRfG7WgvH8bujGUsA2iAebgb02JeP4cq3m+dxsWTL747/nY2rc91VAjDoSLVDEeg0BPgh4ijq6HGyvGQU51xizl1zFGp8j1BwcG6rqyLeFDOW54vbsqyJu0bvkLW6BcWmc9F4x34UPpbni9fBBCh3jdtxezZ6IVlPz13juVrilqKO1+ausXA2k0IsUccsaHeNbK1sfLLn/Dt3jXNmmUhjNSbTuGv0QlqJVdyG2dTcnlUGHFds6jSGGcCJhtv4HcAl2O7SpQQgXdOsM8UHivWWmHHorvAlyXHJLabo8+uSLxFmdrHuk+ND5IlwOBnQc2ufw89f/bkJE/xu8u8w95S5to3D1Q4kANsFq3YqAmFDgELDEmWsJ0jhY3nxKJocV+FxFHVMCmDJFNacpMBgFjf/a/2hmKF3SS38CETiez2cxu9QWUSXEYBc+YD1nCgCWdqCpQVYgZ4ufmv9VkfIrDXGGk0ss8FSCfz6YVo9M5jcldhwvknhYkBvbH4DZ794NhqaGnD10Vfjb2f8rd0ycyPxRRGqh1PHbR8CDKXRo0NRw5Cl1ejFoWhh42/ulirk747bUhR5KoJOjw9FEBuPyxIq7hpFkuWB8Wdbep0Y/nTXuM+W+WwNDS1z39jPOWTL0KcVUrVEneN+KQ4tgUcvkuWhIlf+oQBU61wEIvG9Hi7jdygtpcsIQBbd5FJHLBRrNRa/ZTFQ1jNzbvT0cVvHkAXrrNEjyLlXvrRwMKAPtn6AHz73Q9Q01ODC0RfiqelPIToq2pfTD2gbxyQQa0AJaEfqJALtRIAeKmsuGoWKJUgYRmQIjYLHVeP8KSuMxzAi51K5a5wfZQkfb/PZOHfRCrd5m8/Gj1XO3WLzNp+Nc+pYWJjNlVBzPHfH+Wz06rHuo7vG41sfzVY409GTRy9eR6693E5mot06EKBNWHMHFQKOHNPoEgKQX+D8yubi8ixwajVmLnGCrat1TZcvX26K49Lbx0KaDHNw9QeKRi6b40uzIwCZ7bRqT/NySIG23aW7ccGrF6CirgLTj5huyr3ERvv39c16Su4a58A4ThQmSw6srLxPDwHD5lbjvzkKQnpPHENFjsdw3pYvH3oOXDV/tuWgZC1Mz3152q/zthS2jt4g53Ox5iPx371ty3OwBkiKDQ6i7po/25KvtYoGbZ4eInfNn235wudcLDZv+3Xclsfn9u6aP9s6CjXLK+Vuv47b8l7wOXQMUTp69ujRt+yUApArnLBZXixHbxUFlTWXjELN09wsFtW15odRqHmab0XxZZ0DvX9cPcNd43NlzQ/jM8QCvu4akwms6Sq0dXdLlrE/t7OSKsjH4sD77ijuLM+eZQ+BvpvUr3MR4LPBMZDv+0i593bG7851d92fbZcQgPyqZ7YW08gds5VY0Z0V091lhb388stgdXkOIhx0zjzzTPDf3M1TsQYZCycNiHNgOFhYg4GvhhHMBeVPPexUvHn+m15X5eB58iF3LNTJa3UnUFjlnxX6rUbvCPfBFTHOP//8Fm8Jf6eQsbLV+HdWzHe3Xw4yjufAivruhARDco4ilPM13XlwOJhzxQyr0bvLgdFVo5ByLCzKAdFdGI9igXNKrcaB1lO4jfu1hBq9yZ7KR/B8LRFirYrhzobIwQpR0ubpeXLXyNcKO+7Zs8fjxHhO/LbEO+3D02R3rtBgiWF6ybhvd42eL0tQ8Vw9TWDnc2SJJCYTeBJUfNYtkeRpW3Klh8zy6lmClTYvL5avbypt15UJmHWtKyvNM8/nxMqQ7srX7Dh+850TyPjdVfh0KQFIrx6Xp7Ial9Li8kOOa2Bav3FuINel5NJZXFieX/tcCogLp1vrqDrfZC7f42qh+kAMqLKuEkf87ZBYCdSgJvefjPk/no+U+OZaUY6NQon1krj8EP+w0jpLiHB5LatRtLkTakygYaKM1VgOgKKXgmjGjBk4+eSTWwZSig3Lw8DtydOdR42DrzXHiNtSRLg7B2sQt86B2XXuPF/8cnV8gfGl5k5YUqA5Lo1EMcMPAVeN12uVg+Dv/Fp2Jyz5O7e1PIAUPp7mkvEcLLFIMeNpLhmvzfo6Z9aB80hXAAAgAElEQVSep7lkFD6WsKR9ehKsvBfWRw/vr6faaLzHlrDk8Xke7hrDnlY4idflqYYZPVSWCCUvT+KWoVfL08v7y3PgtfIPr4P/JSeLa6DPlvqJQKQQoPjjOyOSQvvyAAJdQgAGEgJmwggHfIaNrcbEEIoeeipcfQkF0wPYni8WJsK88cYbZq1bZ6HCtVYZyg3G4EiB5ykM2Z7XqH2LgAiIgAjYJ8CPpkgJ+zrSkgDsIgKQN5VJIOPHjzdZwFZjKG7atGkuk0DowaKngNnDVqO3jCFkhp88LZxtbR8OBsTQJc/7Zz/7Wct1MKv5rbfeMn+nd4eeTv6hx84qVmr/taE9iIAIiIAIiEDnJBAO43eoyXUJDyAhWmVgmMDBMPDjjz+OJ554wmS7ser67NmzjbBbsGCBYf7UU0/h8ssvx1/+8peWEPD1119vPGOffeZ+AetQf0Ew/Pjhhx+2hHWtavqcl2Zl7tH7x3+n6OPctUhy64f6gdLxRUAEREAEwp+ABGAX8gDS3Oj9YxkXzj/jfDXW+LOWzZo1a5ZJc1+0aFGLZbLsCwUjvWicA3HSSSfh3nvvbTXfy5MZd6QBMVv5zjvvBJfsccyupRdz4sSJRsiOHTs2/J86naEIiIAIiIAIhJhAR47fIb5Ut4fvMh7AUABuDwPivDqWZmHSBkO5nLPHxuzkc845x/w//80K6VLgWksbhYKBjikCIiACIiACnY1Ae4zfnY2BBKCNOxYMA6I3j6VNrExdhnetsiF//OMfzcL3bMyg/M9//mPm8VnFX22curqKgAiIgAiIQMQSCMb43dnhSQDauIN2DYjz9LgcnXNhWNYmYjh65syZJolFTQREQAREQAREIHgE7I7fwTuT0O1JAtAGe7sGxNp3rGnG8jJcv9jK1uWSdlpP08aNUVcREAEREAER8EDA7vjdFeBKANq4i8EwICZ1DBs2rNUSZjZOSV1FQAREQAREQAS8EAjG+N3ZIUsA2riDMiAb8NRVBERABERABEJEQON3FysD09F2JAPqaOI6ngiIgAiIgAjYJ6DxWwLQlhXJgGzhU2cREAEREAERCAkBjd8SgLYMTwZkC586i4AIiIAIiEBICGj8lgC0ZXgyIFv41FkEREAEREAEQkJA47cEoC3DkwHZwqfOIiACIiACIhASAhq/JQBtGZ4MyBY+dRYBERABERCBkBDQ+C0BaMvwZEC28KmzCIiACIiACISEgMZvCUBbhicDsoVPnUVABERABEQgJAQ0fksA2jI8GZAtfOosAiIgAiIgAiEhoPFbAtCW4cmAbOFTZxEQAREQAREICQGN3xKAtgxPBmQLnzqLgAiIgAiIQEgIaPyWALRleDIgW/jUWQREQAREQARCQkDjtwSgLcOTAdnCp84iIAIiIAIiEBICGr8lAG0ZngzIFj51FgEREAEREIGQEND4LQFoy/BkQLbwqbMIiIAIiIAIhISAxm8JQFuGJwOyhU+dRUAEREAERCAkBDR+SwDaMjwZkC186iwCIiACIiACISGg8VsC0JbhyYBs4VNnERABERABEQgJAY3fXUwAPvLII7j//vtRUFCAkSNH4qGHHsKUKVPcGldNTQ3++Mc/4tlnn8WePXuQk5ODW2+9FZdccolPBikD8gmTNhIBERABERCBsCKg8bsLCcAXX3wRF154ISgCJ0+ejMceewzz58/Hhg0b0L9/f5eGN23aNOzduxd33nknBg8ejMLCQtTX12PSpEk+GaoMyCdM2kgEREAEREAEwoqAxu8uJAAnTJiAcePG4dFHH20xsuHDh2P69OmYO3duG8P773//i/POOw9bt25FVlZWQIYpAwoImzqJgAiIgAiIQEgJaPzuIgKwtrYWycnJeOmll3DWWWe1GNV1112HVatWYfHixW0M7eqrr8bXX3+No48+Gs888wxSUlJw5pln4k9/+hOSkpJ8MkwZkE+YtJEIiIAIiIAIhBUBjd9dRADm5+cjOzsby5YtaxW+vfvuu/H0009j8+bNbQzv9NNPx6JFi3DKKafg9ttvx/79+0FReNJJJ+Gf//ynS0PlnEH+sRoNKDc3FyUlJUhPTw8r49bJiIAIiIAIiIAIuCYgAdjFBODy5ctx3HHHtdztu+66y3j3Nm3a1MYCvv/972Pp0qUm+SMjI8P8/uqrr+InP/kJKioqXHoB58yZgzvuuKPNviQA9YoRAREQAREQgc5DQAKwiwjAQELAM2fONB7DLVu2tFjsxo0bMWLECBMaHjJkSBtLlgew8zzcOlMREAEREAERcEdAArCLCEDeYCaBjB8/3mQBW41ijpm+rpJAHn/8cVx//fUm8zc1NdV0WbhwIc4++2yUl5f7NA9QBqSXiwiIgAiIgAh0PgIav7uQALTKwMybN8+EgSnwnnjiCaxfvx4DBgzA7NmzkZeXhwULFhhLpchjlvDEiRNNWJdzAC+77DKccMIJpp8vTQbkCyVtIwIiIAIiIALhRUDjdxcSgDQtev/uu+8+Uwh61KhRePDBBzF16lRjdbNmzcL27dtN4ofVODfw2muvNaHg7t2749xzzzU1AZUFHF4Pqs5GBERABERABIJJQAKwiwnAYBqHL/uSAflCSduIgAiIgAiIQHgR0PgtAWjLImVAtvCpswiIgAiIgAiEhIDGbwlAW4YnA7KFT51FQAREQAREICQENH5LANoyPBmQLXzqLAIiIAIiIAIhIaDxWwLQluHJgGzhU2cREAEREAERCAkBjd8SgLYMTwZkC586i4AIiIAIiEBICGj8lgC0ZXgyIFv41FkEREAEREAEQkJA47cEoC3DkwHZwqfOIiACIiACIhASAhq/JQBtGZ4MyBY+dRYBERABERCBkBDQ+C0BaMvwZEC28KmzCIiACIiACISEgMZvCUBbhicDsoVPnUVABERABEQgJAQ0fksA2jI8GZAtfOosAiIgAiIgAiEhoPFbAtCW4cmAbOFTZxEQAREQAREICQGN3xKAtgxPBmQLnzqLgAiIgAiIQEgIaPyWALRleDIgW/jUWQREQAREQARCQkDjtwSgLcOTAdnCp84iIAIiIAIiEBICGr8lAG0ZngzIFj51FgEREAEREIGQEND4LQFoy/BkQLbwqbMIiIAIiIAIhISAxm8JQFuGJwOyhU+dRUAEREAERCAkBDR+SwDaMjwZkC186iwCIiACIiACISGg8VsC0JbhyYBs4VNnERABERABEQgJAY3fEoC2DE8GZAufOouACIiACIhASAho/JYAtGV4MiBb+NRZBERABERABEJCQOO3BKAtw5MB2cKnziIgAiIgAiIQEgIav7uYAHzkkUdw//33o6CgACNHjsRDDz2EKVOmeDWuZcuW4YQTTsCoUaOwatUqr9tbG8iAfEalDUVABERABEQgbAho/O5CAvDFF1/EhRdeCIrAyZMn47HHHsP8+fOxYcMG9O/f363RlZSUYNy4cRg8eDD27t0rARg2j6dORAREQAREQATah4AEYBcSgBMmTDBC7tFHH22xluHDh2P69OmYO3euWws677zzMGTIEMTExOD111+XAGyfZ017FQEREAEREIGwISAB2EUEYG1tLZKTk/HSSy/hrLPOajGw6667zgi6xYsXuzS6J5980ngMP/nkE9x5550SgGHzaOpEREAEREAERKD9CEgAdhEBmJ+fj+zsbHAu36RJk1os5u6778bTTz+NzZs3t7Gib775BscffzyWLl2KoUOHYs6cOV4FYE1NDfjHajSg3NxcMIycnp7efpaqPYuACIiACIiACASNgARgFxOAy5cvx3HHHddiIHfddReeeeYZbNq0qZXRNDQ0YOLEibj00ktx5ZVXmt98EYDc5o477mhjgBKAQXsmtSMREAEREAERaHcCEoBdRAD6GwIuLi5Gt27dzLw/qzU2NqKpqcn823vvvYeTTjqpjQHKA9juz6QOIAIiIAIiIALtTkACsIsIQFoKk0DGjx9v5vRZbcSIEZg2bVqbJBCKPWYHOzb2+/DDD/Hyyy9j0KBBSElJ8WqAMiCviLSBCIiACIiACIQdAY3fXUgAWmVg5s2bZ8LAjz/+OJ544gmsX78eAwYMwOzZs5GXl4cFCxa4NERfQsDOHWVAYfdM64REQAREQAREwCsBjd9dSADybtOLd99995lC0Czq/OCDD2Lq1KnGEGbNmoXt27dj0aJFEoBeHw1tIAIiIAIiIAJdl4AEYBcTgB1tqjKgjiau44mACIiACIiAfQIavyUAbVmRDMgWPnUWAREQAREQgZAQ0PgtAWjL8GRAtvCpswiIgAiIgAiEhIDGbwlAW4YnA7KFT51FQAREQAREICQENH5LANoyPBmQLXzqLAIiIAIiIAIhIaDxWwLQluHJgGzhU2cREAEREAERCAkBjd8SgLYMTwZkC586i4AIiIAIiEBICGj8lgC0ZXgyIFv41FkEREAEREAEQkJA47cEoC3DkwHZwqfOIiACIiACIhASAhq/JQBtGZ4MyBY+dRYBERABERCBkBDQ+C0BaMvwZEC28KmzCIiACIiACISEgMZvCUBbhicDsoVPnUVABERABEQgJAQ0fksA2jI8GZAtfOosAiIgAiIgAiEhoPFbAtCW4cmAbOFTZxEQAREQAREICQGN3xKAtgxPBmQLnzqLgAiIgAiIQEgIaPyWALRleDIgW/jUWQREQAREQARCQkDjtwSgLcOTAdnCp84iIAIiIAIiEBICGr8lAG0ZngzIFj51FgEREAEREIGQEND4LQFoy/BkQLbwqbMIiIAIiIAIhISAxm8JQFuGJwOyhU+dRUAEREAERCAkBDR+SwDaMjwZkC186iwCIiACIiACISGg8VsC0JbhyYBs4VNnERABERABEQgJAY3fEoC2DE8GZAufOouACIiACIhASAho/JYAtGV4MiBb+NRZBERABERABEJCQON3FxOAjzzyCO6//34UFBRg5MiReOihhzBlyhSXxvXqq6/i0UcfxapVq1BTU2O2nzNnDk477TSfjVEG5DMqbSgCIiACIiACYUNA43cXEoAvvvgiLrzwQlAETp48GY899hjmz5+PDRs2oH///m2M7vrrr0e/fv1w4oknIjMzE08++ST+/Oc/47PPPsPYsWN9MlIZkE+YtJEIiIAIiIAIhBUBjd9dSABOmDAB48aNM149qw0fPhzTp0/H3LlzfTI8egF/+tOf4vbbb/dpexmQT5i0kQiIgAiIgAiEFQGN311EANbW1iI5ORkvvfQSzjrrrBYju+6660yId/HixV4Nr7GxEQMHDsTNN9+MX/7yl1635wYyIJ8waSMREAEREAERCCsCGr+7iADMz89HdnY2li1bhkmTJrUY2d13342nn34amzdv9mp4nDt4zz33YOPGjejVq5fL7TlXkH+sRgPKzc1FSUkJ0tPTvR5DG4iACIiACIiACISegARgFxOAy5cvx3HHHddiWXfddReeeeYZbNq0yaO1Pf/887jsssuwcOFCnHLKKW63ZZLIHXfc0eZ3CcDQP8w6AxEQAREQARHwlYAEYBcRgHZCwEweufjii034+Ic//KFH25EH0NdHS9uJgAiIgAiIQPgSkADsIgKQJsYkkPHjx5ssYKuNGDEC06ZNc5sEQs/fJZdcAv6XySL+NhmQv8S0vQiIgAiIgAiEnoDG7y4kAK0yMPPmzTNh4McffxxPPPEE1q9fjwEDBmD27NnIy8vDggULjOVR9F100UV4+OGHcfbZZ7dYY1JSEjIyMnyyThmQT5i0kQiIgAiIgAiEFQGN311IANKy6P277777TCHoUaNG4cEHH8TUqVON0c2aNQvbt2/HokWLzN+/973vucwOnjlzJp566imfDFUG5BMmbSQCIiACIiACYUVA43cXE4AdbV0yoI4mruOJgAiIgAiIgH0CGr8lAG1ZkQzIFj51FgEREAEREIGQEND4LQFoy/BkQLbwqbMIiIAIiIAIhISAxm8JQFuGJwOyhU+dRUAEREAERCAkBDR+SwDaMjwZkC186iwCIiACIiACISGg8VsC0JbhyYBs4VNnERABERABEQgJAY3fEoC2DE8GZAufOouACIiACIhASAho/JYAtGV4MiBb+NRZBERABERABEJCQOO3BKAtw5MB2cKnziIgAiIgAiIQEgIavyUAbRmeDMgWPnUWAREQAREQgZAQ0PgtAWjL8GRAtvCpswiIgAiIgAiEhIDGbwlAW4YnA7KFT51FQAREQAREICQENH5LANoyPBmQLXzqLAIiIAIiIAIhIaDxWwLQluHJgGzhU2cREAEREAERCAkBjd8SgLYMTwZkC586i4AIiIAIiEBICGj8lgC0ZXgyIFv41FkEREAEREAEQkJA47cEoC3DkwHZwqfOIiACIiACIhASAhq/JQBtGZ4MyBY+dRYBERABERCBkBDQ+C0BaMvwZEC28KmzCIiACIiACISEgMZvCUBbhicDsoVPnUVABERABEQgJAQ0fksA2jI8GZAtfOosAiIgAiIgAiEhoPFbAtCW4cmAbOFTZxEQAREQAREICQGN3xKAtgxPBmQLnzqLgAiIgAiIQEgIaPyWALRleDIgW/jUWQREQAREQARCQkDjdxcTgI888gjuv/9+FBQUYOTIkXjooYcwZcoUt8a1ePFi3HjjjVi/fj369euHm2++GVdeeaXPxigD8hmVNhQBERABERCBsCGg8bsLCcAXX3wRF154ISgCJ0+ejMceewzz58/Hhg0b0L9//zZGt23bNowaNQqXX345rrjiCixbtgxXX301nn/+ecyYMcMnI5UB+YRJG4mACIiACIhAWBHQ+N2FBOCECRMwbtw4PProoy1GNnz4cEyfPh1z585tY3i//e1v8cYbb2Djxo0tv9H7t3r1anzyySc+GaoMyCdM2kgEREAEREAEwoqAxu8uIgBra2uRnJyMl156CWeddVaLkV133XVYtWoVGOp1blOnTsXYsWPx8MMPt/z02muv4dxzz0VlZSXi4uK8GqsMyCsibSACIiACIiACYUdA43cXEYD5+fnIzs42YdxJkya1GNrdd9+Np59+Gps3b25jfEOHDsWsWbNwyy23tPy2fPlyEz7m/vr27dumT01NDfjHaiUlJSa8vGvXLqSnp4edgeuEREAEREAEREAE2hKgAMzNzUVxcTEyMjIiElFUU1NTU2e/cksAUsAdd9xxLZdz11134ZlnnsGmTZtcCsCLL74Ys2fPbvmNAvL44483SSR9+vRp02fOnDm44447Ojsunb8IiIAIiIAIiABgHDg5OTkRyaJLCMCOCgE7ewD55TBgwADs3LkzYr8g7Dw11heYPKiBURS/wLhZvcRP/OwRsNdb9hdafvR9lZWVmQog0dHR9k6mk/buEgKQ7JkEMn78eJMFbLURI0Zg2rRpbpNA3nzzTZMlbLWrrrrKzBlUEkjHWLPmYNjjLH7iZ4+Avd6yP/GzR8Beb9mfPX7s3WUEoFUGZt68eSYM/Pjjj+OJJ54wNf7opWOoNy8vDwsWLDDUrDIwLAHDUjAUfcwCVhkY+0bl6x70APtKyvV24id+9gjY6y37Ez97BOz1lv3Z49elBCAvht6/++67z8zhY42/Bx98EMz2ZWPCx/bt27Fo0aIWaswOvuGGG1oKQbM0jApB2zcqX/egB9hXUhKA9kiJn/i1BwF7+9T7T/zsEbDfu8t4AO2j8H8PnBPIGoP0LiYkJPi/gwjvIX72DED8xM8eAXu9ZX/iZ4+Avd6yP3v8upwH0D4O7UEEREAEREAEREAEuj4BeQC7/j3WFYqACIiACIiACIhAKwISgDIIERABERABERABEYgwAhKAEXbDdbkiIAIiIAIiIAIiIAEYoA0w4/j+++83GccjR47EQw89hClTpgS4t8jq5mpFld69e2PPnj2RBcLHq12yZImxtRUrVhh745rV06dPb+nNgqZcoYalj4qKikxNzL///e/GLtUAb/xYIYBLRjo2Mvz0008jHh+T3F599VWzmlJSUpJZavPee+/FsGHDZH8+WIcv/GR/7kE++uij4B9W8GDjO+3222/HD37wA/N3vft8MEIPm0gABsDPqjlIEci1gx977DHMnz/fFJXm2sBqnglQAL788sv43//+17JhTEwMevbsKXQuCLzzzjtmnetx48ZhxowZbQQgB2Que/jUU0+Ba1zfeeedRvRwDey0tLSIZ+qNHwfgvXv34sknn2xhFR8fj6ysrIhnd/rpp+O8887DMcccg/r6etx6661Yu3atedelpKQYPrI/92biCz/Zn3t+XKyBY8PgwYPNRvxQ48fwypUrjRiU7dl7RUkABsCP3gEOxvwysdrw4cONV4ZffGreBeDrr79uVl1R849AVFRUKwHIL2AuZXT99deDdSzZWB6BHlW+HFnoXO0QAWd+/IUDMJd1pE2qeSawb98+9OrVC6yhyhqrsj//LMaZn+zPP37cmh9mFIGXXHKJ3n3+42vVQwLQT4CBrDvs5yG6/Ob0APIBzsjIMPUTKajvvvtuHHbYYV3+2u1eoLOA2bp1Kw4//HB89dVXGDt2bMvuuQRiZmZmm9Cm3eN39v7uBCDFH71+ZHbCCScYjyqFjlprAlu2bMGQIUOMF5DF9mV//lmIMz9LAMr+vHNsaGjASy+9hJkzZxoPYGJiot593rF53EIC0E+A+fn5yM7ONiE5zoexGgUM3dMMu6l5JsCQXGVlpQlXMvTGkCXnGHHZvu7duwufBwLOAmb58uVmGgKXOaQn0Gq/+MUvsGPHDrz77rvi6UDAlQDklI7U1FSzZCSXiLzttttMuJNzLlXg/RA8evv4YcF5pkuXLjU/yP58f7xc8WNv2Z9nhvzY4PKu1dXV5jl97rnncMYZZ8j2fDc9t1tKAPoJ0RKAfPHRKK1Gj8EzzzxjhIyafwQqKirMl9zNN9+MG2+80b/OEba1OwFIu+zbt28LDa5vvWvXLvz3v/+NMEKeL9eVAHTuwUQbisEXXngBZ599tvh9R+Caa67B22+/jY8//hg5OTmtBKDsz7uZuOLnqpfsrzUVRt127txppmm88sorZr49pyDw7/z4le15tz13W0gA+slOIWA/gfm4+amnnmom+jrOq/Sxa0RtphCwvdvtiwDkERjmvOyyy1rmVdo7aufvfe2115o5kkwuGjRoUMsFKQTs2711x89db9mfe66nnHKKcRhwzrOmv/hmfxKA9ji16s05a+PHjwezgK02YsQIEx5REoj/oJm0wAeZYUum+Ku5J+AuCeSGG24wHlQ2fqRw/pqSQNpy9EUAHjhwwEzzYFmdiy66KKLNkWFLiheWHlq0aJERxo7NSgKR/bk2E2/8XPWS/Xl+5E4++WTk5uaarH1Oe5HtBf6KkgcwAHZWGZh58+aZMDAHiieeeMLMYWPoSM0zgZtuugk//vGPTcmcwsJCMweQLn3O9RC/tuzKy8vByeNsTPR44IEHcOKJJ5psODKk0OOHB1+IHKA5H5WDtcrANLP0xI8MmZTE8joMobPe2C233GJCThs3boz4MjpXX321mXO1cOHCVrX/mMDFuoBssj/37ztv/Gibsj/3/PgssuYfBV9ZWZmZlnHPPfeYqS2MGsn27KkNCcAA+dH7d99995nCvMyGe/DBB01ZBDXvBFhXjKGk/fv3m9p/EydOxJ/+9CfQi6rWlgDFHAWfc2M2HGv/WcVQWY/SsRA07VINRgy748cpByzfxKxCzimiCOS2tEcOOpHe6DF11fixwfI5bLI/91bijV9VVZXsz8NDdumll+KDDz4w4yw/OkaPHm1CvxR/sj37bycJQPsMtQcREAEREAEREAER6FQEJAA71e3SyYqACIiACIiACIiAfQISgPYZag8iIAIiIAIiIAIi0KkISAB2qtulkxUBERABERABERAB+wQkAO0z1B5EQAREQAREQAREoFMRkADsVLdLJysCIiACIiACIiAC9glIANpnqD2IgAiIgAiIgAiIQKciIAHYqW6XTlYEREAEREAEREAE7BOQALTPUHsQAREQAREQAREQgU5FQAKwU90unawIiIAIiIAIdBwBrtp0//33Y8WKFWZFDq4LzdVzPDUu7XnjjTea5VG5Xi/XKb/yyis77qR1JJ8ISAD6hEkbiYAIiIAIiEDkEXjnnXewbNkyjBs3zqyZ7U0Abtu2zSyPevnll+OKK64wfbkm8vPPP2/6q4UPAQnA8LkXOhMREAEREAERCFsCXNvYmwDkWr1vvPEGNm7c2HId9P6tXr0an3zySdheWySemASgjbve2NiI/Px8pKWlwd2i3zZ2r64iIAIiIAJdiEBTUxPKyspMWDQ6Orrdrqy6uhq1tbVu98/zcB6zEhISwD+emi8CcOrUqRg7diwefvjhll1RNJ577rmorKxEXFxcu123duwfAQlA/3i12nr37t3Izc21sQd1FQEREAERiDQCu3btQk5OTrtcNsXfoIF9sWdvsdv9p6amory8vNXvf/jDHzBnzhzbAnDo0KGYNWsWbrnllpZ9LV++HJMnTzYOk759+7bLdWun/hOQAPSfWUuPkpISZGZm4t8r/41dTQWt9nRY6lCve95Yuq3VNkNSB3vt47jBmpLtrbYfnna4X/2dN15dtKPVP43MGGhrf946rzqwq2WTIzMHeNs84N+/2r/b9B2T5b9YX7EvD2O7e++3Ym8exvfMdnuOK/bkm9/G93K/zVf5BRjfp5/bfXyVl+/59935GNfXdf+VuwowLrvti3fVjgKMzW3976u2FWDsgNb/tnprAcY4/Nuab5vtfcygQ9ut+aYARx126O9rN+dj9OBD57Nucx5GDzn097Ub8jB6mMPv6/Nw5PDW579+zW6MGtGW2fo1uzBqlGuW61fuxMgjvQ+uG1Zsx4ij+gdsV84dN3y5FSPGtZ8dB+1Eu+iONny2pdWVjRjfvu+vQDBWVlVi5k3nori4GBkZGYHswmuf0tJSs+9tX+SrO+8AACAASURBVP8F6WlJbbYvLavCoKG/AkVoenp6y+/B8gBSAF588cWYPXt2y745D/D44483SSR9+vTxeg3aoGMISADa4Gw9aG9teQspaSkte9pY+k2rvQ5OPcKno6wr+bbVdsPSvItIq8Oq4tZicmS6f2LS+QS/OthaXI7OPMynawh0oxX7D4nPMd0GBbobt/2+2LezWYB193+A/nzvLhzdw3u/z/fswrG93IvFzwuaheixvV1v80VeXvPvfV2Lly927cax/dwLmy927sYx2a5//3JHHo7JbSuYVmzLw9H9W//7iq15OHpg63/7aksexg869G8rv8nD+MMd/r45D+MGH/r7qo27MXbooXNZs6FZ7I85ovnfVq/97u/DHbZZuwtHjWx9/mtX7cToUa15rV25A6OPcs1w7ZfbceQY76Ju3edbzXmMCpJgW/ed+Bh1dPBtN+gPQxfZ4brlX7e6klHHtu87KhjYKqsqcM41PwKdB47iKxj7tvZhjUsHCp5Aenpym12Xllaie9/LAzoHhYCDeadCvy8JQBv3wJ0AdNylxKB/gMNRCFIAsnkTgRSARsB5EYHuBCD7UgR6EoBm/25EoL8CkOLPXJcXAUjxZ8SzTQFoiT9LAI5xEn/8d0cB6Er8cZtgCcBgiT+eEwWgxJ9/z7q/W3dGwed8jZEgAJkE8uabb2LDhg0tl3/VVVdh1apVSgLx1+jbeXsJQBuALQH4yOo/Y3if8T7tyVEQyjPoHll7CsFAvIHBEoG+eAHdCUAjED14Ad0JQH+9f0YUOngAXXn/jCD00wPoTQD66v3jsV15AOn9Y/PmAWwP75/En0+vP782chZ87NwZvHyeLrIzCkDOFdyypTm8zuSOBx54ACeeeCKysrLQv39/E+rNy8vDggULzDZWGRiWgGEpGGb+MgtYZWD8Mv8O2VgC0AZmSwC+t/V15KHZS2K1gSkjvO45EO+gnTAxT8gxVNwZwsTtJQTbWwS2pxfQXw+gvwKwPcK/zuKPtujsAXT2/hmh107h32B5/xT69fqa82uDruDlCxcBWJD/ONLTXcwBLK1C336/8DkEvGjRIiP4nNvMmTPx1FNPmYSP7du3g9tZjYWgb7jhhpZC0PQKqhC0X49Ch2wsAWgDs6MAdJwD+HVZ67kpnUEMEoMdQeg4Z7A95gu2hxBsLxFoNxTsLQzckQKwo8K/vnj/aKN2w7/y/tl44bVD167o5etqArAdbrt2GSYEJABt3Ah3AtBxlx0lBnlMO97BYCaRdJQYDEaySKhEoKdQsKdkEIaA2VyJwGCFgIMZ/nVO/uC5MwHEk/fPCL12TP4IpvdPoV//X6Bd3csnAei/TahHaAhIANrgbgnAJ9fNxdDeR/u0J38FYSBh4kgRg5ZXMBRC0Jc5gd48gRSBnjKC/c0GtisAmf3L5k0ABnPuH4+3xin7l+KPLZzDvwr9+vS6MxtFmpdPAtB329CWoSUgAWiDv6MATE5LbNlTTvIon/bqrxjkTgMRhF3dMxis8LC/3kBfRaC7+YB2vIB2PYAdWf4lnJI/5P3z6dVke6NI9vKFiwDcnud+DuDAbN/nANo2Bu0gbAlIANq4NZYA/GjbK0hNP1QHcGv5oTUQuXtfBKHEoI0b8V3XYHgEAxGBvpSH8SQC/fUCugsD0wPI5lwL0FUSiC8C0O78v3Cs/RcMAaiSL66fVYk+7++wjswClgD0fj8ifQsJQBsW4E4AOu5SYtAz4PYoOG3XIxhsERhoKNjbXEBfvYB2BKBz7T/eTSsEvHJzc8jYKgDtqvizN+8f+9up/dfRpV8U+m39PEv0+TeASAD6x0tbty8BCUAbfH0RgHbFIPv76x0MJEzM4wQrVBxoNnGwxaBdj6A/QtDbaiGeRKC3ULCruYDu6gG6mgcYTAEYzPl/znP/aIPukj/4m7vaf97q/hnb/nyr7VU/JP7azufr7HX5bLz+A+oqARgQNnVqJwISgDbAWgLwxY13wJoD2CfpKJ/3GAnewWCIQbtlZewIwWCLQH9Dwe68gOEuAAMJ/7ZX8kewSr9EauhXXj6fX+leN+xIAfj17vlIc7EUXFlpJYbmXOZzHUCvF6UNOi0BCUAbt84SgMt3vIjU9GTsqDi09A13KzHYuvA0mQQiCINVViZQIeirCLSTFBIsL2CgHkB/1//tqPAv6/7J+2fjJRVgV4m+AMF56SYB2D5ctdfACEgABsbN9HIWgM67ClQQBuIZ5LE7IlQcrDBxIGIwWCHiQIRgsERgIKFgf7yAwRKAzgkgK7/5bj3g75Z/owC05v7xXgYy/8+X4s8dWfi5sb4ejbXViIqOQXRCIrjwPVtnDv3ymhoqy4CmJsQkpSA6PsHjG89R+Cm8a2NwcNNVAjD4TLXHwAlIAAbOzqsAdNx1oGKQ+whEEPorBnkcu+sUD0sb6jNNu4Wng+EVbC8h6M0T6E0EusoKdrU6iKswsKtMYF/mADp7AF2t/xvo/D8WfmYL5tJv/iR/eMv8rS3ah/Jv1qFs82o0VlcB0dFI6tsfqcOOQvKAodiwYjs6W8Hn+spyVGxZj9JNK1FXUgSgCbHJqUgdehTShh6JuIyslmdVos/n15btDSUAbSPUDoJIQALQBkxvHkB3u3YWg9zO13BxKMQgz29w6hFeSQXqHQylGAwkY9gXbyBFYFNTEwbW9MKWNUXYsbEE9bUNSOuWgMFjuuFgzwpMGTSwDVN3oWA7XsD2FoD0/rGNHZpj/sv5f8HI/rUb/vVl7l/Ftk3Y99GbqCs5iJiUVMQkJKGpsQH1ZSVAVBTKErMRO2Iqjpw4zKv9h8sGdcUHUPjBa6jcvc14MmNTM4w3k6KQ3sCEHn1Q3G0MojP7mFOWp6/j7lxHCsC1u552OwfwyNyZmgPYcbc9bI8UsQJw7ty5ePXVV7Fp0yYkJSVh0qRJuPfeezFsmO8veksAvrn5FqSkJaJH0tiAbnS4ewcDySoOhRi0EyL2Vwh6E4GNDU14/uV12LqsBMl1CUhKjUNMTBRqqhpQX9eInjnJ6HFiAk47eohLEWjXC+hYC5ACkO2Y3OyWYznXAfTHAxiM+X8dFf715P2r3rMbe97+FxqqK5HQO6cl5GtB2rs1D02l+9H/xFPRY+oZbX4P6GFv506NtTUoePs5VO7cgsS+AxAdG9tyxMJdB9DU1Iim4j2ISsnEkZdejbj0bu18Rtq9IwEJQNlDOBGIWAF4+umn47zzzsMxxxyD+vp63HrrrVi7di02bNiAlJRDRZ093SxLAK7Y+S+UxH7batNgicFw8w52RjHoTxZxsITgig/24OOFeaiIq0ZyViyyUw4NtA0NjdizrQI1KXUYd15vnDzqcJ9EoD9hYG/FoO0KwGDO/3NV+oVA3M3/8yX864v3r/CD11Gy5jMk5R7mUtwV7j6IbmlRoKjKmXEp4rN6tfu7m17jmsJ8VGzfjPqyYkRFRyOhVw5SBg1DbEqa1+OXf7see/7zAhJ6ZSM6Lt5sT+FntV7Z3dDU2IiqvG3ocfzp6DZ2std9aoPgEZAADB5L7ck+gYgVgM7o9u3bh169emHx4sWYOnWqT2QdBSCzgB1bXuXadhGEnT1U3NGewUC9gv4IQWdvYHlxLV58YBMa6hqR1ScJeRUlxhb6JWe22ERTYxN2fl2K5GExyMxJRI+aFEQhCt37JGHQqExsrt1ntnX2BPoiAn1JBPFHADIBxNf5f67KvzjP/eN1eSv+HIzkD0/ev7rSIux+cR6iYmNdesEo/nr162bC+FW7vkX3409H1tG+vRd8enm42Igh2v1L30Hl9s3GKxkdG2/EGkPScRnd0G3cFKSPOsaIQndtzzsvgiKwrOGQWKToc241+/cgNi0DOTMub+UlDPTc1c8zgbUfbzIbVNdWYc6zN7Zr+NUalxQCllV6IyAB+B2hLVu2YMiQIcYLOGqUb2v5ehKAnsQgfwvEQxjucwftegd9TSJxnDPoT1mZQBJHfE0UcRSBaz7eh/89tx05g9MQHdOcSeosAukF/PqrgyjaW43EPtGIS4pBVkIyGuqbkJoZhxHH9sC+xAokFsSjuLAaMXFRyD4sHZW9a5DeJwET+uW2mJi7ZBDnMHCgIWBPAjCQ+X92wr/B8v5V5W1H3qv/aPaUOYRJCZXij40CkK2qYAfShh2F3qec7e19GvDvDTVV2PveK6jYugHx3fuYjF0rC5kikIkqTbU16D75NGSOOc54JSt3b0VDZQWiYmKQ0KM34nv0xcr/+xNQU4Wo1Cy4En7WCdZXlJmM59xzrkBsanrA562O7glYos/aYtRxQ0AP4Lm/miYBKMMJCwISgMyPa2rCtGnTUFRUhKVLl7q9MTU1NeAfq1EA5ubmgiFgZw+gp7sbCd5Bu2KQ/HwRhIGIwfYSgpYIXPvmQRR/2YCcIa1DdpYI7JuYge0bSrBnezkaGppw5OSeKE+sQXZKBugZLNxdgW3rS5CYEovoLKBfVhqaGoGq8nokpcYi+YhYXPDT0YiNa/YEuVob2NkL6JwIEiwPoN3yL/4Wf6YA9Lbyhy+rflTlb0feKxSA/RAdG9fqcbW8f9Y/VuXvQPqIseh10vR2e2mXrP0chR+9gUQKUjelWmoPFqIJQPrwcajcvgm1RftNeZeS/aVAXCKis7KRGVdhbCihu+dwdX15KRrrapD706tMdrCafQKuBJ/zXjtSALobl8pLKzG+/wXtKkLt09QeOoKABCCAa665Bm+//TY+/vhj5OQ0ZzK6anPmzMEdd9zR5id/BaDzDoIhCDvSO+hviZmuIgZ9DQv/4x8rsf3TMhw5ojnL0rFRBFYcqEPRhjrEJ0WjpqIBRxzTHRk9EpFXXoKeMan4etVB4/WLi49G91GJSMqIQ3ZquvlQYXh5264SDJ7cDRdeMLrFS+TsBbQjAF3VAHQXAvYkAH0t/zJ61CFvJlnZCf/6MvePx6ivKMXuF+aZ8ihxmd1bbpGz+GPSRNXubej5vR8h86jj2uWdzFp9+a/9EzUH9hoB6K41NtajZPWnRiAm9s5FcXkUomJijV10z4pHXVEh6NlDdAzSBnuOYlTv2YXEvv3R78cXegwpt8sFd5Gd+iL4JAC7yM3uopcR8QLw2muvxeuvv44lS5Zg0KBBHm9zsDyAng7iLAa5bTDCxeE0d9BfQejvvMFAysr44xX0FhZe8cFevPqvzehxeAKyk9vOv/ryiwKU7alFZloSGuobMWJCT+PZowAs2lWNsq31SMuKR1lRDfoOSEVcbrQRgFYrPViD/INluOo3R6N7n+a5p64EIP/dCgP74wH0VAPQUwFoX+b/dUT411vdP4vj/qX/QdEXS5DUn0kg0W1Cv9yOJVUoAnPO+UW7ZczWHtyH3S89bkKxDP26axSIZeu/RG1cGmJzRprNHMO8FIIV2zai9sBepB0xDnFpGS531VhXi5rCPPQ6+SykHzGmiw5twb8sZ8HHIzCs60+TB9AfWtq2vQlErADky5Li77XXXsOiRYvM/D9/mzUH8INvbkJqWgIyE4/2dxdetw+ld9C55iBPNifZs2ehvb2D7S0GgyEED+6txr8f2IyDjRVI7haLfkmHkj8492/1kn0or61GfQ2Q2z8Dh4/ONJ48isHPluahvroRPbJSUFVeh9jYaIye0gv55WUtIpC2u2ZNIY44qTsuOHd0iw354wX0FAK2IwC91f9zTv7gyfvqAQxW+NcCVnugEAVv/8uIvMQ+udhXUNIy74+MG8pLUVt6AN2PPRlZE070+qwGugETMna//ATiMrojJiHR5W54Pnu++BRNpfuQmp2L9GGu1xxvqKtF2foViE5KQnLu4Dbh3YaaaiP+mFXc+9SfuD1eoNfS1foF4uXzxEACsKtZSOe+nogVgFdffTWee+45LFy4sFXtv4yMDFMX0JfmmG1VGfd1my6dRRC2l3cwnMWgt+QRX4Wgu7Dwopd34csP9qJXdhIORlcY26AQZA3AVUv2oraqEfWxDeg7KgWDs3uY3yvL6rD+032oi6lHTFw04upiERUNjJnSG/kM7QEtInDPzgpE9QKuueGYTi0A/RF/vFBP8/98Df86PqjVBTtR+OFC7Nv8DTJ7ZiI6IQlgIeiqclMUOuPIY5E14SQTaq0t3o+qnd+CCRv8O8O1if36m6Xj7DTOx9vFjOSYmDZeRquES1NtFeKLtprEDYrVlIHu65VW7v72u3mEzSVsYhKTTVFra5WT5AGD0WvqD02BaLXWBIIt+Jz5dqQAtNaodz4HzgGcNOCnmgMo40fECkArw87ZBp588knMmjXLJ9PwlG6/t2pVuwvCUIaL29s72JFhYl/FoKd6gs5h4dqaBix6aRc2fMYQIlCdXIOomChkNCZj4+cHOB5j2PjuqMmobRaHyZmoLG0WgAnJsahqqkV1WQN6dEvGyIk9zTZ5ZaUtArBwVwUaujdhws/64di+zfNWnZNBnJeF8xQGdiwE7asH0J8EkDXfLQcXaPmXYHv/HB/OtUvWoLFwO3pE7UN9aZEpDZPcfzBSDx+JhD65aKyuxIFP/oeKrRvRUFGGpigW7AGi4uKMGMuaeIpZOs5OowgtWfcFknMOM7txrt1HkViycYVJ+mBGcnzGoXmLzsetLsxDUs5hpsZf+bcbjMePYeyErF7mmhL7DVTpFwdo7S36HO+PBKCdp0R9g00gYgVgMEB6q7fkeIzOIggDXZXE3yXq2tM76E+Y2J/5gpZX0FchSG8fs3kp+Aq2VaCwshxxidHok5aO3V+XYciYbib0a2UH94xNw7rl+0zGb0JyDAoLKzDiqJ7o3f/QvDBLBO78phTjTuiD5GNjWwSgJQKP7XcokckxGaQjBSATQDyt/ctzdVUA2lPx52B7/6znc91nW1rW+mWo1fHjkPX4THmWbRsRl9mjZVk19m2orkLtAdbTy0Tv7/8ESf0GBPxaYVmagv88R1mJksrm1Tsc5/dRABatWoa4jB7IGDnOo9eRGc7pw8ei14nT3J4Pz71y5zeo3psHzglkkemUAUNMWRxPdQYDvsAw6tiRgs/5siUAw8gQdCqR6wEMxr33RwC6Ol57i8L2mD/oS7i4K4hBT15Bb+Fh57CwKSZcXm9q/K0q2o38tZVY/2wJyoprkZIeh/RuCajLqEdSZgzqd0Uj/9syE/pNSolD5sh4DMg6lEhCAVhb2YCkqjhM+8UwFCQ1h4Y9eQHd1QN0nAcYbA+gNwHoTvzxWkYf5ZQV/OV2c43eBKCvyR+OzyLFH9uoo10ngB38cgkOLHvXePqslTUc+/PeVhfsMFm5/c662JZnbfVLC1G/eTky0mLNfMBohm6bGs26xHXlxWgoL0NsWhqSc93PV26sr0NN4W70/v45LjOBTSb5t+tx8PNFpragqVIZHYOmhjpExyciOfdw9Dj+B24TSILx3gzFPkIp+hyvVwIwFHdfx3RHQB5AG7ZhVwA6HzrcBWGgpWbaUxD6Eyp29Ax6qjHoa21Bbx5B57Bw6YEa/O/5ndixqRT5+0pRVliH6LpoxERHIT4xBjHdgfiUaBR/XWcKSI86rrk+IBtrBLIxtLxh4z5MPC4HP7hosNnOeXUQx2QQT2FgdwKQx3EMAzsWgnbMAnYMATMD2N8EEH/m/wWj9p/z8+ZN/DFhIu/lx1FfWYGE7r3dvik4z67mwB70+9HPkTzA/2Sydcub5w+POvYwU9y5dONXqNz1LRpraow3knP1UoceaQTogU/eR3y3ni6zhY0Y3bsL8d16IHv6JS4TPMq+WYt9i98yK4zwmjiX0WoNVRXmOhiGpoDszPUBw0XwORtNRwrAj7a9gtT0tlnl5aUVOHHQDM0BtDH2d5WuEoA27mSwBWBnF4Sh9g6GSgx6EoKWCKTXbucrjdi+oRR9ByYbwfdtwUGU5NeisSgKVRX1qK1uQGKvGOSOT0XcwXhUV9YjLTMexVFVprhvSnUC6uoacdjITGR+Lx5TBx/yWjmKQFdzAV2Vg3EWgLS/owc216FzJQCbGhqwaslnGFC+F3WFe7BnfykGHDkSKUcciU0lURg7/JDnLlAPoLP3j+fibf6fL4WfXT3mjqFfV79TjOW//rTLYtFtBvbd3yLr2JPQfeLJPr9RLOFniT+rI4VcXclBNFSWm3AsQ88xiUlgvUCWrinZ8CVik9MQl55lEkfYGKquPbgXsSkZ6HXSNOPJc24M++5+dT4YTnZXb5AeRCbGdJ90KrLGt+/Sdz6D8nHDcBV9jqcvAejjzdRmHUJAAtAG5vYWgB0pCO0mlHSEd9CfeYPBFoO+eAUdhSAH8eLCGiPsYmKjsWjlVqx5vQjDh/ZCbPyhtVzzKktQV9WIbkhpFoFVDTjiokzEJ0cjcXsyNq84gJrKeuyvrkBqz3iccuJhGDy6G1YX7zHmYa0VTAFo/u6QEGLNBXSeB8jtrGXhfAkD0wM4pnc6it5ZiLzPv0BmYiyiE5NQVFyBjDggOikZxd0H4qgLfo7o78qYOApAXxJAOPePraMEoDfvH8+lYvtm5L/xDJKyB7WaF+jqlVGVt80s0dZjyhle3yjuhJ/XjgAo0IpXfYKyTSuNSDQx3CYmpMSbRJRu46e6nYtY9vUa7H3/FRPOdvT8OR+35kAhYpOSkT3jsrAvE9MZRJ8EoC+WrW1CQUAC0Ab1jhaArk61vcLGwRaEofQO+ioGfUke8SYEVxzYhoKNNdjxZQXqd8ajtqbRzOcr3FmF6uhaZB+ZbNb17ZN4qDYgRSBbz5g0bFldjMOPzEDy0THI6p+AY/sNNPUAo6OjsL5qrwn5Htur2dP2ecHuNiLQl7mAjskgPgnADdvRf9ViVKxdiZLEDPTp17zCyd79peidlYbG8jLs37oNOSechB4/ONt4pZwFYHtl/wZS+sUX8cfr4xJw+a8/ifis3m6XZ7OeSYZsjdfsmO95fKM4hnttvHrAcK1ZC7iqwngJuX5wYu8cjwkc+5a+g5I1nxpB66kxKYTFpPtNm2k7u9nONbrr6yj6/C3E3B7n488+5QH0h5a2bW8CEoA2CIeDAHQ+/Y4ShP6uTuJvdrG/ZWZ89Q4GIgbdzRd0FoP0+n32XiGWv7UH+yrKkdojBnFJ0UhvSMXKj/Y1i7ycJKQOjTJeQEsE1tU2mizhHTuKUVlcj5SkBPQfloaqhFr0OzIVM6aNMskiRvTt2dUiAC0RGIgX0B8P4Kp33kf3Ze8ivm82Cstr0SereVUSCsA+3b/7/535yIyqRZ/zL8PXZQkeM4CDnf3rb/KHt9Cv9Uwx5Jr36nxwpQ5PS7RRhNWVFXsUTHa8fjZeUa267v1wIco2r/Yq6hjqry7cjX4/vgjJOZ7FYrDOzdt+OrPoc7w2CUBvd1q/dyQBCUAbtC0B+Nm3vzQrgTi3lISJNvYenK7hKAj9FYMk4U8iSUeLQUsI7lpTjfUvNiApNQbdejbbQ0FVsQnxbv20AslxiaipakCv3CSkDGFt3ijU1zaibDNQtLca8UkxKK+tMaViJk7JAZd8255XjF5Dk3HxFWORkhHfRgT66gV0TAahB5CNIpAeQLaj+2fDVSawWXXkLw+h+8ECJPQfZOb9uRSA+0qQUV6ItHHHIb//BL8EII+xasV2jBnT33g6HVuw5//56v2zzqFk7efYt+hNxGf1cp140dAAll1JOewI9P3hBS49cMHy+tl9Ixz47EMc/OIjJOe0nR/ouO/6ynI0VJYhe/rFSOjRdj1ru+fha/+uIvpCJQDf2/o6UtLaJoFUlFXg+4dNVxKIr4bYhbeTALRxcy0B+PXu+UhLb16T1WoHq1e43HOoRWFXEIShEoOesogbG5vwlz9/hT1f16LnoDj0TMhquf+NDU1YvigfddWNSE9KRF1tE0Yel2W8eqtX7cX+bTXo2SMZ0THRRvTF9YhC31HJzSuH1DYib2sZMsbG4ZJLx7fs09ET6EkEfrluPUYcLEb9/v3YdrAIQ4YOQ+LwEVhZXN5mHiAFoBGDA7NbkkAaKiux/u4/ome3dMRmdvMoALNQZVad2D/5PIwdcSghhHMAXYWAi4qqsfnrIixevB21tY3o1SsdQ4dkYNiQbujXNxnrVjTPC3SXARxI8oev3j8LtEm8WPI2Std9YcqymPIscXEmi7a+rNjMw0vs2x+9T/sJ4jObV3SxWrgIP+t8qvfsQt4bCxCXlulxzeGqgp2mEHbfM873OvfRxuvTZdeuKPokAINtJdpfsAhIANog6UkAutttOArDYItCO/MHA0km8VUQBuIZHJx6hMtb6SwG9+yswr/+vAXpWfEojWuuzcdmCcG8LRXYtqEU0ekNqCxqxLBR3dEzJxlrl+1HRV0N4pNjkIR4VJbWY+j4bqhKay7/QhFIUZhfUobJV/TFCUMHm3+nAGRzNR/QJITU1+OIdZuw84MPEVVaim4pKSiqrAIaG9GjXz/sGTwcY846y6x64WoeILOA2cb0ymgWgN27ITYj06MA7B5VY5IRDkz5mVcBmBCfiv99uAvFxTWoqapGnz7pqG9oRFl5HZKTYjHh6N5Ija3GUWPdF1f2VwD66/1zFIGl679A6foVqD1YCDQ2oSmqCbEp6Ug9fAQyx05us4RbuIk/XgtF6553/23qACb26Y/o2OZpBY6trrQIDVXl6H3KDHNtHdE6WyKHHSYdGQKWB9DOnYqMvhKANu5zIALQ1eHCTRSGsyD0lkzS0WLQEoJ5G2vx6RMNyB2a0hLG3FNd1HK70xsysOHzIlSW16O6vhbd+scjpVsM9q1rMKKRHsR9+yuR2iMWR0/oZ5I9rOSQvgkZ2LWlDP1/mIL+49NwdI9mUeRKBHI+IOdwrX76GfRevQ7R3TJRGBOL7IzmpJP8omL0qq3F/r2FqJ8wCWN+9jN8tT3fhIDZnMPA4/r3wZp77kKPplozB9BTCDiz+iCSBg7F3lHf9xgC/t+7m7FhYyXq6hvRp3cy9u0pQe8+zXUOGQ4uKak1QvDwnDicM2Ok2yc0Vpn7LwAAIABJREFUEAHoruCzL68B1vtjiRSWU4mKjUFCz35thB/3E47iz7q+urISFH7wmqkzGGNKyWSaVUW4vjG9mUwo6Xb0VHQbN6XdvX9d3dvnyqYkAH150rRNRxGQALRBOlgC0N0phIswbG9B6GtCib/ewWCKQW/JI+99vhHvP1qCHgNi0TuldSjQEoKVxQ04uDEK+/Kq0WdgEhpT61H4dQ1SUxLAMHFmzwSkDo4yiSNWgoglAht2x+CEs3NRP7J57WBXItAKBR9VVIktf3sETRkZ6Nu3H/JLSk2f7LT0lv/v3diAfXv3Yegvr0PCwIEtXkBX8wBXvfwaope+iz6jjsTeg+Wu5wDuOYCMqoPoNf0CfIuebgXgmpU78O23tdj8dTFyc1ONyCgsKG4RgNazULivChWllfj1r8YjKfFQsWLr90DEH/vaEYDeXhXhLPwcz51z/FhsunzzGtDjx3WCWWQ6se8ApB8xBimHDW838ReJos+RfUcKwLe2vOV2DuCPBv9IcwC9PdAR8LsEoI2b3N4C0NWphYMoDFdB6Mk72F5i0AoRV5TW4x93f4t9lcXI6NUsWHokdG91CykEq8oaUbQB6JGdZJaH27KxGOl9YpGZHY/B/XuY7OCC78rCdGtKQ1FhNcoO1iIvrwyDJqXh3AtGYXdKkfEQuhOB8Qv/g94bvsH+3r3M8ft9J/woANkoCPulp2PP6jWoP3Yixl40s5UANALTYR5gfXER1v/lIWTVVqA4pTv69Gj2JlpZwPQ4Fq5bj94jhqP3+Zdh3Tf73QrAJR99gxVflSElNQ6pKc0hSFcCMH93EfYfqMWF5w/HqOGH5lPaEYASf63fKFzphCFt3r+YpGST6OK4DrKNV2ObrpEu/CwgEoDBtCrtyy4BCUAbBEMhAMNRFAZTEAY6f9DfzGJHQZiTPMqlFXibM+joFaQQ/ODVPVj6ZiEGDEtBTGwUCr8LATsKwYIdlahJrsKJV2Whb002Xv7rVsQnRaE6rdqcQ+/EbiYMundHJb7eXIT6qkbENcWaEHFyTgwS02Iw9qi+SD8hFsndYluJQM4HbKytxfrb5qBXYjJie/RAfmmZEYCW8HP0AvasqsK++kaM/sMdJgxshJ9DNnCr1UCWfIa+Kxdj35atQHIqevbrg/0Hy5AV22jWqC1N7o6RMy9DfK8+HmsA/ufNjVi9pgz9+6e1iA1XAnBvfjGq66IxdVJfHD+xb5v7448HMNC5f76+GjqL58/X6wnmdhJ+rWlKAAbTurQvuwQkAG0QDBcB6O4SQuktdBaFmYlHB0TaWRAGGi721TvoixgcmNJ2cjzFYNmBBnzwzwpU7E5Ev4FJSEhqXqaLQpAh3sb9KZzkhtN/noO6ocX/z957gMdZ3fn+n3d614x6L5YtW5ItdxtjMCUBEkqAkE0Wkmz6buryv5t9/k+y/70JuxuSvcndDdm9NwVIlp4CZEmAJBAwmGKDe5Usy7a6NJJG0vRe/s8545HVLVk22HiOHz+WZ855531/552Zj76/Jp/b9aSH/u0K5UvNDMXSrtqR7iietpSEyJguRsidpKLSxuJVDjpcI3h6Y6xsKqboZj16i3oCBK4z5zH0v/6NwWiE0rJyCYBiZFRA8XMGAkUs4FAwRORzX2R9deWsbmDRDaTJrpfFoDu2vUaeJsWoJ0hBRSmWpnV0aApZvbZevtZsRaDnA4ChaBoAr9y0cAA8X+pfFv6mvq2z0DfzR10WAM/qayC76DxZIAuACzDshQ6A013auwWF7yYQzkcdnK8yOBkGdxw7yptPBXEej2FMWdHqFRIC/hKQsodZ/UETH7h6xZj69Wb7cbY/4mbwRJTqily0ehVvv+aUvX+tRiNBXxzFkqRsuZHKvLRLucvjZqQjwm13LSWxPCYfE+5gmRSSSFDz8NMMOPtJFhVSZrFNgcAMACpOJ8WLaui8+Y6xmoAZBVAec5wbWADg2tp0osi+QydZUWjhyHEnmKysbqzhYHM3q5aVTwFA8cD4MjDbtraxZ58Xq0WH+Qwu4FhCzS0fqGJFw0RX+oWi/mXhb2b4u9g6dCzga2BeS99JAPzvY3+cMQbw9roPZmMA57Vz783JWQBcwL5ejAB4oUDhuQDCs3EXn0sYHO8iHg+CiXiKrXta6G6O4h9NUWorprLORF2TjfZUuradGJkOI57hKE/86gh9zRGCPWoGu4NgSKLRqygptlJZZ2VUFUBJxClLqUU9D5r7QmjzzPzt/7eB/e5T7ttTEKh9bTtF23biKikU1abHIHC8ClhqtjBw6BDVd32Co+U1MxaFnuAGPgWB+1p7WbM4DYP7W3pYXVc+ZwAUSSBtbRHaTnioKJ85CaT16BAlxTY+dWcdJtPEciXzBcDzof5l4W/iJ0lG9cuC3+xfKFkAXMAXbnbpObdAFgAXYNL3CgBeCFB4PoDwTO7iucLgXBJIJsNgOJig7bCfV944gW84iUarsGZlFcvW2HDog7S07JFqnWIxsqxpC4pWw2utx3n1/hEG2iJUV+ViFTUFNX7UsRDVw0OYeluIeURLuRQajZUTmhKqv7qRq993OTsH0nUBhRK46/B+DI/8mvyEwpAjhzJrzkQV0O2hYGQUl1ZL9C/vZF19I5n+wJmagJls4Ew9wLU1ZWRUwOkAUCp9p1RA4QIWY1V9WhEcrwCKNnBWSw6/e/YEiSQUFRonlIER8z3eKF0do3z4Q4vZsLZoyu35bgNgFv5Ob0nW3Tu/L5AsAM7PXtnZ59cCWQBcgH0zAHjw5N9gPdUKznABtH9bwCXNunQ69/H56myyUCA8m9jB8UA4U8zgmVzEAgRdPQle/VUIX5cZtVrBYFIJ1sPT30WF7ygNZg95tjiKSsGbDKIqy0ezqZGG6z7Ebx/oZs/efvKq0t1E1EEPmt3PYxnpRau3kjBaCcRjqMIhdL4gpqZ81B+/gdWbr50AgXte2Yr+2RfIi8ZxmY2UFJfS7/Wh+HyoXCMkHXbqPvUZDhnNrC8rnwCAEiSnSQaZ4AY+pQJmFMDxACh+nikOMNMHuLllhJdf6cbrjRINhykuySEeT+LzRdHr1RTnqrjzY8tRT2oNJ449VwA8H8kfWfibCn9Z1W/un7hZAJy7rbIzz78FsgC4ABtnALCj935sNqM8kie864xHfC9B4jsFhe80EJ4tDI4MRvnlj3tpPeGiuEYtlT+7rgCNx4V1759JDQ4yqujJb7DT0FhCMhwhOjCM2zeC5qqVDBqu460/j2CoiaEkEpTve5m8YScj1lxSag1mjUHeX6O+EMl4ktXVSbwWNbFPfZg1jesmQODunTuobemgd+9elGAIh8HIiEpFxbr1nKipIVlSghJP366TIXAmABRzRSxgRgU8WwAUx3G5QrS2jfLatg7ZSlHA8uJFdpYttePud9E0QxeQ+QDguXb/CgBcvmHRGd/j7/UJWZfv2e1wFgDPzm7ZVefHAlkAXIBdpwPAMx3uUgDE8w2FCy07Mx91cC5u4vGq4NEXinj5GRc1y9JAMxwZlq7e4l0vY3MNkbA6CIUhSIolV1jQmRRydfnE3T5c/d34t2zhhTcKqS7Lxx7owfjWfxOxODAY0p0y/LF0uZiER4WuEEobjdg7Xbg2ryL+gS2szauaAIE7+7tYoxg4cKxVrkvZckk5HGwoKWdXdw8bSsvZ1dXD2rx89r+xnaUGPccHR0jm5kFROajU0yaDzCcOcLILuGn56T7BUi3c08GyhjI0agWNRiXP89Dujml7AAv4E2P5mnQ3FFEyJzLQIzt0pOJxVHo9xvJadLkFzLfv75neu1n1L22hLPyd6U6Z+fl3EgCfPPoiJqt5yskEfQH+Ytn12SSQs9/G98zKLAAuYCvPBgDP9HJnAsSLUT28kIFwITBYqG+S26k65aYM+BJ871sHiEVT5BarsGnThZgNx/eTs+NZErEwSiqFSlETjqmx15VgWGFDsaRVPVN3CP3iKp5JLKfzUIzL40ew9rYwkpPOgjVp0irz8GhAVJNh5YZigqYQDI1QYHbQ/fkPg9EwAQKT8TRQiRqBolOIaBUnewVDWv1LJNDs3odm/z7yAgFGA0FyjQZGIwmKly2lu3Y5a6/eQiYZZHwcoDiGSAY5UyLIZAAU68ZD4KF9nTStnAiFswFgBv4iQ/0M73iJUM9JkpGwzKwWQKg2WbAsqmdAt4gVV6w401tuzs9n1b8s/M35ZplhYhYAF2rB7PpzaYEsAC7AmucDAGc7nfcSHJ5PKDxbd/FcYDAcSnL0YJCtr51gsDclt6tucTmrNloxmBT+64d9FJfrCCgjafgb7KXs9T+jHXGSsNhJabTEkzESgSgWHdgr7VhXL8NtipH0h7D4NNi/8Ff86cUY0d8+ijXuRldULpJ58YRCRIMpzHo9tloVjnIthQYH/S4nyqiPpf/4DfarQvJ1M0rgWHmYaSBwfVEpBx5/gsJ9+xlJJCmuqqY/EKI0x0Z/nxOlvxdFpSGxaQuppo2gN6A65TKezg0skkDEEOVgZqsFmIkDzNzrZwOAAv4G/vQbIsNO9HnFqIymMQBM+L1ER4fwq3JZ8Zm/RmO2LuBdnl6aVf/SdhDqXzbm7+xvpywAnr3tsivPvQWyALgAm77TAHimU50NEC905XAhQBiLpWg7GsHZFyOZBLtDTf1yPWaLmrN1F08Hg8NDMZ56yEXr4SBqNVhzNFKJcw6PSPjILwVPr43KWgM6vQqVz43uzacw9HdBNEFcY5PzFZUQ3lLoLQnMSgi1yY6moRG9WU3Y1Y7lazdTUbuFA9+4n/4DbXg1DnSKXhaG1jgSOMq0VJcW4Ayli0nnxbQMDTqJf/UuVi1Zw66hrhkhkIQin1PiKtRtxyl9/gVcKlW6aLTHS4nVivNkOzleN/6BQfSiXRgKuZs2M1ixlKYPfoCDTt+UOEBxzPHlYMZnAgsFUIyVjems4PkAYMbFGzjRTHR4CGfPCJWrGgieaCE80I2xrAZFlVY5x4+BzkGsKQ+ODVeTf/n1Z3rrnPH5rPqXBcAz3iRzmJAFwDkYKTvlHbNAFgAXYOoLDQBnu5SLEQ4nQ+F0GccH94Z44Tkvne1R4vEUAm8EjBUWa9h8lZlrbrCi0aShR4yzUQcFDIaCKZ78WYrjh6BuWZEEvPFDKIOHDg/hHUlR26BQUV6CoXUvugPbCXhi6P2DhNTpeBwFFaJWoFanQqNPoIsEcdvLUYx2HAkX6ptWU7SpgERrL5q3e0hVVDEc9qDRK5TaCxA9hcUQWcISArsHKKheTO8nbwCthlWOmjEITJxyAWeUwIwrWJCo/qnn0BxuJllRmT6vRApVTzeq7m7ZsUQofoJ0FbcHS1UVvjgUr1xJ76qrBP2OqYFn4waeiwu4YVk+rm3P4287QjIcQqXT4x72YdZEiQz0YSipxFhZS9w7SnR4kGQ4KPzxaGwO/FEd9lwjKrWa8r/4mwWrgJciAIpewcHu48Tcw4jfrDTWHDr6Uqy4etUCPjUv7aXvJAA+0fzyjDGAdzW8LxsDeGnfiunP/JT4FTs7zsoCFxMAznSBFxMYTgbCln1N/OrhESKRFKXlWgzGNJTFYykGB+L4fQne/0Ebt300RyZkTB7zgcGdb/h57H4XuZUetLr0kUzaiS3KBATu3OZDbQrRuC5F7tYXCDjjMiawKNZFTGMiqaTPLx5Nxw4KkLTpQiRVKYgnScSThG3lFFfoUdsjJPpGcCypw7CofEJv4QwE5ikWBo4ehTveT9NNt7PHlS40fSYI3NV2lMpHnmQoEqGkvEKqf4XBEKN792IymwkoKqwGPf5QBGMkTMhgonDtegabmyndeBnda97H2iUVU7KB5+IGnosCePCtNgoHduFr2Ysuv1jG9QmwH+wdJTnSh2akA0VIqUL9U6nkz4pGI8E1GYsRiSbIqahEUakp+dAnZUzg2Y5Lzf0rvhJ8rQdw73uT6OigjKsU7x7xTeELQNXVV2FfdQUqYe/smJcFsgA4L3NlJ59nC2QBcAEGfi8A4GyXPxMcXgju5JHhBP/yzy0E/VBelf4dRqtJuxgzw+NOMDwU5/NfyWfl2nQCxUxjNhgUX4A//sEAJ1sjVC/Wjx3CGxsY+zkDg4d2+/F6ElSXJSh8+7/xBBVUFi1F3m60iQhhxUAkLNzAKbQGSMTAqgQwJQMk9UZ8RWW4dYXo0FPfqCF49AApdwBNUzUFSxsZiqTdvvn6PBKhMIPHjlG0eg0Fn/sYB6JDNNkXzQqBmaQQZciN8YGHSJltYDJBIoW6uRnV6Cgpq03UmpZDEf8GA1INLLriKpy9TvJSMYauvpW1mzdOAEAxf7IbeKZi0GJuRgWcLgbwwDMvYG7biq6gBLV+4t45Dx5C6+kjEQ6QjEbQF5WjNkyc4x/xYFAnURmMVNz5VWzLVp71O/1SU/88h3fievNFCc9aRz4qTboTSyqZZOBYO0QCVFx1Lfmbr5dzsmPuFsgC4NxtlZ15/i2QBcAF2Pi9DoAzmeZCAMNXXgrw6H+5WVavG8vCDcX7J5yyAMLjrWFWrzPxua/kjfXfPdOWT4ZBfXIN3/uHXqki5uZPVT3Gg2BgOB/PaBxtKoLl5adQa1UkTVY0kVFy/b0oyTiRlBGtUSsTOxKRCIaoD5M2Srx0EdHiGoKpCN7hJCW1ahobihh9fQ9BrxtNRQE2RzHuuB/CUVCrKGpazcDNq1AcVhpti9k70jEtBI4vDyMgUPH5Mf7kIVlbEJsd/AG0+w+Q0utBo8Wq1+MLR9Iq4JALS2ER3qrFFOdYGTx4kOT6q0ht2DJtTcDp+gLPFgcoAFAC4alMYAHc+/7zPmzRQYxl1VO2y3m4GZWzlVQ8JlUprc2ONid3yjy/awQtUao/9XfYV24607bP+PylBIDRURe9v3sIkilZSme64TzeBSEvS+/6LObqpWdt10txYRYAL8Vdv3CvOQuAC9ibSxUALwQwvO9/D9PWEqGm9pQ/dtJJZWBwdEQhGoG/+1aEsuLL5r3bAgZDAbjvHhUaNRQXlc56jPaeAcFP1K1I0fZvu8kNduPRFkrYs6j8GDx96BIhNKdKxyjxKEo8Tjgnl+SSReh1Nnn8oD9BlDCNV+qwq+wEmk8SWVGMQgqHOhfFkcuJXDOJ8lIay+ro0vdJwJ0LBMp4wP4ulrz4Jn1vvEnx8uX0d3ZjaTlKyGDAajRK+JMqoChb4/GQrF1CqqCEEruNgcNHKL9yC52Nm2cEQHENs2UDz+YGTgT97P/f3wG1huJFE8vDiOMKAFGOvy3tpIgYRbUafWG6N/H44R8aRqdOUPbhz5N/+XXz3vvxCy4VCBzZ+wbDb76AsXzRrL8whfo68KkKUDdey4rL6xZk20tp8TsJgI8c3orJapli3qDPz18tvzYbA3gp3XgzXGsWABdwE2QB8MzGO19q4b33DDE0EKe8Iu2emmn4fUlGRxN8+Zv9FBSdDnedTwu7ZDLFj/7XEEdbnVScagJh0EwPgieOhVm+yoS13MnOn3ezdHAHCUsx6AyCZ+g6EUIXC6AngJJMoA/4CKZ0xKrrKSpUEU4E05cSNcrWaIsvT6HVK8SO91N6xZU4r2+gdUeYoQMWPMNRRiN+tAaFVU1l6FeEKF6qY3nOkilKYCyedtWNLw+z57VXKfvdiwypVShJ0Bw8RMpklokfYy5gnw+TxYJvcT2lBfn0j3pRujtJNq2Hzens2kxpGFUsbd/ZsoHHZwKLudO5geN+L92P/AcjnijF1VPBznmiB1X7LpKxCIpaKwHQIIpWjxupRJyAaxhLQSH21ZdTctNdZ75ZZ5lxqQBgz29/QXR4AH3BxPjWyaaJ+dwIG/sq34eiS7vfs+VhznyLZQHwzDbKznjnLJAFwAXYOguAZ2e8cwGF/+ffRzhyOEzt4ukVwMyZDbsSiDIx//NfCsixpyFoLtnFk69s+zY/jzwwwqI6PVqtQiDmHJuSgcFIJEl3R5RPf7mAYCDJrx4cYElwK8budhJmK2pzIT0dUWKxJDq9gjbowuhzcUKzlILaPEps6Rp+AgLDwRQ6lZEN19jRaFU4jx0lXFpBm+Fm2o8GSJiDWHJV5Bny6BkewetKkG+1U3EdLNlsmhUCM5nByZiCduvraLe9JaFP3d0LiaSMCbSoVARG3aDRkKhdAvZ0MWolGifXO4Jr8/Ws+cANjC8MPTkbWMyfqwo43g0skjh6HvtPhrqcFNfVTrnJ4gEfg2+/jiYVIxkKyBqABqEACpk1lSQRDpGMRolqrDhKizBVLqbklk+c3c16atWlAoBdv/4JiYAPXW66iPlMIx70kwgFqPiLv5Eu+Ex3kMz8LAxOb7ksAC7obZhdfI4tkAXABRg0C4ALMN6kpdNB4WzJJq+/GuShB93ULdVOm+GbOXxrS5TLrzTymb92THuyc4VBkVH80x+5pNu5dmkaAsXIgGA0Cn3tDpavMvLZrxbiHk3wo3v7MWriFPXvhe7DqKIRfEE1Qa8aoy5JTNHRF7LRb6xi46JeLNrTiQyjrhiO8hiLmjSyo4jnaDd/8tfTr6ugflmRhMIh0WYOZCu5wfAobmccq8pGw10aiuv0ROLpeMVMYsh0mcHJKGj2HED79j5yjp0k2N2DzmohGk9INTBZVkaqoJhSe45U//J9HoYVDYk7PjWhMPSZVMCZkkFmKgcz8tZWhrf9Aa+2gOIS+4S9S8aiDLz1BnptirjPi9poSmcCpxEVlcGEvqAYQ3EFA4cOU3XdB8nffMOCb9ZLAQL7nn2UUF/nFEV1svFinmFZ0LLiY1+ckqSThcGZb7UsAC74bZg9wDm0QBYAF2DMDACebP8CVltaiVLr5h9ntoBTeE8vnQ0KRYbvD747zIgrQU2tZtp4JddQHJ8vxZfvzqVxxens3dmMNh4IJ7uJRaHpx34xwvHWiFTwcnLU0lMqzsUfHmVJA3z4r5LUlK+TL/HLX7h442Ufi5boMITdaJyd+Ae66elQCOsK8TsqGen20qA/QV2NUP4Ccl0yYiQaSbFyoxUlx0MqnsB5SMPrySswLdWiNynYdekA/ckQ6DweZdOVlVTenpDPzwSBkzuFrMspZN+LL2L45dOoe3pl/B06newFbCkowCPKsMQTMkEkcc0HSNY1SNfv2pqyWVVAoQCKkekMMtdkEJGM0PebB3Cd7Kagrha13oAizunU6N+7j9TASUyl5Vhq60mGgjJLVZSCEfXqROaqiCUcau+h8bNfkTUDFzouhXIw3uY9DGz9HcbSqlkzfEX7vZyVmyi48oOzmnUyDIrJl7I6mAXAhb4Ls+vPpQWyALgAa2YAsL/vfmy2tHoTjLw15yNmYXHOppITJwPhkYNqfvloBZ7RJCVlaqxWUQ9OIRxO4uxPu35vuc3KTbema8jNZ8ykDAolUBSffnt7kKGBmDxkcamWjZvNNK024lUOyscSCXB1NPCbh0dobxO19rQUFKXVypNtYfbt9hCPweKCEJvCr6C2WUloDLi9QVknsHaZg9plJpGFwUBrC3tGl9BjvpzFK6wMn1L+poPA9n4XsUiKu7+1jg5N71hSiDinTBxgRgnMQKAsDRONoXv+JbQ796ByDqFEY7L4ryRckUUjwLSskvgdd7L6+uvZ2953OvbvVHu4c6UCNiyy4T96gJHtLzF8aD+iaKLBnoO+sFxmporsXxGn5ut3Yisvx1RdN2V/RW/gsLMHv7kSzcr3s2L9VFfyfO6HzNz3OgQK127vMw8R845gKKqY9n0j2uwJ2C658U6M8wTrSx0I30kA/K8Dr86YBPKZlVdnk0DO5gPgPbbmkgfAH//4x/zgBz+gv7+fxsZG7rvvPq688so5bfN0ADinhfMAxSwkzmxRAYRtrSpeekFHW6uaSDhXfmGJHIbKKi1Xv8/MpiuMY2Vi5ro3k+dNpwqKxJBIOJ30YDAqY1+UohvJ7reCvPzKCXo6FZlB7B2xEA2nMJpV5NhV0n0r1vsjXtRKgtLufRQMdxHXGtHm2alYbEJb6Ke724DPqUNj1NNiriKsMtPQcDo4X4DgZAi0pHJp63Dxga/ZuWJ5I/vd7dNCYAYGM/GA6j9vR7f1NRKFRZQWFOHs7UMZHkUR8KeoSWnUKPEU1Xd9nGOli1DGQd9CVECRDSxGxhV88NU9JHb/CWtsRBZ/Fps5fLIDfdhNMhKSdf3Mi+qxr7uSnr4QiWM7sWrCqEWMpagFmEwhEhQEvFqWLKfg6g/RcihdHmj5upqzvQUmrHuvQ2Cw5ySDW39HzDuKzp4vbSveV4lwEKHMCpU1f9N15Cxff07sOR0Uyv3atOScHP9COkgWAC+k3cieyyUNgL/+9a/55Cc/iYDAzZs387Of/YwHH3yQ5uZmKivP7DJaCADO9dabi6J4qUOiqBvXfjJOW8dhWRcux55icV0Cm/XcuuNncw9LhS2W4uknRnn9lYDwnFJYpCGuGkLEBzp7IeSzUb/CyA232lnaYJBqYOuRMC0nj5La14qlexRDws/R4QIOD+QxEtGgMuuxlJXhdKkIBZNUrkhQt6R4DGonQ2AkmCTltnL5lzRsqm+QACjG5PIwE+IB3SEqH/4dA95RSqsW0evzooiWJVL2gzKrTXYKUZwDskh0/GOfku5hAYHrqsvYe7x3qho4z4xgAYAiecP59C9wHj5CcWOjzO7NjIGuQXJtWqKDfeiLSin9yBfSyQdb91BmcONvPSCTEkQiiL6wFOuyVZhrlsn2cWIcfvt4FgLn+qEjEpEGenEf3EGw64QsuK2IP1qdVPxsy9fL+n/zVdXn8fJTkkrGr72YwTALgPO5C7Jzz7cFLmkA3LhxI2vWrOEnP/nJmJ3r6+u57bbb+N73vndG278TAHimk8gC4vQWmuwuPtfdSzIwOD5O8M9/8PL0Lz2UlGmw5ailyiegTXhS4+ohYhFw9Tm45aMObvjQxMQG0W845g2z4xETW7dGMegViqpNxBxR+UU73GnjwE4/JpOKwto45XUqcnRFU9xQzzn3AAAgAElEQVTBLccHqCot5FP/7yKOhdtZaq07IwTWnxzhxM9+TqKiPF0C5hT8CQgszcBfUhIuqv5+lnzxKxwx5ExQAcUuyJjA2rI5tYcbHwuYUQFrVC4GnnsCr8ou4/2KinNOA2BfugNKYaGVcPdJ8q+9BfuaK9Jwt/MkDU2lsl+wSAZRG83TwomAwHOlAsrX3X4sDZUbTtUGOtOb9SJ7XvxiFRt1EXW7ZD1IjcWGvqAURbTfexfHTIqh3IsLXDXMAuC7eONkX3qKBS5ZAIxGo5hMJp588kluv/32McPcfffd7N+/n23btp3xdrkQAPBMJ3kmQLwU1MPzBYPjFUElvoHv//MAAX+SgkIN/b0xerqiiDqEQpUUxaFLSrUk1B5y8+Gb/7wSi3ViG623Dx/ksR+lyLHkk1d4ur6hJzok3c3N2/WEAgm0OhWL1sUpLyqW25+JCTSl8ug+EaTp9hS33byKw54T8vkMBGZUQPFYxgUs/lW/sRv1c6+QrKkkNab8KRNUQLFG1ArMGxpicMs1pOpXyWOPVwHn4goWySBiiKzgyRAY3/YUOeEhDGVVDPa7JwCgWDPQl34sMtiHNsdB+Z1flqAoAFB++a+pmvbtIGLWgp3HpQu5+8QQSzatkh1GxieVnOl9NN3zog5eqLeD1he2kvIOUlCcI/sWWxY3YiyrGWuhdjbHzqxJREIEO9uIjAzKwFIBYaaqOnSnyvIs5NjvxbWzweGFAIjvJAD+fN+2GWMAP7f6qmwM4HvxDTDPa7pkAbCvr4+ysjLefPNNLr/88jGzffe73+Xhhx+mtbV1iikjkQjib2YIAKyoqGB8Esg87f+uTp8NDt+rYDgeBs+VKihA8OAeFQ/9REd5eREth8MMOONoNApGkyLdtdFoWg0UibVGW5gvfTPJlivXTtj/Z341wkvPeShe4sWsm1iIV0Bgf2eS7hY9AV+CxQ1GihvCskSMUGp6h124epKsWlPK8r8MY7CoWGxZNi0EvtlxgtJwMUdG+zDmqDE1N1PwpzdxlRVSarLT6/dMUAHlSSZBSaRQdXUSu/FWEo0rpOK3rrKMPSencQFnYgRPuYLV8XS85Ex1AcU17L/3f+Kw6cdakE2GQAGAYuSZQZSCqfzk36bjBE+pgJMhMBEMMLz9RfwnW2RtO1kmMAVeTwSVo4hlt98hQe1sRiIUZOi15wmcOCILInu96azrVCxETp4VU9USCrfcLIHtbIawh6/1AKN7Xk8rcKSkGzaVSqIxWWV8Y+6Ga2V2dHbM3QJnAsTMkc6XkpgFwLnvVXbm+bfAJQ+A27dvZ9Om031C7733Xh599FGOHj06xfr33HMP//RP/zTl8YsVAGe7vWaCw/cSGJ5LGHz15QA/f7CDYEDB2WvCkauWADh+pEjhdSelKvjJr4W47ZMp7IZ0yRhRHPqbX+qWqqGIH4wmg+Tn5VBUqiMnVy1dmu7oIANdKdoP6WSZmPKGOBqtgjZhw2BSY18S5IqPGFhetpwWb5s8bgYChQq4rbWNE28F8Tfr6R5yk6MxE1CHuaw8ie3AU2gqC8BomKACllls9Hl9aQD0+1H8AZb9j69zIHa6A8h8EkLEOSmnoLCpJo9D+47LUjNNa+ro/cUPGeoZpHhJ2qUqAFCMya7gVNBLrsNI5V/djdogMqXTY7wSKBIWBl54ksCJZlnUWG2xjbmFE5EwQ63HUQxm6u/6DMby+UFgMh5n8OXf4mvZL+MNx5/DYPcwqXiElGeQkrXrKL7ujrE4xPl8nHuO7MH1xh9lKRaR+ZxRKwUYxv0eRB0+69JVFF59Cyrt7MXQ5/O62bnMGn842T7zBcUsAGbvsAvJApcsAJ6NC/i9pgDO90YcD4XDwwpHDmvw+RT0xqVUVmupq5u9KPN8X++dmr8QEBQFn0W3kT07Q/z6CS/Drjh6U0gqfWrVVPUnmUrS1R7jxtty+OK3B+QlKuFV/Ornwzz12LCMFxSuYaGXhcJh9DoDJeU66pabJOwJJdDVnyQ4bOOya3MYjgxgy1PYtL6e8hoDxwNtVJsb5HEFBAoAFOOVg0dpflLDsfZh2UFEZ9NKRSzoTREcirKidysVtmF0K6plIoVwBZeZc04nhIiewO2dlF22iRNXXYPiDaJyOlFF4jQuquJwXIOKtNt6rBzMJBUw0yKu3q7Q/KeXofMouSYNo+4Q5BZTYFYYbGlFVVJNUWE6/m86CHQePIJSVMXqL909JdYvA4GlyU6GX/+DrP83HSAJkBo41IwqJ5+VX/n6vNy1gY5jOJ9/HK2jYAL8jb9fB9qd0i2sabqOlbfOrwh1zOum579/Lus/6vOm78ghXMOiFE7h+27DtjTtjs+Od9YCc1UTM2clYDELgO/sHmVfbXYLXLIAKMwikkDWrl0rs4Azo6GhgVtvvfWiSQJ5p2/wQCDJM8/42fFWmJGRpISIeHwYkWxZW5vg1lsjLF2WuCgLYs8HBLu7Yrz5WpA9u0JS0ROxf/v3hiXAVVVrUWnTRZ0nQ2A0kpRdQupXGPjOv5fKpI7/+I/DtO63M9Afl5nEIoEkM3zBABG/nvIaPQ0rTSgqhePtgxTkFnD3P1el6wr6W+T0ctNy+e8x37EJEFimLOa+7+1nuCdGQ30xg1E3Bfpc+kNuigwO+gJurCdcFJ54gWW1JrzldlKqUzGIIiYwFkPdO0BBaSk9l21C3dmNuqUFlceDw2DAHYmRyisi0bgSlq6UiSTjITDTIk7CYVszvP0SOUoUT1wru4nk200Md/ZiUcWIe92E8mtQmW3TQqCo7ydiAAOLr0ZVvowVq6Zm6x968yixN36F3aKgz0/HSU43ktEIkaF+gjVXoSqsmXOCyMCfn8Z3dP8Z3ceh/i58SRuaNTeNgepcEkbcB9+S7mXhnlaUmRMuws5u9CUV5F/2fsS1KBot+ryis1Ic3+nPkUvx9QQwhqMh7nns785r/F0mNv2BPa/LPt6TR9Dv5wtrrzyv53Ap7u/FeM2XNABmysD89Kc/lW7g+++/nwceeIAjR45QVTV9QPn4Tb4YkkDO5U0ZCiV54AEv27eHKCpSk5+vHitHIsCwqzuOw6HiU5/ppKEhHROVGReT6zgDgjPFCB5tjvDIz904++PkF6ix29UyDu+3T/oYHk6Qk6OSCR9aw0QIFHMGnXHZRk5RpVh/mRm1RuHQERfLloNnKJejh8PkFqRdvmJEEgFZhzkeNrBmkwVHvoa25hAbbglyx0dOxxAKCBwPgGKtUAKFCti2M8KuJ1ToyyMUmfNxhkflsePJNFwkkyp5/pG97azVHyRPFwAVEgJzVVpGIiFSRSXELtuI9u3dqDo7wWYnZc2RsKeEoyijIyjRKBXXvp/2urWsXVw5tUPIKzvI2/UCoy435BVRXJCDc8BLcUFaKXV2OTH2pmE2VLgYxWihuCidLS2UwFQkhC3lw7KsiaIPfpQjB9P1/SZDoOhS0fvUz/HGTRKKCoptMgZQuH7FEPUC1SZR2w5Z5sSx4RqcmtOZvLNlCgs7dT16H6Jfsc6RP+vbS9QjTCUSVH78q7JdWiZrWCyaDQT7n3+cYE/7rO3YRCygaNkmYNhQWCpVW+Eu1trzsC5twla/Nl0XMTsuKAsIBfAvvnLzeYWvLABeUFt+QZ/MJQ2AYmeE+vf9739fFoJevnw5P/zhD9myZcucNu1SA8AX/xzkoYe81FRrpHI1eYgvx7a2GBUVWv7xHx0YDOk5k+MJBQx6PQlaW2MIqNTpFJYs0ZGXPzErdk6bcJ4mzaQGCsC7738NMzgYZ/ES4UY9Hef3+rYgrS0R2QXEZFKkWxxVGgJTKQv9PXGZCGIyi44lAlwMnDgexedJUlAapWpxivYWC9FoEpt9IgS6h6G6xkpOrhadXsXNX/GTX6pQbFwpjz+bCvij/70Xd5sRXVk6gSlfnychcLwK2B/0oHMb8ERG+es7cjhxcDcVGOhKRknU1pJYVI3+6T9QcLKD4fx8FNWptmyiPMypDOEilcJQZyfJq28k2bhqqiv42V/BoZ1Yc+0E/GFs+Q68mMBkpbgwh4EBDym/B5OnF60jD69wDesNOOwWkpEgHl8MVWktTZ/4FBpzWtk4tLtjCgQGO47R+9tfyNi+wWMdJN0D6AlDIu2TFvF0GptD9gqO+93kNF1GwdW3yOfOVC9QdMDofPQ+mfghiiTPNuI+D8lEjMq7vjrFVTweBsUxxgNhzzP/RdQ1MKN6KeGvp51QX4fsimJtXIfO5pCwKTp4iHqIok5f4bW3oTmVJHOe3ibZw87TAlkAnKfBstPPqwUueQBciHUvJQAUWaz/8i8j9Dvj1AiwmWFEIina22PcfbeddeumZigODr/FCy/oefstDa4hFYo6T6pPDoeadesN3HSzWSZQXChjshr48gt+Hn/Yy7IG7ZQOIyePR9mzKyzduF5vUnb9sFlVRBNh2REkHNKRm69Cq1MkHK+7zMSO10WRXQiHUxjMYUoqUvScNMusYbNFJXsOizE0FISknlUbLdz+iXypBnYGmscAMAOB06mA3/nmboK+JLWVRQyGR8cAUKwZD4HtAyOEfSm2fK0EvSWdWCDbxAnXbWc/ZU/+HpeoZ2NMJ16IsjClNht9blE4Or1jqv4+UgVFJG79xGlXcCKBetufUb34lGw5Jy5Yk4yRiMZQa7UkzA6oXkZxTSVOpxucnZRfeZWEvK59R2QGbEXDUix1y2kbSitdTSsrJtwi40Ew3NdF71MPkkomCPd1EvIFUXRGzPY0NIoMYtE7WNFqZc3Aous/Qu7GayccbzYQ7Hv2MYJdbRhLZvcShAd7pUu27I7Pz1o7bzIM5nv34W87POPxhds60JmuQSgUzpzGtai0p3tdi+sT7mHxeME1t57Xgs0Xyvv0YjmPLABeLDt1aZxnFgAXsM+XEgCeOBHjO/cOU1oyvfo33oxHmiPc+EEzn/jExCQIvz/Jz37mYffuMHl5agoL1STplXFzLpfCkCufxkYdf/MlO7l5Fx4E6rQb+e49LlniRcT5TR7BYJI3tgVlAWgREyhIR8YDKtDR5ZO1AO12q0waaViup7xKx+tb/TK5Q69XcA0lKF8UpqysgM6TEYaH0jGBAgFD0QjC43jPv9ezdEUawAQAipFRAaeDQOEGfvC77RzvGmTJomIJgGJMpwKe7BsmR7HQ8AUbm6sXsXOgm3X5Vex0dqN9ZQe6l14lWZVOEhnfIUT8nAFCImFUw8Ms/drfcSSmZU11KQee+CX23a/hbzuGWgUJ0RpFESqoCpIJlESMlM4Iixoprq/HeaQZpWY5az7/1/K4k9vFHdrXKR+fCQKXryil65H7cO/dgdoo3L1p8Av40i5gsyUNS6LVmZBrq7/wD9hO1TWcvKcZEBSPZ1zDvmMHZYax6E2s0k7/y5BQ44RCV3jtreSs2DDnTxkBgwnnceIH/4xiK5RqZWGZY2y9UCB9rfsRPXsF4BoKSqXaN3nE/V5Eokj57Z8dK6sz55PITjxvFnhHAXDXLDGA67MxgOdtky+iA2cBcAGbdSkBYHNzlO/96wiLa7VTyptMNuGxY1E2bTLwxS9O7Hbxm9/4+O1v/SxZoh1zD2fWxhI9IteAY8c0XH1tKZ//64lrF7BN52SpUAJFCNm9365BpaTILzjlAp109ONtUVqOREglUxhNKq55v5m+njj79oYxWUMEvCZy89Ws2WCS6t6brwakW1gkfghojCWDrL9SFIMuka5hAZWieN3QQJy6DT6+9ven4/6Ecrq77QhDzZV0toVIJFLgGGbzZcuoXmriZChdCqb9pXx+92Q7pUvV5OkLZlQB4z1adDVJvvj/rGe3q5tMn2ChAur++DLa7bspXr58rCzMGPSJH4QamGOjf8RD7vAgQ+//EErlEpShATS/fRw8o2g7jpFIKWjNJmKxBDqthlgsLvv2quIRkjoz1DZiN6rx5C1GfdkHWdlYflYQ6Gj9I65XnkWbVzghCzgDgcKNqk+GZJ/j8o9+gdz1V896n4wHwfoVJTiff4Jg93EMJdWoNBPvhYzyqC8qo+TmT6AxW+d1D4qEjt5nHiIy0I03IWIVT4dbOGyKrA+YBmgFy5JGtNbTgJh5IXFviFjIgi03Yl95uszVvE4kO/mcWyALgOfcpNkDLsACWQBcgPEuJQAUbt3v3DtCYYEai2X2VlBHjkS55UNm7vzL0198Hk+Cb98zQjyWoqRkengSWzEw1EsopPCNbwQpr567crKAbZzzUpdvF/d+q4ZEPEVR8fTXkEzBibYoRw4KVzCsW6+XyTE9XXHMtiiOvBSrVhdiPtUFpP14hMMHwjKZRBQpFhnCKzaGKC0uHTsvkTnc1R7lps95aVynkG9cLZXBl34/yosvdhLwgsPqEEzAsNeDWgtNTWXc8okiBnXtGIYX8fC/deBXvFSXpt3AYoxXATuHR1CG9Sy+w8jNVzeya6iLtXlVYyrgvieeoOjNPbhKi6btEzzmCo7GUQ30E7v1L0lV1qB54zXUb29D8Xqht0O6LIUUqtWk4W8MAqMR1FoNCWs+2BzUfvSTdOrTGb5ngkAxZ7waKNS3nfd+m9RAOwYiqHVaGYMnegsLMBKZxGG3B4xWMDsoqqul/M6vzMlVmgHBVMBNrmuPjMVTdIaxgs+JoA9Rg9BQVCFLtOgLJhb0nuvNJnrxDr70W5mlrM3JRWO1S+V14HAzSecx0JtR5Zaj5BRSVJY77WGDve3krt1C3mXvm+vLZuedZwtkAfA8Gzh7+HlZIAuA8zLXxMmXEgAKdUkogCeOx1m8eOYYQKFY9fTG+frXHTStOB2XtHNnmB/9h5u6JbMriOILWqiNH/+rPq65JnbBlZP5z/97kF07ilhaP3vxXVESpqxcQ2m5lr27QvT1xlm1xoDZMYRBn1a1xBDq367tQXy+BHaHCvdokhUbQojybwZNqQTmE8fC1DUY+Ov/UcRw6gh5hlX88ekRXn7WLbOCVbZRrLrT5U6c7iE8PRbqmsysuSvIssJGXnvOxe9/e5JCh4PcQh2uqFsCYH9oBEPQysnuUWrWm2i6PQ+1VjXWKi6jAirN7eifeJpkURFluflSBZzQJ1hcjCgW7RoCvZHYnZ9G0RiofPEZBg4dwuR2EfL60ERCJAShyrYcaRtICAxHpDtYYzQSL6xG+ehXWb2ucUK7ODF3sjtYPnbKJbyiqZyOTh9HDvSReukBgsE42lSEPLUXkyqCXpdOvlF0ottIoawR6OoakDGJ2ms+xYr1tfP6NDj02iGSAydI9rRgN6X94BpLDtb6VVhqG8+6C0jmJKIjQ3gO7cR/4ojMYhbvjVQsSsTVj3lRI7q8Aoa6R6acc8ZlHOw5KeEvd91V87qu7OTzZ4EsAJ4/22aPPH8LZAFw/jYbW3EpAaC46NdeC/HAAx5KStTkjKtVlzGIiH1rOSpqzen4xjccE1zF27aFuP9+Nw0Np6FwJtM3t0S48y9tXHvdITnlQiohs2P3Xh74v2VYpYKXkvGLIn4vx6GWsX5ieNzp4tBf+3oe9Y16XviDn1895qGhUUc44USrOQ2AYv7ocJyD+0JyjTjGxitMqAwjhLx5BANJFi8zcOfn8ikq0dIbPER0qIEf/2sfBqOK3AKtLA5t0RaNmXM06sKYyqfreIhbP1WMY90QFYZ63nppmD89307Ka8KfCmLTWonHkkQMYTZdXoltS4y1JYvZ4+pklaNmggq41lbKoX/9PgXDHoYK8lBSp1TgcfF/JQYDA80tVH34DtoWNcg2cQfv/Q52Vz++jk5MDgfBvl60qQRxkUU8DgJF05REKAwaDYU3fRjXutvk9UzuGTwTBB7c20Frm5fu/jjRUJQV/U+jUSWJ6XJwjwTQxgMU5+spL7eis+WMtVATxZRVBhPe+tPJEjP1FJ7pfj20oxWiIr4wBVoDKzYuWcCnytSlopxMbGRItoETNhva+rv0S03TD1h0IhEjFY+CfxjNqg+iKqiatezMOT3Z7MFmtUAWALM3yIVkgSwALmA3LjUAjMdTPP64D1EOxmxSKC7WSPgRysTwSJK+vnSG8Je+lENV1USV8K23wvzHf7pZtnT2biFpBTDGpz9j4/rrTGMlZC4UCGxt382/fdfI2zssEtaER1OrVeHIVVFZpZVQNjSQ4H03mPnYx22yUHNfb4wf3DuM0ahgzBmUd9xkCBSgt/ftIGoNVFRpiaTclBQVsf4KC6vXm2VZGDEEAL76+yRvPGdnSYNBui0FAIqRgUABgGL4emwUlevY8uUItTmN8rFdna3Ejxex73g3gieWlpcTrfZwed0y9o120mRfJAFQjFg8/ZoZFZC2HgxPPwu+AEWLanFGY2kV0O2hOAVDHe0kapYQu+lWVLp0oor22WdQ7XkL1ego2HIgEgXPCNpknHgihUarIS7iAONC7dWSzCmA6z7K6o99lAOHumeEwMkgeKzNze+fO0nAF8Rm1bIkuA9z/36iOelsYY8nRCiUID9XR1NTMX1eLU6fGv/AEHn19TS+/0rKS800724f+0SYLwiKheNjBcX/Z6speLYfPaJF3Oju1zGWVY+1iBt/LPEeCju70BeUUvbhz9K88/Q1jZ83l6LUZ3uO2XXTW+AdBcC335i5EPTGK85rLcLs/l8cFsgC4AL26VIDQGEqAYFbXwnx6itBunviwmuH6HFrz1GzerWeG280U1Y2NT5O1M+755+GZUZrUdHMMYBudwKPN8n/9w+5YxCZqSP4bkNgT0+cB37qprlliFDIJt21oiev/MINp9XARYt1fPQuG7feYUWvT6tk4vknHvHw8gsBqmq0qPQDEwBQPC8SRcS/f/X5XEordLjCh6koXiuLRgtl1TUYJxZNJ5b89CdHGO7Jpbz6tJo6nQqoCuXi98S5/n8kWVmd7hIyvj3cYc8JRI/g/e40IDTaFrN3pGMMAiergCIjePeON6nesY+BY8cgGk+reCL5xGwmsaiW2NXXoBjS2d+iG0ijd5jj//FDVMI1bDRLhY9EEiIh9PEo0VAErVZNLBKDkkpyCvLwrr0BZVEDq5aVT4BAccyDp6BwfFygsM+xtgjt7R6p8Imi0cZgPxVdL6C32kjo0+cTiSToGwW3vhR3zIBaSaGIZJCSKow2CxXlFt5/VRn5ecaxvsIS4tacuSj8dB8j5wsGRfay80+/IdwvIK9kQo3BZDxG1OVEpTdQdN0dmCoXT/sJN7n0TGZSFgoX8IUwh6VZAJyDkbJT3jELZAFwAaa+FAEwY65wOMnR1phsg6bRiHInGkpmSIzIrHnsMS/PPhdg2VKdLP48eYg4w+aWKJdfbuRrX82ZEJQvIPDdBECRdPHvPxil+Ygo2OxCpy3F70vh7I/h86WD2YSLzmhU87dfz2PV2ok1EEVs5BMPe9i5I0ScUYqKi0QTDULBlOwfLFzqt33MzuVbzPJYA6H9mNVr2b8zwM43/XR3RGXyicgc7ugaxWSwydZwEsCEwjWNG1gTycM9EuP6uxM4itVjnUHEfNEjOAOA4v8CAucCgKIkzFqthQNvvMGicIKOQIAlFZUctVhZt3I1u7t7WV9Wzu7OXtZXlLGntZ3Kl55j8MU/YdDpiOhNWIx6/MF0UWpFZM0E/RgtZkJmBylbLk1f/weOtKddmXOBwG2vtPHSy05MJjVVlacSIkSyx8Gt5Lv2obNYiBscuOMGdvbnSjjKVXnQEkPJr6C4sZ5wJMHAYIiiQiO331RDXu7p/cv0F76QYDDqduF67Y+EettJiVYxao0sCyMUYV1+MXmbrsNcXTevT7eZoFBe94bTnVLmddDs5AkWuJgBUDRN+MEPfiCbJjQ2NnLfffdx5ZVXTrvDr776Ktdcc82U51paWli2LN2fPDvefQtkAXABe3ApA+DZmG10NMGPf+zh0OGIzATOy02XshDKl9udTh6prdXy1a/Yp2QKv9sAeOhghPv+bZTySg0qrRONumxaE7S1Rlm5xsCX/tYxJatUFHfeuzvEK9uO4+wuJpFMSZVw9XojazeaWLT4tKLXNbqfl56slvAnQDGvQCvVQAHeb+8Yxj+qpWm9mUV1BgmB0wFgdNguW819+VvV9KROTOgPnAFAcREZFXAyAEoAGxcLuHvPTmpPDNC9Ywf5Ki2ucIhkfgGJphUkliwDgwEl3WwDJZ4GU6ECKsMutI8/hLr5IHqTSUKg2agn4AsgausoWj2pgmIcVhOjDZth+XpW15VzsPmUC/gMSuDx426efLINvS4NQEWFOemTSCYxOw+gnNiJNuLhQGwZ/SErJeYQOQU5MgnEkzCPQXRBoY2Obh9rmvK56fqpqp8AQXGvCs1blGY5W2VQnNq5UAdluZn+blmOJhH0yx7A4ppMFYvPaT/grFp4Np9206+5WAEw0zZVQODmzZv52c9+xoMPPkhzczOVlVP7cWcAsLW1FZvtdD3YgoIC1OIDLTsuCAtkAXAB25AFwPkbb2QkIWsB7tkbkckSikqRsWgWq8KK5Xo+8hHLtGVi3m0AfPxRLy++EKS+QUck3jcjAIpr8vmSfONbBRTPUO7GFdxDLLhOZviKtnCWUyVhxlvz4ccP8MYfcmWxaLNl4gdme88AB7frJNw1rTNTWqmfAoAjkSGG2ixc86F8rr+jgGO+Y1MAUILIODewAEAxpnMD17ePcOKxX+GIJBg26CjOK8Tp9ZAfiTHi9VCybgMnL7+cDUuWsqurZ6IK2N7LSquR5vvvR73zDZRgSLqCDWYzYZ0RW44Nr0pPasV6Vn3sLzlwLN3jdyYIlGBaXz7mDu7vC7J/j4eyMguuIe+YGTMgqMTCDDY3c6xPVKGOUV7loHJZJSoRwHlqDPS55U+BYBxbjolPfqyOXEdaBRTQFx3ql905AidaZCeRUY9oS1eH4ihlUbVVtmTLAJgoOTOfMRkGxdrzETs4n3Oay9wsGM7FShPnvJMA+OCON2eMAfz8ps3zigHcuHEja9as4Sc/+cnYBdXX16brMNoAACAASURBVHPbbbfxve99b4ohMgA4OjqK3X5h1XSd/669d1dkAXABe5sFwLM3Xn9/XLp7w6G0W3NpnZaKCs20tdguhBjA//OjUQ4ciFJenU64mEkBFK3werpj/P0386ldMn2pmJHwHsz6y2Y03uhInH/6n83oNQUUFE0tueMOD9C610LXiQjFFVo2brHhi7vGkkAEsLQcG8RoVfGlv1tBcYVhTgAoTmg6N/DuXdvRPfY7UvEEyeJCUmMZwGmVTwnFUPX2kFixkuiHbkFJpB+f4Apu75VZwXtffYOqnhP07dknlbeCgjyGcoqpv/oqWmJG+diaxWXsb+mZFgLFg+OTQ8T/33q7nRf/1Et+rhnHKWgbcHrk+gwE9vUHEEphJBKlqtyCPUdLUfEppXDcTgjbHTo4wBXr86iuMLO8qRz3ntcZ3f2aLMWiNltRqTXEQwEizm6S0SgRxYBisMhzz6+uwLpsFTmrLh/LNJ7vu+RcqIPzfc1zOT/rSp7ZmhcSAHZ3d09Q5/R6PeLv5BGNRjGZTDz55JPcfvvtY0/ffffd7N+/n23bts0IgNXV1YTDYRoaGvjHf/zHad3C5/Leyx5rfhbIAuD87DVhdhYAF2C8eSx9t9U/caoP3u/hzTdCVC92TYA/4REUCS79vXFcrvippBD42tdzue4Gi1T4Jo8zAeAbr/h58P6TNDSWTOk3LI7ljQ1AtJD9bwdw9kZpWGkkpzyAVVdAwJfAPRzHUaBl/UeCbNm4Ur78mRRAMWe6OEDxeOXzu+l5ZRtFjSvoC3opNdnp9XsoM+fQ6/NSZrHR1+ekIJGg79ZbWbduwwQVUBxDuILFEBC452Qva0oL2N/SLlKoUanSXzpra8vY19orf54vBD700H5ajrgpLDJQOg7sMiAYi6k5enQUh0PPyqZ8RsYrhZNAsLPLx00fqEIV8ZNoP0DiwFbySgvR2PPkLyiiU0fg+BEioy7ZSk5tNGFZ2iQ7fgy2dZAKB1CVLKHp059DbTDO406ffurFDoSZq5oNDMWcSyHO8EICwMl327e//W3uueeeKTdhX18fZWVlvPnmm1x++eVjz3/3u9/l4YcfRrh5Jw/x2GuvvcbatWuJRCI8+uij/PSnP0Uog1u2bFnweyJ7gHNjgSwALsCOWQBcgPHmuPRCUP/Eqb7+WogHf+amsnYYgz4d/ycyokVSSHdnTP5sMCiynZtIilm8VMeSOj2f/GwO5RWnVbwzwZ847h+e8fDkb7poXD59FwkBgCZtCZFIkn07/OQXafBHvRjUdux5WlZdZmX1Jivh3HbKTens3/kCoFgjS8IcO0jhA88ylBRxm5X0BjxTAFDMVRKg6ugkfsUVxK66ig2l5dO6guXcDAxWl7H3eC9ra8rY15YGv9kgUDw/XVygeLyyKJ///u1x2tpc5OXpKS897Xbq73PT2xtkYDDM2tVFFBenE23EEBnDmSEUwXg8SV9/kDtuW0RtuZ6ex/8vru4BFFGe5tSwBPsIO3vQWHNkS7aEz402txBL3YpTgBiWsXmBgiY09ekvzJniBVOJOKHeDgInW4iL3sQaLcbSKsw1y2QHkOnGewUIx1/bpaIaXkgAOFcFMAOA27dvZ9Om020F7733Xgl2R48endOn+S233CLfH7///e/nND876fxbIAuAC7BxFgAXYLw5LL1Q4E+cqteb5NvfbsbvK6S6RiubWBw5GOHE8ShWq0rCn8gUFsksTav0EvpEX+CaRTq+dHcueXnpOL65AOCfnvXy6yc6aVwxOwCODsc48HaAolIdEXwYNDkUFOvYcJWNNZtzcGnapgVAcR6ZcjAiBlCM8Ykg4v+ZOMC9u7eT99AfGM41U2IrkAAoxnQqoLP5KGUbN3J8HACKuZmEEJkVfMoVLFRAMdYtEALFMTIu4ZLcXP78QgfNzUNyfwSI51iNxGIiO1tDb4+HHJsWi1V7OlHk1H2YAUG3J0ZZeQ6fumspsfbDOJ/7pQQy5VS/34GOfhIdh0GlxuJIB7cLRVDEAFob1oz1/RVdPBS1hoq7vozaZJlQViYDhDHPCEOv/F727E0m4qi0etkNJRmLSbi0r71S9vFVVLO3XnwvAuFc4VDa8iLKUH4nAfDnb8wcA/i5K+YeA3g2LuDpPt4FMD722GOITODsuDAskAXABexDFgAXYLwzLL2Q4E+cqie8iz07Nfzm8TKZvGG1qdn1dkiWszEYkHUARTmY0jINq9caZMauUAWPHY3yF3fZ+ODN6b7IcwHAg3tD/Ojf21hUWzxWS3C8uYQC6B3I4+Auv2wlt3azFX2uB6O6QLp/xV+rXUPxCj/luRVSFdQsGqCpKq0GjgdA8fNsiSB7975F3i+eZ9huBL2OEqN9WhVQuIGdR5qJL19O7Kab5WvMpgJmXMEZABTz56ME7j/cJSvgrK5PF3rOQGDj4hI62r20HXPTdnxIQmBxiYnr37eYnTud8q9GnZDFu8UYyxgWbflCcQYGg9RW6mlclkOieTuW7j2Yqk7X0osM9OI/3ozW5iDgT5eyEXGDhlQIS10TOtHDTzyWSBDq66Dk5o9LZXAC0Ihs4nCA+J7nSbq6KVi6BLX+tKtYlBOKjbpIhsPkXnEDjtWb5/VGu1iTSuZ1kacmX2xu5YsRAIWpRRKIcOeKLODMEHF9t95667RJINPt5Uc+8hFGRkbYunXr2Wx1ds15sEAWABdg1IsRADP1+4SrUkBKdbWGwsKZCzMvwDxnvfRCgz9xIQIADfrL2LMzxHPP+Nn5VpDenjhWm0q25dIbFEpKNdQ36GVSS2aIhBBbjppvfjufkLJPPjxbAoh4Xrh2v/NPhxkdyKO6dmpQds/gAC27DbhHEiyuN7BirUVmAZs1RfR2hGk/FmJ4IIbOEqd2qUMW305ZAlx5VQ1X3OAg3tHFsb07yI/noDYZ6C/VsmzdtRwM9sgkEDHGMoG7jlL84PMkgyGGcgwzAqAouZLvHGLgmqtY86Hb2NXdMwaA4niTE0LEY/OFQI87wot/bqP7pB+LzoDbG6C00sz119RSXGqW7qXJCSLidTLFo+sWFfOHP7TT2jqKyaQhFo3ITi0C1DUaPZFwgqYVedxwXaUsTr3/8V+SOPwGqsLKsYSRcG8ngY5jE9yzfm8IQl5UZUtRbHljc0PdJyi87g5sK9ZPeS+M7tqGa9vz+BT7lG4ehSXp5JToyKBUGss/+jdorWefSXkpAeFkQ19ogHixAmCmDIyI4xNu4Pvvv58HHniAI0eOUFVVxTe/+U16e3t55JFH5BaIGoEiAUTUCxQKolD+/vVf/5Wnn36aD3/4w2f93ZBdeG4tkAXABdjzYgJA4Z58eWuQV18N0dsbl10rRAKDw6Fi3VoDN95omrVDxwLMNK+lFyr8iYsQACiGgOhvfWOQ1pYoeXkq9AaVhGhRykZAiBiitZso/hwKpaRKd8/3CjHkHTwj/GWM9fKbB3ju0QLZBUR0BhGgkhm7dg/QfkRLQYmGVRstWHM0EgCHO20cbw7JdnLinNzeEGsvK5AJIR39LrR9YdZp9lNmcuMNe7Aa7DKz15sMkV+7FNcNK1BqyyZkAovX3PfLX+J4eS8j5fmUWPLGFEDxXCYZpK+9nUKzle6P3sH6ZY0SAMWYrAJKGJzFFSyen04JdHYF6D0cZMQVJhiNotWpcJiN+P0xwtEIS5fbufOjK2TSTAYCxbFEuZjMECAYjSaJumMc2ueUpVySioZgNIndrmNRjYVbb64fUwe9h3cz+Pyv8WocKKq0Cz814kQ72oU2xyGc2/IxURYmFQ1jbVzLsDfdHFnWC3R1U3fXZ2VW8PiRjIbp+dVPifu9spPH+DHYOzr2X6EEWuMjFF57KzkrZ84an9cbbJoahGL9xVB2Zr7XOZf57zQgXqwAKGwp1L/vf//7shD08uXL+eEPfziW0PHpT3+ajo4OmeQhhpgnIFFAodFolCAoIPHGG2+cy7Zk57xDFsgC4AIMfbEAoIC/Rx/18dLLQSwWheKidA9fARfDw0mcA3GWLNbJHr6lpe+OGnghgp+4NYTyJ0YG/jK3y30/GOZEW5Sq6ollWtyjCTo7Yjj744jCz6J7h+h89vFP5bDlxk6W1m084x0nuoCIcWJ/Pc8/NcqgUPO0Chqtgt+f5MghLzk2g0z0sOem96tveJCjb+ulWzRTN3Bg0E9ljZ36VRa8ruMU795F0uWianMNSkmMXF2+XDvgGcTiDKHJtTP6sctZ3nTlmAIont/TdojSp17DebSVwrplqPS6025gn5uiUIyhwUGqP/IXWK65il29vWwoKZ+XCiheZyZ3cInOxi9+doBoJEF9XYGEPKcrXe+vONeKUAZ7ejys3JDHx+447eaerAZGh5wcee6P0NVKNBAirrOT0pqwVlVRe+VaOjyny/Y0La8gHvDR+9j/kTF5uvyitK3ae0mKGECNDos97dYXyRtaRz6WZSvHfgEQ8X3DTjfaq+5EMacVvRWr0gVzI4N99Pz6p2gdBWcsFeM8dETWG9Su+YBcu5Di07PdeJeySjirXbYfO+P7dT4xiBczAJ7RENkJF50FsgC4gC27WABw6ytBfvELL2WlGmzCZTlpiBZsLUejrF6l5+//3jFt6ZEFmGnWpRnwE5PezVZv/3975wHlVnXt/b+mSdP7eIqnedwN7jaYZhxDIJBCCcTEmPKAjyR8SV5IvuQl4QV4vJCEkpD3eI9mElrohJpAIGAwBhKPje1xL9N77yojaeZb+8hXc6VRudK90kiafdby8kj3nHPP/Z+rq5/2PnsfT4P0Bn9U98VnB/G3v46KxNBS6eywoWavRVj+UlNpbaBOJIW224GiUiNKywqw+V9ysHCJ6zZx8nOT+/dIUw1SE05FWkY8aP3/wb0mHNlvgsk0jsGxThzaBcxfmC8sf1LZf7ATLUeTkJOfAN1Jy1RP3yhyc9Kw4owMxO18A1ltLejWFSC/2ICCU23I0TsAsMvcj9ykHJiP1mOwKg+n/uhW7BloElHAVHb3NGKJOQWH/vAEctv6RYBFH+zITUxGb38fcgsKkXruOTi8cA7WFle4ACC192UFpONyVzC9liKDxd/HWlD9906MtFJgBKXa06EoxxF8IUFgUW4GerqMGB41YeNXZsNgiBdbyFGRIHCiuxV5hz/CWFcHErJz0WsiA54OMI8iS2cW+f3yvniJgLj9e5ucupaOnkDv9reRmJXniPqdmMDI0RqM9XSK/H8Yo46A/GUrBQRSEZG9zXXIXHkmCs535E3bv6vB2ed4XzvSDrwltmyLS/ScK1KqTNHEKXMWiLWE8i3ppOMMhKF6Minr158F0TlPJwNVwgqAH/kIAlmvPAhEmRJcKxoVYABUMWvRAIBk/fvlL/vQ3GzDnDlTkwpLl0+WJbIE/uTHOVi40PeXkgrJXJpGqtWPBukL/uj48WNjeOCeXuTlxYt1gKOj4/jHJwRpE8jOdriChRewx44FC5NQNq8PzfX5yC9IwHd/nI+cXFdL6/CQHdWfGfHZx6Nobu9Goi4HhuQ4nLoiGavPTEMVbflGQFNXg2fuzUZGNrmcJ3cI2b6tA9ZRgxMKTXYjLEN6ZOcmYOUSOwzbX0CCPhMmJIOAv3IdUJDuSG1CAJinz4V9xIiutmYs+NH3cCh7wgUAaUu4ccsY9vzjY1Q09KKpsQHFmXloysuEbdF8rFmyHDvbW7B2VqkAQCr+rIBUR4oKFn/XtQorIBUJAnu7Tfjf+3chUR+HqpP7/Lb3DE2BwHH7BGyjOlx8yRyMJ5pFHxIE2kdHUPP7+4H+LqBgNgoLJtfTdXYOOty1/Z3IK8hB0ZU3IKlg0i1bs7se4wd2YPzYbmSmJgoIJJev8cRh2EYGkZCWAUtWGeKyKUH2hADKDJ0RhtkVKPzyN0+6il0/MdbBftQ88GuR8kWX4oBZT0mp6X1T0wlkrVmPvHOmus7cgTBUMCiNnq2EwT355JBoHjPh9j/834B24Qj0rNL30uMMgIFKN+PqMwCqmPJoAMDjx8dw96/6UFyUgJQU3+kkaI/eK65Iw+WXOVxboSqRbPVTAn9Uh9znf3hkAJ9sN6KyKhFtLVYc2D+G/Hxpf2OAtr2jRNBL1wwjLW0C8XElOHbIgk3XZWPD+ZMa9/Xa8PTWPhyqMSOVUspk9iFFX4jR4XH09lgF6F16VQ7WnpWGxsEavPDALJEAurRyMkBk23sdmLAmO6HQaBuFsS8Jc5ekYkFyM5Kq/wrkzxFuaevYOCpOBwpP5raTAJCuq72mBpXXbEbGhnVTtoSj49XdTViVW46dnc1YnefYL3dnRzPWFpQ6AVDUk7mBBQzK8gLS612Nrc61gPRasgKKv2UQmGVJwavPHENCBu2/q0PxSesfQSAVuTWwq9WIiy6eh7M3TO4jTHWqzO3ofvN5GEor0NljFO0K8yf3J6XXHR0D0HU0AkvPwsrN33S59SfGx1Hz7g5MNB/FeHsdcrNSRJTvuNUidgJxLPvUCesgxYPoCisQf+rZ0KVmYekyR5Sye+l65yUM7d+F5LIqSNvQSXUkGLSbjLAO9KL4suuRPLvS78cxEoCQBjlT1xP6nSBaG2waxRU3X8gAqEQsrhNyBRgAVUgcDQC4d58F997Tj0WLEj1usya/fHIDn39eCq691vXLUYVELk0jHfxosP4sf/ILIqvdn54cxK6dJhw5NCYOkTVwzDIh/tHfS1cYkJrVhcQEh0uyqWEMRcWJ+H+/KBDzQda4R/+rB3t2mVA1Xw+rrhOGhGLnaciqRHBJkHHj9wpgKD2OY59V4aUnulFeRRHHDqj/dEcHRnr1yMpxWHn7h0aRoDNg1VlZyO49hqTdfwMK5sA0YhP7L1esm0B+qqsFkNq179+PiquuROb5k+sAyQVMFkAq/gCQ6khWQLIAijZeIoLpmBQQQn+7QyBZAdvrRnBk2wBKK9PR0Tcs+vMGgTU1HVi0PAfXbHbsfkKFEkdPvPsiska7YJjtANaOzsn9guUgSG7d/mEb4i6+HrqERCxbMhlA4uyv+gRgtwHkuo2Lx4I8Hcwt9SIPoC5Jj+TSKiTlF4q53b+n0eX+l8MguYjbX3+GHMbCFSwFD0kwSP2hrw3Fa9ai8Mub/eYCdDkRBXrsrHN/K2TrB+UnYivhFNld3mAA9K0PHw2vAgyAKvSOBgA8fHgMv/51H8rLE0Xgh69y4OAYLr00FVdeoa0FMBrAj3QJBP4kHWnNXvU/TPjl7T3CDUwa6/VxmF2WIHIC6pI6nfBHbbq7bIjTAbf/pkik4Tl22IwH7+tGQWEiUtPiMGrtcAFAakMQePyIBWecm4ZzNrUjxb4Uf3qkCwf3GFFSkQRbUh+G2rJw8PMRZObEw2KawIjJjPmLs1ExPwVJ7fXQ/+N1IKcU/f0TKJubgoy5FmcQiGQBnLCPo+PQQVTddD3S1q30aQGkcUlWQMkCKN7z4QYWMNjUIlLCUJGsgPS3uyuY3iNL4LZ/1OHjP7egrDATqelJaO91wJs7BM7KSkdzwxDmrcjAnIWOHzAr5p9cB/jLXwBmE5CVi8K8yR837iBIUbnjJiNm3/ADHGqYhERPIEj9y9cKUtCIr+IJBocO7BapYOzGUZFWhraUmxi3wzbYD7L+pc5ZgJ5Zp0GXMvl5lAJJAn1sTRcQ0jgZCidnK5wA+Idt3tcA/ssGXgMY6GcoFuszAKqY1WgAQAocuPPOPvQP2FEm25LM/bKpXlOTDT+4NVsEg6gtWkNfd7cNzU02EVBBgSxVcxNFkl+tSjDwJ52b3Kq/+EknLJYJ5OUnCLCj4A2TrV1Ukax/9HdHuxUGQxxu/3WhCLZ5+U/9+Pvbw1iwxCDgj4rcAiido6/HhgFTL/7trmUi8new34ZXn+nBkRoj+kcHkZqUiWMHjTCNjiM7LwG55VYsWOA4h85qgX7bs8CQHdbUHJSsmEBKVtwUALR29aJ3bBiL//3fkJCVoQoABex5cQPTMSkvoPj7ZFoYAX1ljjWA0npAgt+H/3s32mpHcOoSh9XUEwQOD4yhIDsNV9+4BGnpSdh72JGGhiCwbesDsPX3oj/OsQUcQSC5cG3Dg5iw2dA3YAKS0wCzEbkZesy+8Vaxe4dUpDyC9FprGBzvbkHxeDtGaw9h3GIRgSlJOfliV5H0RctcxiEPJKGxBAuDAsqmyULoDQjp/ZngOmYA1OqJzf1ooQADoAoVowEA6fLeemsEf3p2GHOrEgV8uBf6kj161Io5VYm47ec5AmCCLVqDX3u7De/9zYjdu8ximzVaZ0W7b9B2bOs3pOCMMw2qopbVgJ9coye29mPHRyYsXDQZQEMAKIc/qn/0oBnnfjENm65x7PP68APdOHzQgoo5SR6tf9I5LOZx1DZ144f/fopz7R+tQ2w4bsZH/zgO20ARBvtsqD1sFBbDtCIjigtmCdfx6JAdI7s+RlXXQRQtn42Eygkn/FH/ZAHMtqfA0tCKoXOXYOnma8VpncmgPbiA6bjSdYBUV3IDi799WAHpuLsruKl2EE8+VgMK9Fg0L28KBI4MjaGuoR9L1uRi8zcmd92QILCipQYD29+DoXIeLd5E19FjQG8n9BNWsfUa7ecbn5wMo8kGLF4D3cYrsWLxVIteoCBI1+LPMljzeQMGh6zoaR/AuMWMefNnoWpRCdIyJ3cG8fZZjBUgnElQyAAY7DcLtwuFAgyAKlSNFgAk1+TDjwyieqcFhUXxyM2Jc0LTyOi4sKxRNOu3vpUZdASw1uBH09LUaMWjDw+iod6KWUUJIukyWbQozUpHu12sn7v4K6m45NK0oCBQK/ijsR7cb8GDv3NEBWdmxXu0/lGOwMF+O275YR7mLXRE9T7+Pz3Yu9uEOfP0PgGQkkk3tnbjh7efgpIyVwtt4+ghFCY71r21NZnx1ttHcGKfHROj6SJlS3JqPDLKBnGGrRUJJw5gGCbklFSKfH7jY1Z0tzYizaZH+tqlaP/KcpxSsFgVAFJjb+sAJQCk/92tgPSeN1fwkZpevPL8YRiHbZg9Kx16QwI6eofFmsaC7FQsX1OA9LJ4xMXrsHKuw4pIRUBgTzt0f30eOTkZsPV0YayzFRYbbd+SLNbxpRgSYR8ZhH1kGJmnn4u+dV+HzpAi2ssTSUt9KgFBqit3EXuCwZ4eEz75rB11DYMwGW0YGqQAFR3SUhNQUZaKK7++GHr9ZKS3r0eVOwxS3Wi1EErX6cl1TMei2VLIAKjiC5ebaq4AA6AKSaMFAOkSKR/dyy+PoHqXGf39dmeaEtrHlpJAX355GhYsCCz9SyigT5oOSl9z72/6cPSIFfMXJLrshCHV6e21Y6BvHDd/JxOr13jPredpirWEP+qfYPTFZ4fw97+NIi8vDilZ3dAnOdagiYTb3Xb099px3kXpuPQbmU5g3fbuMJ5/sh8l8waE29iT+5f6OFbXicwc4Md3rBC7fEiF4I+KBID0d93IYaSMzEdPx5hIRdOb1IxV808Ru34MfrYPJ7Z9gJQOKyasVgxOmJFXPhcZ61Ygfd0K1Jjbpm4HF4AFkM4vrQOkvyU3sPj7ZDCI+FuBFZDqkSuYCq0H7Ok04t2/n0DL8RFk6g2Ij49DXPo4Zs9NxwXnzHVquueoo40EgmQR3ffs88C216AfHURCdh7ikhz3+uioGRizQD9hQ2J+IeL1emScdg7yLrrc644ikvZyEKT3vLmH6Zg7DBYW5OKNt+rQ2WVCbq4BaWmOIC27fRwDA2MYHh5DTqYOp63ORWKCY769RRR7ur+1tA5S/9PpMpZfX7SvJwwnAP7x/U+Qkjq5lEHS0Tg6gus38hpAT5+bmfYeA6CKGY8mAJQuk3L9HTgwhsm9gBOxwAtgeZJGDn10PFTJm/ftteD3v+tHWXmCR7e1NLZjx8awbKke3/tBlt8oZ2qjNfjJNaK1gG+9NowPtjVhZDAX8SfXKNJuINk58ThrQxou+EqGi4u9t8eG+/6jE6PWXpSVTkb/yvu1jk3g4JEuXLmlCud+yXVPWLn1T2pDADg7ZXJHjGPDx1CR6rDqUTnUdwSlA1mwmy04YWnHwgXrEJeUiL0D9VPgj+p7igKm9z25gMX7JwNB6G+lAEh1aS2gOF99q3MtoHgtyw9Ir3cdbRGpbNbMLUFiUjz2HHcA36qqScufOwRSLsD9P/0BdF0twuVr0Cc5MreMjyMuSQ9zchZQVI48PTBus6L42luQmONI7Oxtazn5HCm1Cor+Pm/Eh9s70d5uQn6+HkWFU/f5NZtt6Ow04vyNZVizepbPiGJ/jzCtrYN0vukGQrvZCGNTLeyjQ2g81gldeg502cXOaOlItRIyAPq7W/l4OBVgAFShdjQCYLCXG0prn6cxPf3kEN5/z4iFsp02PNUbHLBjaGgcP/9Frt9t7EIJf9LY+sy70d2pQ93hxSLgg9bgFRYlioTOFCDiqbzyxj68/bIO2Rn5yC9McHFnC9dvvQXF84dw8/eWIz3T1SUYDAAeHjqOuWkLxVAODNZiQfp88Xe4AVBAn4eIYHcIlFsBJf3ku4XQe/4g0HjsELqf+wMS8mahp6nVkbA5xYC45BQk5uaJYIvO7kHHBtntjajadA0yVq1zma5AQZAae7IKNjUN48UXjyE7W4+hwVGXc8wqcGwbR6Wzy4isDD22bF6AxMTJefeVXkbJ51tr62A4gXDcZsPg3k8xdHCXyJEoysSESNtjKCxF9tpzkVI2N2IjjxkAldyhXCdcCjAAqlA61gEw3NAnn4oHf9+PffvGRLSvr0KRty1NVvzkZzmYO8+zCzsc4CcHwFT96QHdVe2je7Fv+zy8//YQ+nttIo1MfDxgNo8jMTEOhfMGcNE3dZhXunJKv9EGgHQBlBSairsbWAChzApIr+VRweL1ySTR9HcgEDh/tB09rz4HQ8VcB1ydTCRNfxfmuua97KzZD6w+F7ql65y7iciFVwKCVN+bVfCTT9rw4YctqKx0O2/HoMv8ZmeloavLhE1XR5ewAQAAIABJREFUzkd5mffUTDMFCClFTs/2twUAErAnZuVAF+/4UWU3mzDW24n45FQUbLwEqXMWTfmsRIL7mAEwoEcjVw6xAgyAKgSORQCcTuiTT8Xjjw1ix8cmsY2ar0Jb2PV02/Gz23JQVu4KixL4UXtDgFAWzG1B1r9A4U/AiGkvsgyr0dttxf7PTag/bobVNoHcvAScsiIFyaXHMSs9OPij/uUuYLn1j46F0wIooM/LOkA6Js8LSK89uYLlEEgASGVVpcz168EdTHX2/PXviHvvz5i1eIlLUmUJBOUQaK4/jpwLL0FDuiP5tbSlnPs9oRQE3WGwp2MC1dUdKPMBdZ0dji3qOjst2LB+Fr50wQJFt6TWMEgnVRNMIg1aC5fxyPH96HjnRZEzMSF1KhCTXpbOFiSkZaHkipuQIEvl4028cEMhA6Ci25grhUkBBkAVQscKAIZrXV8gUn+ywyQigOfN953vr77OitmlCfi3n7mmrwmn1Y+ui+CPSqAAKMGfL21ajfuRl7xiShW11r9wAKCAvpP5AN0BULx2Cwah99ytgKtmF2GsuQljjfWobenA3NJi6CurkFhUgj21bYogkPIAHrzvNyLqt7CizEVLOQTajSOwDfRj1ub/I7aOE/B2qNknCNLBQGDw2WdrsG9vHwoLk1FY4H3XHavVjo4OE1YtT8esWZNpYfyllpEuzh0G6f1AAkmofijcxeK+CzAPIcFd+5vPwNhwFMkljnnxVCi/o6mtAbPO/zoylqwK5JHjrBvK6ONwAuAT73kPArnufA4CCermiLFGDIAqJjSaATBSLH3e5Keo5bvv6kVv7zgq5yR4DPCgdDCN9TZc+y8Z+MJGR9qOcIOfNH611j9vOhD8UQkFAMqtf3SOUKwBFJCnEACprrsV8PN/fo7yA5/DUl+LcbMZAyYLMD6B3Pxc6KvmI+vCi1HTZ1YEgb1v/Rkt7/1NBHsU5mdPkZzWAE60N6FoxQrM2nSDi6VQgkBq5M0iqBQEGxuG8NKLx2AfH0NS0uTaPncY7OoyIj09CVu2LHLW85daxtfjTK11cDqB0DrYh+bnHxL5GhNSfW9VaWprRNqcxSi8+CoVT3fXplpBIQOgZlPCHWmgAAOgChGjDQAjHfrcp4KSPz/xhyHQLiWlpYnQGxwJqimtSl/vODo7bTh9XTJuuCkDFjgscFTC4e6Vj1UN/FE/5P71BYDe4I/auKd/ofd8RQD7CgChtksyHGvkpCTQ9LeaKGBqHygAUhuyAlrb29D33J/QXVuH/DlViE917OTR3jcIGEeRYxpBUnklcjddjZpekzgmdwfTawoOkaKDyQrY8+Iz6Dx8BMgpAAzJKMx1BF2M0xqyjlYM6JKBDV8D8oucW8nJ50YLEKSUQS+9cBQN9UOYXZYugn46O93W/2Wmor3diPPOK8XatYVe749ggTAU1kEapBbuYurH3UI4r0yPlhcfEev+4il/o49i6WqDvqAEJZff4LOe2oPBQCEDoFrVub2WCsxIAGxoaMBdd92FDz74AB0dHSguLsbVV1+Nn//850g6mR9MiciRDoCR6NpVoqu8zt49Frz+6ggaG62wWSlPLqU2BrKy4rH2NAM2XnwUKQ4uCDv40TmDdf1S21C7f+kc7uv/6D0lEcBUb2nWHKGrlgBI/bmvA6T3pGhg+pusgKtnF6PvqT/CdPAA+rLzQUkSizMnLT/t/UMoTKPdS2qRfuZ6ZH/lUhEUQsUXBFp7e9D/tzeERbGvm6JIdchKNUCXlAT97Apkn38x9CVlLlvJebpnlYIgtfXkHu7oGMWbr9eBkkHn5hmQmurIA0g/bupqezFqtKG8PA2nrcvH6uWuLmtvn6FgYZD6i2TroBjfh3sxtv056BL10CWnoaBoMlraXQ8TJTafuwSFF20K9HGjur4/KGQAVC0xd6ChAjMSAN955x288MILuOqqqzB37lwcOHAAN910E7Zs2YL77rtPsbyRCICxAH3uE0D59Q4dHENTk9W5F3D5/EPIL3DAYLgtftL41MKfANkgrH/UbjrW/wl4627CqtxyIYGSPICijcwF7A6A4rVsHaAEgMtgR8/WRxCXmYX4tDQQ8MkBkOrRe/njju3cCm7+LhKyc3xCoIDDqhIRXDHW2gRzfS3q69uAhEQsWrsS+rI50FH49ckibSVHL2lPYa1BkFy8n+xoRWPDMEy0DR0ZuCeAzEw9Fi/Jwbp1RTh63LGftFR8JZuW19MSBqnfQNcOUhst1w+KgJi3nsXIiQNInj0HXa39LrpIQDhht8Hc1oRZF1yB9EVT180qfrhrWFEOhWaLCbc/cjMGBweRkeHblR3sEKTvpSff8b4G8NoLeQ1gsPrGUrsZCYCeJvDee+/FQw89hLq6OsXzGykAGIvQ520Swh3Z6+tmCNb1S32qtf5RH3L3L732lwDa3f1LbYLNAUhtQwmA8Z9Xo+CT7UiqmuvY+7d/SEyFuxUQE+PI6e9B7lVbkHLqclHHlyWQjssTRtNr96TR7nMugaA3CKT6gVgEqb5kFSSwKc7NRXvbiNhNxmBIQHl5OtLSXaPfJ2xW1Lz/GSaGesR+xrqUdJy64UzES+ZvP08tLYFQCxik4QbqLh45cQidf3kWCelZSEh3tQASEJKWE/1t0KVmY9ktP0T8ye38FD/Qw1DRaBzFFTedzwAYBq35FP4VYAA8qdFtt90Gsgzu2rXLq2oWiwX0TyoEgKWlpWhvexQZGf43b/c/HcpqzCTgkxSJJPCjMamFP+rDn/WP6gQb/EFt3XcA8bb+j+oGEwBC7VbnnbQGdjRjbUGpmC75TiD0OlALoBjPSy8jf+dn0Fc51iRS8WYF1LU0ouqa65G6co2zrnuOQOmAp4TRzmNuW8i5fxpDCYLSuTztPTx6/CAGPv0AlvYWUJQrGQoHh0xAejZ0VUuhW7QGy5d6j4x1vw4tYZD61gIIlcAg7drS98m76N+1Xezekkhb+iUmCfAbN43C0tuJxPQsFHzxctR1uiZMP2Wl4z6d7sIAON0zwOeXK8AACKC2thYrV67E/fffjxtvvNHrHXLHHXfgzjvvnHI8HAA4E6GPhI408KMxqXH9Uns11j9qr9T9S3WlLeCU5v+jNoEGgFCbnSoBkPqQrwPc8/qbKPh4m9MCKAEg/S+3Ak7YbOg8cgTzbvo2khdPbn8nruNE65T1gPS+FhBI/WhpEaT+PK0VHDm0Fz1/exXjYxYk5RciTu/Y85pcndb+XoyPDmOwaDHiVn4BujgH9Ch1E1NdNTAo2u9pdHkeBgODop9dDS79eANCSgY9tL8aQzU7YenpoL38BABSYIhh9hxkrznHY5oY96CS6QJCBkAGsEhSIKYA0BugyQWvrq7G6tWTUZdtbW1Yv369+Ld161afcxNOC+BMBT536KPX07XGz9PNoAX8Ub++rH903FfuPzquxv1L7ZUkgKZ6SgJA1AIgtXdfB7h7734kPfsU8rOzkZA9mbLF3Qpo7epEj8UO66ZrsXrhpLVQAkD63z0oRC0EUnsl1kCqF6hrWA6CE8ZhTLzzDLINOugLPa9BtI0Mwz7Qi4KvbUbqwlNddh8JFAbVAqEWkcWeYJDecwdCAmJTSx1oj2cKEErKLYB+1mxF+4EHmoNQyy/scALg03/1vgZwy0W8BlDLeY3WvmIKAHt6ekD/fJWKigoYDI5f0QR/GzZswGmnnYYnnngCcXFxAc2j1msAZzL0uYNfJEGf/KZQ4/qlfpRa/6hupLh/ycLS22bG+7tqUZ6Uh4SkOPRkDGPjsnniC1du/RMw2N6CtbMc7mABd36CQDwBoICsx7Yi//BBJFVUiChdKvK1gOMmE8Zam5F5wUU4XrFYHJdvFUevva0HpGNKLIFUb+XcyZ1G5PeCkiARqX4wIDi0+1PUPvs0MKtMQA6VwvypgQPmpjqkzl+CgsuumQJA3rajU/KgizbroJJr8lQnnEDIABjsLHG7UCgQUwAYiECtra0C/latWoVnnnkG8bLoP6X9qAXAmQ58ks6R6Ob1dA+ohb9AANAT/FH7YN2/1NZb+hc65i3/35yJEnzyRguqd7cj2aqH7mSk6rDOguWnFuGML89Gra7Huf6P+tIKAHcdOorKHR/CfOQw4rKykJCbJ6J027v7kG+1wD46jJRlK5F96RWIMxiwu651CgCqgUABiX7WBQpQPdwibhdfLmH5/aRkZxGq3/H84zDVH4dhtmP9WkenIxDGHQRtQ4OYGDOj5LrvISFzaoJrqY0cBum96XQV0/lD7S5W+hx3rxdKIGQADHZWuF0oFJiRACi5fcvKyvDUU0+5wF9hofekq+4TECgAugMf9RefdHoo5jXi+4wW6JOEVOv6pX6UWP+oXiBbv1H9QKJ/qb4v96/4Yj6Z/+/jE7VoftWO5mPDsGVZUVmQKyxMZBGs7+pHfH8i8kuSUXRxCjaeUuW85zQDwMZWwGjE/IYTMO3bA3tvL2VJQb/JgonsHFSuPxdpp50h4I8KASAVdysgvResJZDaKoFAqhcsCFJbT7uLtD3xIKw9nUiaVTzl8yyHwfy0BNgH+1F87XeRlFeg6LOvBgbpBDPFOig+LwFuW+drAhgAFd2eXClMCsxIACR37/XXX+9RYvpyU1qUACBb+VzVjDbwo9FrBX/UV7Br/6itEusf1fMX/Ut1/KV/oTp/eHwvuj6zo3ReGjrGhlGcnCUms3V0EMUpWSJpccvxYeirdPj291Y73Y9aASCdS9oazj4yAmtzE8bHxhBn0OPgRBJWz5uETukuCwcE2gb7YWmqd4xFr4e+tBIJmQ5tAnELS2P25h7ufOkJGI8fdu5J7O251FHXAsqSrvvydVixapHSx5ezXqzAoABThcEkAYska6AmoIQBUI3y3FZrBWYkAGoloicAZOCbqm40Qp90FVrAH/Ult/7Rj4y2ZiuOHzaD9jNOStKhokqPynl6dFgOeF37R/0oCf6gevLoX3rtyf0rgGWg3qP79+PjtTiw1QhdnA5ZeXq0GgenACC1Nw5Z0dA5gJt/uBIFpanC/UtFizWAcgB0v6t217didZnntXneXMHUh7fIYDrma00gHbcPD2H/iy9DV38UWbDC4Q8HEjIykbJ4GTLP+gLi09JdQFCpW5gauYPg8N5qdL/5PAyllS4Jqt21MDfWIu3UVcj76ibUHHDoT8VTShl/zz61MEj9zyTrIF1vIEAYTgB85k3vQSBXf4WDQPx9FmbCcQZAFbMsAWBd/U1Iz5hM3DpT3bpyKeXQR+9HalCHv+nXat0fnYesf329Nrz5Yj8O15gwMmwXgEVAqDfEIa98ABsv02HZopVThuXN+kcVle79K76sBms9Wv8EHPU1ON2/r79/GEdfNGH23DS0m4ec8Ef1JAsg/d0yPIDeOjMuu3oRlp8zy+P6P6q3tmgyilW+FZx0oe5RwNL7kgXQ0zx5g0BfVkBxnV7Sw9AxbxBI6+x6X3kW5hNHMRBnANIyUZiXBUpLYhvoh72/F8nzFiHvsm9OgUDqNxgQnDAbkf+P12Ht74G+pNxjhKt1oA/jo6Mo+Po1SJm70CmTPKVMsDBI7dQCYaTAoADTMFgH/QEhA6C/Jy4fD6cCDIAq1JYAsKE1vImgVQw55E2j2drnLo4W8Ed9Sta/gX4bnnyoG8cOmVFUkoiMzHjnl/roiB21DT0oKc7H1d+ehdJKvctwwu3+/fM7h1D7mhml89JdrH/uANg6MojxNh3O+kopVp9X5DcAhNoHCoDUZk3pVGufPysgtQt0PaA3COx942UM/3MHDOVzoEtMREePIyCjMMcRlTtuHcNYUz0yzjwXORde4jJ3ga4NlDfe995HwI63gZFB5M+pQFxqmmPPYIsF1t4uUB7ErLPPR9bZ53lNgRIrMCggLsx5B9U+MN2tg2aLEbc/eENYdgJhC6Da2Yv99gyAKuaYAdAhXixBn3Q7aOn6pT7J+vfac314761BVC0wIDHR4T6UypC1E7T8tKM2C/NPScFNPyxEXJyjDsGfgI3kZS5tPAV/UAW17l/K/dd2wIgjz5tRXJnicf2fNBCyAE60xWHjNypw6pkFQQMg9ReoFZAAkEqwrmBq6ylHIL0vtwRa+3rRufW/BfglZOU458AdAq19PaBJLLqRonEdawLlJVgQNDfV4+jrrwPtjcCYGZnpKcIlTMEhGavOQNrSVdAFkMLKU8LpQB+Dai2DdL6ZaB3c9fEBBsBAbzauHzIFGABVSDuTATAWoU+6FbSCP+pPsv4NDtjwu//oEIET+bMSp9x1BIApiUUwjtjR02XF//lhEeYscGwvGG73LwHggsRSPHfvYbQODiG9INHj+j8a24nWXmTrUnDF9xciuyA5rABI5w/WCkhtfUUGyyFwwWArel99HvqKKo+gJYHgrKw0WBprkX/51UhdOtWNT30GEyRC7WiZwFhHK45U7xe7XyAlDcvOWYe4xKn3UiCPNC1gkM6nFgjVwqAAyhBZB6lvJVvVKdHdaBzBFddvDIsF8E+veV8DuPkSXgOoZL5ivQ4DoIoZnmkAGMvQJ78NtHL9ygGw5nMjHnugC1Xz9YiPd7X+UT0JAOnv44dM+OqmXGy4yGFFCof7l84jpX+Rdv/47C9teOvlE1g4Lx/6ZMc2Y/L1f039/ehrtGD9F8px3lWVigJAqA9PLmDxflOLy3Zw0pz4WwdI9YKxAiqFQF1NNXL3fAxDpetOI/J7RoLArKEu5F58OdLXnOHzyRKsNVDeaTDJpX0NimHQszparh1kAFTxhctNNVeAAVCFpDMBAGcK9Em3QSjgj/re/Y9RPPE/XZi/2GHVkxc5/EkA+KXLcvDFS7I9wh/VCaX7l/pfnl0Ji8mOxx/eg9EjFPOQCGOKBXEJOhTqMzHYa0Fj2wCWLy/EhVfPQWpm0hTrn4A6t11AvAGgN/ij+r4AUGjrIyJYHPeSIFqaA3+WwL1v/AVx77+FwlNP9bnVWEf3ANDWhLnX3Ii0ZasUPVkiEQRp4JGybpDGotY6qJVlUIxFZSAJA6CijwVXCpMCDIAqhI5FAIyV6N1gplVL1y+dX5765dA+Ix75XRfKKpOQlOS65aAcAMnVd+KQGZdtycPZX8ycFvcvwZ9UPm1ugK5Gj8PVvahr7kdWUgp0E0B6rh7xlRP4+teWIDXD4Yb0lP+P3nePABbvFbvubRtqAKRzegoIkUOgt/WA1p4uHL7/HiBJj6Iyz3vyUj+2/j709A5i/JJrsXLlEsW3YLBuYU8n0NoqGGswKCBOI1dxMEDIAKj4Y8EVw6AAA6AKkWMFAGcy9EnTH0r4o3OYTeP47V3tGB6wo7h0MmUQwR8VWv9HZbDfJtYB3vLTEliyT4j3Ag3+oDaHh4675P6j97wlf6Zj7u5feq+6uwmrch3bkJlHbXi3uhZzkwuQmBSHwoo0HDR2BLQFnOizuWUK/In3vbh/6ZgSC6AAPC95AemYWitg76svoHXbNqC4DEX5U7dbo2hcyseXvvYs5H7164p3D5E/frSwBkr9hQIEtYRB6iuW1g0qhcFwAuBzf96BlNS0Kd9wxtERXHXZWSFdh6jia5WbhlEBBkAVYkczADL0TU681vBHPXva9u39vw7i1Wf7MLs8CalpjjV1cuufdWwc9cctWHt2Oq66KR9NxsMe4Y/aBZv7j9p6S/5Ma/+oSBZAOQDu7GwWx1bnOYBwZ0fzFPij930lgA4WAJVCoD8AFOOv8Jw8mo75cgXb+nvR++Kf0HnwEJCdi8LSEue2ePbBAZGSxVA5D3lf3+yMAFa6hZwnCKT3Askd6OsxNhNgUADY3iYXGZaeUhrQ011Ly6A3IGQADGhKuHKIFWAAVCFwtAEgQ5/nydZy3Z83+KP3xyzjeOHJPuz8eBip6fEw5PQjMQnQxxWit8uK/l4bFpySgs03FyAzO0GT4A86r9Lkz1Lwh6SSOwBK8OcNAOXwJ2BP4fo/UdeHBVALAKQ+/CWI9g+BfRj84G9o3bUbMI4iOz1FpH2JS0tHyoLFyNxwwZT0L8FAII1DS2ugNJ9yEKT3PO0/HOzjUKs1g3R+tZZBLWBQ9BECVzHlAbzjt9eG1PomfS+xBTDYu3nmtGMAVDHXkQ6ADHz+J1dr+PMFgBIE7vhgGDt3jKCuqQeJOkekb05eIlacnirW/WVkeoY/qhdM8Ae1U+P+FcDX2ey0/ikBQII/KvL1fwL0gnABKwVAqufLCihBoC8roD8IpOPW7k4c/KQasI5hfkUJ9OWVSMwr8HqzBQuBoQJBAVmHHBZdKlqCoNSnVhHFYqz7J8dKr5ct8b4O09MkqLUMUp9awaCwAG7ZwADo/9HMNcKgAAOgCpEjEQAZ+pRPaLhcv55GZDGP45/7D8AwPh+JSTqUVhqQnulwC1MJVe4/6ntJhiOdiXzrt0Ddv9R+bYHDxaZk/1/pukIFgNS/v2hgUafuZPJoH65goY2P7eKka/G3d7B83rWAQOpPK7ewfGzhhEEBnIsCAziXsaqEQQFz0+gqDicAPv/Sx0hJ8bAG0DiCTVecHVIIVf4U5prTqQADoAr1IwEAGfiCm8BQwB+NxNPaP08jbDXuR17yCo+DV7rzBzU+NnzMufMHvZYHf9DraHD/0jjVuoCVAqAEgf6sgJEGgTSeULiFvYGgALWFwYOat0/lTHcVMwAG97zmVqFRgAFQha7TAYDuwEfDN+hPV3EVM6/pdMMfKe4PAN0jf6lNMO5fyfUrAGKg3qP1T0BRT6PH4A86Fqj7VwBdAOv/pgMA6Zz+INBffkDpkxOIJZDakDVw5VzvwSj+PpGhBkE6fyjXC0rXNxNhkAHQ393Nx8OpAAOgCrXDBYBs5VMxSW5NQwV/dJpArH9U35cF0F/qF2ofqPWP2mjt/hWA2N7iN/pXQF6Q6/+orb9UMNI0K3EDC+ANwBVM9b3lCFQDgdQ2WBDUMnegv09XqF3EdH4tYVAArMau4kAjimkMntYNMgD6u9v4eDgVYABUoXaoAJCBT8Wk+GkaiqAPCf7o/yzDar+D92f9ow7UAiC5fql4Cv6g993X/8lTvwjgOZn/T0vrH/XrngBagKGfCOBQAKAEgf6sgEKrE451g5EGgTSmcFgD5Tc0w6BDjWCBkKKA7/zN1SFdfyd9L/EaQL+P4hlfgQFQxS2gFQCyW1fFJATQNJqtf3SZ/nL/UZ25aQuFIvK1fwIUotj9G0oApL6VQqA/AKS+gnEHU7tgLYFyCKS/QxEk4u0jFg4YpHNraR3U2jIYKAySBfDKzevDAoAvvLDdaxDIN75xTkjHEMBjmatOowIMgCrEDxYAGfhUiB5k01DDHw0rUqx/7gBI8EclXO5fOpfS9C9U158FUKn7l/pS6gKWbiN/O4TIbzclkcHTBYFyEAwnBNJ5w7FeUJqHaIdBBsAgH+DcLCQKMACqkDUQAGS3rgqhVTYNJfzR0JSu/aO6/ty/wQR/UL9abf1GfWnt/hWQ52P9Hx1fU+I94jRQAKT+/OUDlAOgqO8nLQzVUeoKnk4InE4QjGYYFGOXrRsMNNegdD/JU8x4chMzAKp8mHNzTRVgAFQhpy8AZOBTIayGTSMN/ujSAg3+oDb+3L+S65fqzlT3rxPq6lsVAyC1CdQKKCC50n8U73S4gyUNwr020NNHNlotg+4wSK+DAUJP+QYZADV8uHNXqhVgAFQhoRwAJ5IOuPTEqVlUCKth01AFfUhDDLf1j84baPSv5PoVVqy+BizNmiOG72/rN6qjdu9f6sOb9U8c0zAAJFgAjFUIpOuKBBAUQCXbeYRehyLHoDT/WrqJtYZBs9mI//jlN0O6/k76XnrxTx95XQMY6nWIGj7CuasQKsAAqEJc6YNWU3cz8vPWq+iJm4ZCgXDAH41b6do/qhsK6x/1qzT4g+p6AkDa95dKON2/kQaAAngVuIIFSCvYKUS6p8kSuKrKv8XQWf+oI+pYTWCI/PMUzpQxSj7H4YRBGk8kbUtHFsBQB2AwACq5C7kOKcAAqOI+kD5ox1q2Ij0jRUVP3FRrBdxdv4MDduzfY8Ln1UYMDozDYNBh6QoDlq1KQWFxYlCn19L6RwNQm/qF+nDf+YPeCzT4g9rI07/s7HDsxSpt/SaOu+X+EzAXRPJnaudr/R8dD2QNINUPNBBEmvxAXMHRBoE03kixBso/bNMJgzSOcG9LxwAY1KOWG4VIAQZAFcIyAKoQL4RN3eHv8AEzXnymH+0tViQZdEhOjoN1bAIjI+PIzonHl76WgfUb06DT6RSPiuCPSqisf9S3v50/qI7S4A8BLAG4fyXXr4C9juYp8CeAcJZjL2Bv8Cfe9xL8IY4pcP+GGwDpfIFYAam+kvWAVG+6LYFyCKS/wx0t7O/DFc0wSNemJMUMA6C/u4CPh1MBBkAVajMAqhAvRE3d4a++1oKtD/ZicNCOijlJiI+fhLyJiQl0tttgMo5j07U5OOOcVMWj0sr6RyekvX89Wf/omL/gD6qj1P0ruX6pTTi2ftMCAAO1/olrCzAIRD7pwVgBlUJgoEEhAho1dgdL1xqJ1kD5PMQqDIYTAF96epvXNYBXbNkQ0nWIih+kXHFaFWAAVCE/A6AK8ULUVL7ujwDvjw/1Yeeno5i/WO/VwtfcMIasnHj8v3+fheSUOL8jC8T6R535S/1Cddj961n2YABQDQQq3SJOPtpQpocJBwTSOSLNGhirMEhBIP95x6aQwpf0vcQA6PdRPuMrMACquAUYAFWIF4Km7kEfbS1W/PbuTqSmxSMrO97rGckd3FBrwQ235GHVaf7XcgZq/aMTBxL8QfW1dP+S65eKVsEf1Fekun+lSQ6nFZDOGWhQiLAaTmNgiPzDEOnWwOmEQTq3lkEkO6uPMgCG4NnPXQanAANgcLqJVgyAKsTTuKmnfH97dhnxyO97MH+Rd+ufNIxjh8z4yuWZuOiSTJ8jiwbrH13AdG/9RmOYjvV/WgEg9aN0LaB0zmiGQHHPHG7H31GzAAAWxUlEQVQRlxLJ1sBIgkEaS6BBJOQC3nTF2WwB1Pj5z90FpwADYHC6MQCq0E3rpt6SPVPE76P/1YsFi/V+T0kA+OXLMnHxpf4BUEngB52QXL9U1Fr/qI/pyv1H5/YV/UuRv6JOketOHv7gj9ooif4V9UqVp1DRAgCpj0DXAlKbQFzBVD+S1gRKukUbBErjDveaQTpvMPkGGQD9Poq5QhgVYABUITZbAFWIp1FTXzt9UADI73/djdz8eKSle3cB2+0TOHHEgmtuysEZ69O8jkxL6x+dJFzBH3Qurdy/ctcv9esp9Yt4fxqif+UTp8YF7ITIutagrIDUPpDIYFE/QtzB0Q6CNP5IhsGwAuAf3/ceBHL9xpBaITV6vHM3IVaAAVCFwAyAKsTTqKmvZM/j4xP4n/u7cfSQBVXzvVsBO9utIjr4x7+YhUwfawUDWftHl+cv+EPJvr/UT6DWP2qjNvcf9eEp/YsSACT4o7K22PP+vqFK/xIKAKQ+g3EFMwRq9AHXoBs5EIZyBxJpqL4sgwyAGkwod6GZAgyAKqRkAFQhngZNlez0sW+3CU880ovEJB2KSqYmfB4asKO9zYavXp7hc/1fMNY/ukS17l+CPyoVqYudioUq95+AnbxycR6luf8E6EWY+5fGpIUFUPQThBWQ2gWyHpDqB5ojULQJUYoY+Ucz0nYRUfvYmG4YnF+eFb41gGwBVHu7xHx7BkAVU8wAqEI8lU19uX7lXVMqmB3bRvHGywMYGhpHTm48DJQI2jqBvh6bsPyd/YU0XPqNLCQmek8ErbX1j8YYbOoXaqs09x/VnWnuX60BUICxwi3i5PderEAgXVO0rg309ZgJNwzSWP5ZfRR33/aNkLpfnWlgGABVfsvEfvMZD4AWiwWnnXYa9u3bhz179mD58uWKZ50BULFUmlZUCn/yk9adsODzfxqxd7cJY5YJxMcD8xYZsOb0FCxeanBJEO0+2Omy/tE4psP9q3brN2EVnEb3r5YAqNYKSO1DuR4wXJZAOQTS39ESKaz0wRMuGDSOjuCqy84KDwA+9h5SUqYmtzcaR3HFTeeHdAxKded606vAjAfA73//+zh+/DjefvttBsDpvRcVnT0Y+JN3TLt+mEzjwtqXlh6naPs3La1/NJZAgj+ovuT+JdcvFbn1j14vSJ8v3penfqHXkbj1G40rlNG/0lxr5QKWAJD+D9YKGEsQKAfBWINA6d4JZRAJA6CixzxXCpMCMxoACfpuvfVWvPLKK1iyZAkDYJhuOjWnUbLuT03/ntoGAoDTlfrFHQDl8CcgpqcRy7MrxeVVdzdhVa5jrR+VnZ3NzrV/4rWHvX+VBH+Ivqc5+jcUAChBYDAAKED8hCNVTqxYAuUQSH/HKgjStWkNgwyAWj+duT81CsxYAOzs7MSqVavw2muvIS8vD5WVlX4BkNzF9E8q5AIuLS3FsZatSM/wv4OEmonitkCkwx/Nka/IXzruyfpH7we68we1OTBY62L9o/cCjf4l+KMiD/6g11rn/hNw2NTi1/pH9YLd/k3+GdHSAuiEyiADQiQIVAqAVD+YHIGiXRgCQ+Q6x+LaQG/PWi1gkAGQv8kiSYEZCYAUGHDRRRfhzDPPxG233YaGhgZFAHjHHXfgzjvvnDJ/DIChv6XVun6DHWEg1j9/AEjwR8VT8Ae9PzvlFOcwPa39o4NK3L/RvvUbXWcwyZ+doFbvsLitLgs8gbSv+ySYfYLl/QUTFELtA8kRyBAY7Cc9sHbBwmBYAfCRd5CS7GENoGkUV9x8Ia8BDGzKY7J2TAGgN0CTz1x1dTU+/fRTvPDCC9i+fTvi4+MVAyBbAKfnMxBN8EcKqU39Qn0EEvxB9ad767dIyP0nB0Ct4c/Zt0oroAC6SuVgGi2WQHEPRtlWclo9zQKBQQZArVTnfrRQIKYAsKenB/TPV6moqMCmTZvw5ptvugQA2O12AYObN2/Gk08+qUhbjgJWJJOqStMFfzRoLa1/1F8o3b+S65fOE0jwh7CUyXL/0Wut3b/k+qXiL/iD6kSq+1cOgEKzINLCiLkJcD0gtQkmR6BoF2Z38EyGQOn+8AeDDICqvg64scYKxBQAKtWmqakJBG9SaWtrwwUXXICXX35ZpISZPdvzDgbu/TMAKlU8+HrTse5Pgj/6X8t9f6k/zv3n/V4g+BOgGMTev/JeQ7H+z6V/FVZAhsDgnwXR1tITDDIARtssxvZ4ZyQAuk+p0jWADIDh/TBMF/xJAKgU/qi+VsEf1Fcg7l9y/VIJNPiD2sijf2Mh9590d4YDAOlcwVoBJQgMhyuYzkWWwJVzlbudtfqUz1SXsCf9JBg0m4341U+uDOn6O2ciaF4DqNWtHLP9MAACitcAMgCG73Mw3a7fQKx//gAw0OAP6i9St35z3/aNxqpF6hfqRwv3L/UTagAU51BpBWQIDN+zJJLORBbAzZecGR4A/J+3vAeB3PLlkI4hkjTnsXhXgAFQxd3BLmAV4vloOp3wF6z1j9rNxOAPrQBQS/gT1jmNI4A93a5qITDY9YA0lkiPDJbrxZbASTUYAEPzncG9BqcAA2BwuolWDIAqxPPSNBLgT0vrH/UVyuAP6j9Q92+4cv+FO/gjXNY/6dZVmxZGsgIKoIvRyGAGQdcHHQOg9t8Z3GPwCjAABq8dA6AK7bw1nc51f6Gy/lG/WgV/UF+etn7TOvdfuHf+oOtSG/wRbgAU59PIFcwQGIKHSQR2yQAYgZMyg4fEAKhi8tkCqEI8D01nsvWP5Agk+IPqc+6/qTdRONb/yc+qhRWQLYHaPkciubdwAuCL//W61zWAV37vawGvAfzf//1f3HvvvWhvbxdbpz7wwAM4++yzvcr90Ucfia1WDx48iOLiYvz4xz/Gt771rUienhk3NgZAFVPOAKhCPLem0w1/wVj/qE0w0b+07RsV950/6D1vwR90zH3rN87953oTEfxRCcf6P3cIVBMRLPUV6E4h1C6acgTKNZup6wKjFQBp44QtW7aAIJB20HrkkUewdetWHDp0CGVlZVO+COrr63HKKafgpptuws0334xPPvkE3/nOd/Dcc8/h8ssv1+6Lg3tSpQADoAr5GABViCdrGgnwFwwABgN/dB73fX/pPSVbv0muX6rvbv2j95ZmzRGq7u5pxPLsSvF3dXeT+H9Vbrn4X576RbzuaPaZ+Fn00dqKUEX/apX7T1x3fWvY4U+6jbVwBVNfMwkCxX08w3YPiVYApPy4K1euxEMPPeR8ci9atAiXXHIJfvWrX035IvjJT36CN954A4cPO37sUiHr3759+/DZZ59p88XBvahWgAFQhYSDg4PIysrC54f/G2npySp6mrlN+y17xcWnJK2ZVhG6zPuRpV8R0BjaTAeRa1jmtU2z8QgKDJP7+0oVG0aPoSRlkUu7E8MnUJa60Pne0aFazEmb73x9eKge89Lmitc1gw3i/0XpVeL/ff2NWJJZIf7e29ss/j81ywF8n/e0YHlOqbOf3d2tWJEre93ZilX5kznidne0YVWBa864z9vasaqw2GW8n7e2TXlPXuHzljasLHJt40moPc3tWFlSFJDu3irvbWzHilJt+gp0QHvr20WTFeXqzr+vztHP8gD6qak92aYy8HPXHHe0XTYn8LaBauSt/v6jbeLQ0rn+7xetzjld/RiNo7jpm1/EwMAAMjMzQzIMyTDxxG+eQ0pyypRzGE1GXPeTq9Dc3IyMjAzncb1eD/rnXsbGxpCSkoKXXnoJl156qfPw97//fezduxfk6nUv55xzDlasWIHf//73zkOvvvoqrrzyShiNRiQmJobk2rnTwBRgAAxML5faLS0tKC2d/DJV0RU3ZQVYAVaAFZghChB8Kd1xKlBJzGYzKisr0dHR4bVpWloaRkZGXI7ffvvtuOOOO6a0oZ2ySkpKhBv3jDPOcB6/++67xbapR48endJm/vz5uO666/Czn/3MeezTTz8V7mPqr6ho+n5wBKpnLNdnAFQxu+Pj4+JmTk9Pd9lXWN4l/RojSHT/taXitGFrymMPm9TOE7Hm4deczhitukfruKNZczVjn5iYwPDwsAiKiIuLC9nNThBIljtvhcah0+lcDnuzAEoASAC3bt06Z5tf/vKXePrpp3HkyBGPAHj99dfjpz/9qfMYAeRZZ50lgkgKCwtDdu3csXIFGACVaxVUTckcT+5iubk9qM7C3IjHHmbBZbkl+X4Jr/bReq9H67gliCI3KN/r4b3XAz0bu4ADVSx66jMAhniu+AEdYoG9dB+tukfruPkLne/zQBXgez1QxaavPgWBrFq1SkQBS2Xx4sX42te+5jUI5M033xRRwlL59re/LdYMchDI9M2j+5kZAEM8F/yQC7HADIDTI7CHs/K9Hv6pYM3Dr3m0/9gJRjEpDczDDz8s3MCPPvooHnvsMZHjr7y8XLh6W1tb8dRTT4nupTQwlAKGUsEQ9FEUMKeBCUb90LVhAAydtqJni8UifiHRB8RThFWIT6+qex67KvmCasyaByWb6kbRqnu0jpufjapv2bB3QNa/e+65R6zhoxx/v/vd70DRvlQo4KOhoQEffvihc1wUHfyDH/zAmQiaUsNwIuiwT5vPEzIARtZ88GhYAVaAFWAFWAFWgBUIuQIMgCGXmE/ACrACrAArwAqwAqxAZCnAABhZ88GjYQVYAVaAFWAFWAFWIOQKMACGXGI+ASvACrACrAArwAqwApGlAANgZM0Hj4YVYAVYAVaAFWAFWIGQK8AAGHKJPZ+AovcotxJtjr1nzx4sX758mkai7LRf/epXRQ6nrq4uZGdn47zzzsNvfvMbkdE+kgtFpt1111344IMPxNZINN6rr74aP//5z5GUlBTJQxdjo2z7f/nLX4T2NF7aQzQSC0UI3nvvvSJCcMmSJXjggQdw9tlnR+JQXca0fft2Me7du3eLsdN+pbTBfaQXyizw5z//WezCkJycLLboos/jggULIn3oeOihh8Q/+mxSofvlF7/4Bb70pS9F/NjlA6Q5oK3OaE9cut+5sALRpgAD4DTNGD00jh8/jrfffjsqAJBC/in/E+3hSPmefvSjHwnlaHugSC7vvPMOKIfVVVddhblz5+LAgQMiL9WWLVtw3333RfLQxdhof86srCzQvtOPP/54RAKglCOMIJD2+nzkkUewdetWkQS2rKwsojWmzx9tUbVy5UpcfvnlUQOAF154ITZt2oQ1a9bAZrOJHzT79+8Xmqempka05pQgOD4+XnweqdB+sgTh9EOYYDAaSnV1Na688kqxu9OGDRsYAKNh0niMUxRgAJyGm4K+dG699Va88sor4oEXDRZAd5neeOMNYSkhS2ZiYuI0qBj8KenLhiwQdXV1wXcS5pZPPPEE/vVf/zUiAZAs2QRQpKlUFi1aJO4PspJES6G9UaPFAuiuaXd3NwoKCkC516TcbNGiO40zJydHQOANN9wQ8cMeGRkR9zv94PnP//xP4b1hC2DETxsP0IMCDIBhvi06OzvFljqvvfYa8vLyUFlZGXUA2NfXB9rWhyyBO3bsCLOC6k932223gSyDu3btUt9ZmHqIVAAMZp/QMEkW8GmiGQBPnDiBefPmCSsgJemNlmK32/HSSy/h2muvFc9B2l4s0guNlYCVvCLnnnsuA2CkTxiPz6sCDIBhvDkmJiZw0UUXCTcZQQitgYkmAKRM7g8++CCMRiNOP/10vPXWW8jNzQ2jgupPVVtbK36933///bjxxhvVdximHiIVANva2lBSUiLcqLQOTSp33323cO0dPXo0TAqpP020AiA9V2hP1v7+fnz88cfqhQhDDwSqtKTEbDYjLS0Nzz77rHg2Rnp5/vnnhdWPfjwaDAYGwEifMB6fTwUYADW4Qe644w7ceeedPnuiNSO0Xo7WS9HCc1oDM90AqHTcq1evFtfW09MDsv41NjaK683MzBQQSF+c4S6Bjp3GR7Cyfv168Y/WqE1XCWbskQ6AdG/TF7pUKHjl6aefFkEK0VKiFQBvueUWEShE1vjZs2dHhdxkOW5qahJLGmgpDH0eyX0dyRbA5uZm0LPw3XffxbJly4TObAGMituNB+lFAQZADW4NAiP656tUVFSIRdu0AFoOTOQCIRjcvHmzsJiEsygdN/3SdS8UlFBaWiqgVv7FH67xBzp2gj9arE3r1Qim4uLiwjXUKecJdOzUQaQCILuAp+02Eif+7ne/K5aT0I9K8iZEa6GsAlVVVSKAKFIL6XzppZeK57VU6PlNz3N6ntB6aPmxSL0OHhcrICnAABjGe4F+8Q4NDTnPSFBywQUX4OWXXxZgEi2/3ukC6NcwRXhu27ZN/AqO5EJrFQn+aO3lM888E5UP6UgFQJp3undJW1oULxWy5JBbkoNAQvPJILcvwR8FrXz44Ydi/V80l40bN4oflHSfR2oZHh4W3g95uf7667Fw4ULQ8phoWnsZqRrzuMKrAANgePV2Odt0u4CVXvrOnTtB/8466yyRA5CiZylvF+VNO3jwIPR6vdKuwl5PcvsSrD711FMu8FdYWBj28QR6QvrRQG53irqmKElpjRel0KC1U5FQpDQwDz/8sLAGP/roo3jsscfEvVFeXh4JQ/Q6BoropAAKKitWrMBvf/tb8WOBFvlHcgqb73znO2Ld3Ouvv+6S+4+WZVBewEgulDuPcv4R8BFU0bq6X//61yIw6/zzz4/koU8ZG7uAo2q6eLBuCjAATuMtES0ASAu2KW8hJa0eHR0VuQApDxkFslAAQCQXsijQr3RPhawokV6uu+46j0sDIs3ySta/e+65R/woIEsIRUhGQzoSsp4R8LkXivSMZGuUt3W3f/zjH0H3TCQXSvXy/vvvi3uFgHXp0qXCghZt8EcaMwBG8p3GY/OnAAOgP4X4OCvACrACrAArwAqwAjGmAANgjE0oXw4rwAqwAqwAK8AKsAL+FGAA9KcQH2cFWAFWgBVgBVgBViDGFGAAjLEJ5cthBVgBVoAVYAVYAVbAnwIMgP4U4uOsACvACrACrAArwArEmAIMgDE2oXw5rAArwAqwAqwAK8AK+FOAAdCfQnycFWAFWAFWgBVgBViBGFOAATDGJpQvhxVgBVgBVoAVYAVYAX8KMAD6U4iPswKsACvACrACrAArEGMKMADG2ITy5bACrAArwAqwAqwAK+BPAQZAfwrxcVaAFWAFWAFWgBVgBWJMAQbAGJtQvhxWgBVgBVgBVoAVYAX8KcAA6E8hPs4KsAKsACvACrACrECMKcAAGGMTypfDCrACrAArwAqwAqyAPwUYAP0pxMdZAVaAFWAFWAFWgBWIMQUYAGNsQvlyWAFWgBVgBVgBVoAV8KcAA6A/hfg4K8AKsAKsACvACrACMaYAA2CMTShfDivACrACrAArwAqwAv4UYAD0pxAfZwVYAVaAFWAFWAFWIMYUYACMsQnly2EFWAFWgBVgBVgBVsCfAgyA/hTi46wAK8AKsAKsACvACsSYAgyAMTahfDmsACvACrACrAArwAr4U4AB0J9CfJwVYAVYAVaAFWAFWIEYU4ABMMYmlC+HFWAFWAFWgBVgBVgBfwowAPpTiI+zAqwAK8AKsAKsACsQYwowAMbYhPLlsAKsACvACrACrAAr4E8BBkB/CvFxVoAVYAVYAVaAFWAFYkwBBsAYm1C+HFaAFWAFWAFWgBVgBfwpwADoTyE+zgqwAqwAK8AKsAKsQIwpwAAYYxPKl8MKsAKsACvACrACrIA/BRgA/SnEx1kBVoAVYAVYAVaAFYgxBRgAY2xC+XJYAVaAFWAFWAFWgBXwp8D/B6qJ6lgwN8dtAAAAAElFTkSuQmCC\" width=\"640\">"
            ],
            "text/plain": [
              "<IPython.core.display.HTML object>"
            ]
          },
          "metadata": {},
          "output_type": "display_data"
        }
      ],
      "source": [
        "res = train_and_plot(30,net,lr=0.01)"
      ]
    },
    {
      "cell_type": "markdown",
      "metadata": {
        "id": "GqYU5cE13y3c"
      },
      "source": [
        "## Why Not Always Use Multi-Layered Model?\n",
        "\n",
        "We have seen that multi-layered model is more *powerful* and *expressive*, than one-layered one. You may be wondering why don't we always use many-layered model. The answer to this question is **overfitting**.\n",
        "\n",
        "We will deal with this term more in a later sections, but the idea is the following: **the more powerful the model is, the better it can approximate training data, and the more data it needs to properly generalize** for the new data it has not seen before.\n",
        "\n",
        "**A linear model:**\n",
        "* We are likely to get high training loss - so-called **underfitting**, when the model does not have enough power to correctly separate all data. \n",
        "* Valiadation loss and training loss are more or less the same. The model is likely to generalize well to test data.\n",
        "\n",
        "**Complex multi-layered model**\n",
        "* Low training loss - the model can approximate training data well, because it has enough expressive power.\n",
        "* Validation loss can be much higher than training loss and can start to increase during training - this is because the model \"memorizes\" training points, and loses the \"overall picture\"\n",
        "\n",
        "![Overfitting](images/overfit.png)\n",
        "\n",
        "> On this picture, `x` stands for training data, `o` - validation data. Left - linear model (one-layer), it approximates the nature of the data pretty well. Right - overfitted model, the model perfectly well approximates training data, but stops making sense with any other data (validation error is very high)"
      ]
    },
    {
      "cell_type": "markdown",
      "metadata": {
        "id": "rcKtTYD63y3c"
      },
      "source": [
        "## Takeaways\n",
        "\n",
        "* Simple models (fewer layers, fewer neurons) with low number of parameters (\"low capacity\") are less likely to overfit\n",
        "* More complex models (more layers, more neurons on each layer, high capacity) are likely to overfit. We need to monitor validation error to make sure it does not start to rise with further training\n",
        "* More complex models need more data to train on.\n",
        "* You can solve overfitting problem by either:\n",
        "    - simplifying your model\n",
        "    - increasing the amount of training data\n",
        "* **Bias-variance trade-off** is a term that shows that you need to get the compromise\n",
        "    - between power of the model and amount of data,\n",
        "    - between overfittig and underfitting\n",
        "* There is not single recipe on how many layers of parameters you need - the best way is to experiment"
      ]
    },
    {
      "cell_type": "markdown",
      "metadata": {
        "id": "vT1jjDAZ3y3c"
      },
      "source": [
        "## Credits\n",
        "\n",
        "This notebook is a part of [AI for Beginners Curricula](http://github.com/microsoft/ai-for-beginners), and has been prepared by [Dmitry Soshnikov](http://soshnikov.com). It is inspired by Neural Network Workshop at Microsoft Research Cambridge. Some code and illustrative materials are taken from presentations by [Katja Hoffmann](https://www.microsoft.com/en-us/research/people/kahofman/), [Matthew Johnson](https://www.microsoft.com/en-us/research/people/matjoh/) and [Ryoto Tomioka](https://www.microsoft.com/en-us/research/people/ryoto/), and from [NeuroWorkshop](http://github.com/shwars/NeuroWorkshop) repository."
      ]
    }
  ],
  "metadata": {
    "celltoolbar": "Slideshow",
    "interpreter": {
      "hash": "86193a1ab0ba47eac1c69c1756090baa3b420b3eea7d4aafab8b85f8b312f0c5"
    },
    "kernelspec": {
      "display_name": "Python 3.9.5 64-bit ('base': conda)",
      "name": "python3"
    },
    "language_info": {
      "codemirror_mode": {
        "name": "ipython",
        "version": 3
      },
      "file_extension": ".py",
      "mimetype": "text/x-python",
      "name": "python",
      "nbconvert_exporter": "python",
      "pygments_lexer": "ipython3",
      "version": "3.9.5"
    },
    "livereveal": {
      "start_slideshow_at": "selected"
    },
    "colab": {
      "provenance": [],
      "include_colab_link": true
    }
  },
  "nbformat": 4,
  "nbformat_minor": 0
}
